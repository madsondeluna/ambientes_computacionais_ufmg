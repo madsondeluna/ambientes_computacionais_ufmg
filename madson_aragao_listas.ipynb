{
  "cells": [
    {
      "cell_type": "markdown",
      "metadata": {
        "id": "yrAeihvJh1J4"
      },
      "source": [
        "# **Ambientes de Computação - Listas de Exercícios (1-9)**\n",
        "\n",
        "* **Disciplina:** Ambientes de Computação para Bioinformática\n",
        "* **Docente:** Raquel Cardoso de Melo Minardi\n",
        "* **Discente:** Madson A. de Luna Aragão\n",
        "* **Semestre:** 2025.1\n",
        "\n",
        "\n",
        "\n",
        "\n"
      ],
      "id": "yrAeihvJh1J4"
    },
    {
      "cell_type": "markdown",
      "metadata": {
        "id": "dsiaElBoh1J5"
      },
      "source": [
        "## Lista de Exercícios 1: Sintaxe Básica (OK)\n",
        "\n",
        "Digite, execute e entenda os trechos de código em Python abaixo."
      ],
      "id": "dsiaElBoh1J5"
    },
    {
      "cell_type": "markdown",
      "metadata": {
        "id": "VHzXiMBah1J6"
      },
      "source": [
        "### Exercício 1\n",
        "\n",
        "**Enunciado:**\n",
        "```python\n",
        "linguagem = \"python\"\n",
        "print(linguagem)\n",
        "```\n",
        "\n",
        "**Comentário:**\n",
        "Este exercício demonstra a atribuição de uma string (um texto) à variável `linguagem` e, em seguida, a impressão do valor dessa variável no console."
      ],
      "id": "VHzXiMBah1J6"
    },
    {
      "cell_type": "code",
      "execution_count": null,
      "metadata": {
        "id": "oRm_xdVth1J6",
        "colab": {
          "base_uri": "https://localhost:8080/"
        },
        "outputId": "c300eeaa-7900-45c9-a3c0-c2be5dbf6f6a"
      },
      "outputs": [
        {
          "output_type": "stream",
          "name": "stdout",
          "text": [
            "python\n"
          ]
        }
      ],
      "source": [
        "# Exercício 1: Atribuição de string e impressão\n",
        "linguagem = \"python\"  # Atribui a string \"python\" à variável 'linguagem'\n",
        "print(linguagem)      # Imprime o conteúdo da variável 'linguagem'"
      ],
      "id": "oRm_xdVth1J6"
    },
    {
      "cell_type": "markdown",
      "metadata": {
        "id": "aRTlvSkfh1J7"
      },
      "source": [
        "### Exercício 2\n",
        "\n",
        "**Enunciado:**\n",
        "```\n",
        "$a=1500\n",
        "$b=335\n",
        "print(a+b)\n",
        "print(a*b)\n",
        "print(a-b)\n",
        "```\n",
        "\n",
        "**Comentário:**\n",
        "Este exercício envolve a declaração de duas variáveis numéricas (`a` e `b`) e a realização de operações aritméticas básicas: adição, multiplicação e subtração. Os resultados de cada operação são impressos."
      ],
      "id": "aRTlvSkfh1J7"
    },
    {
      "cell_type": "code",
      "execution_count": null,
      "metadata": {
        "id": "u2gYfPBNh1J7",
        "colab": {
          "base_uri": "https://localhost:8080/"
        },
        "outputId": "0807a341-2295-4dbe-c90f-072ce5c27ef4"
      },
      "outputs": [
        {
          "output_type": "stream",
          "name": "stdout",
          "text": [
            "1835\n",
            "502500\n",
            "1165\n"
          ]
        }
      ],
      "source": [
        "# Exercício 2: Operações aritméticas\n",
        "a = 1500  # Define a variável 'a' com o valor 1500\n",
        "b = 335   # Define a variável 'b' com o valor 335\n",
        "\n",
        "# Realiza e imprime a soma de 'a' e 'b'\n",
        "print(a + b)\n",
        "\n",
        "# Realiza e imprime a multiplicação de 'a' e 'b'\n",
        "print(a * b)\n",
        "\n",
        "# Realiza e imprime a subtração de 'b' de 'b'\n",
        "print(a - b)"
      ],
      "id": "u2gYfPBNh1J7"
    },
    {
      "cell_type": "markdown",
      "metadata": {
        "id": "R3Apf38eh1J8"
      },
      "source": [
        "### Exercício 3\n",
        "\n",
        "**Enunciado:**\n",
        "```\n",
        "a = \"Marrie\"\n",
        "b = \"Currie\"\n",
        "c = \"!!!\"\n",
        "print(a+b+c)\n",
        "```\n",
        "\n",
        "**Comentário:**\n",
        "O objetivo aqui é concatenar (juntar) três strings. As strings são atribuídas às variáveis `a`, `b` e `c`, e depois unidas usando o operador `+` dentro da função `print`."
      ],
      "id": "R3Apf38eh1J8"
    },
    {
      "cell_type": "code",
      "execution_count": null,
      "metadata": {
        "id": "Jto3XSogh1J8",
        "colab": {
          "base_uri": "https://localhost:8080/"
        },
        "outputId": "911db9e7-3645-4374-ea55-bcc5f650ab35"
      },
      "outputs": [
        {
          "output_type": "stream",
          "name": "stdout",
          "text": [
            "MarieCurie!!!\n",
            "Marie Curie!!!\n"
          ]
        }
      ],
      "source": [
        "# Exercício 3: Concatenação de strings\n",
        "a = \"Marie\"      # Primeira parte da string\n",
        "b = \"Curie\"     # Segunda parte da string\n",
        "c = \"!!!\"        # Terceira parte da string\n",
        "\n",
        "# Concatena as três strings e imprime o resultado da concatenação das strings\n",
        "print(a + b + c)\n",
        "\n",
        "# Concatena as três strings e imprime o resultado da concatenação das strings, mas agora adicionando espaços para deixar agradável para leitura\n",
        "print(a + \" \" + b + c)"
      ],
      "id": "Jto3XSogh1J8"
    },
    {
      "cell_type": "markdown",
      "metadata": {
        "id": "bjEWDFPYh1J8"
      },
      "source": [
        "### Exercício 4\n",
        "\n",
        "**Enunciado:**\n",
        "```python\n",
        "print(2 + 3 == 5)\n",
        "```\n",
        "\n",
        "**Comentário:**\n",
        "Este trecho de código demonstra uma expressão booleana. Primeiro, a soma `2 + 3` é calculada (sendo o resultado igual a 5). Depois, este resultado é comparado com `5` usando o operador de igualdade `==`. Como `5 == 5` é verdadeiro, a função `print` exibirá o resulante boleano que é o `True`."
      ],
      "id": "bjEWDFPYh1J8"
    },
    {
      "cell_type": "code",
      "execution_count": null,
      "metadata": {
        "id": "UAevOWPmh1J8",
        "colab": {
          "base_uri": "https://localhost:8080/"
        },
        "outputId": "384696c3-11e8-40d8-de42-8e5f40ad5779"
      },
      "outputs": [
        {
          "output_type": "stream",
          "name": "stdout",
          "text": [
            "True\n"
          ]
        }
      ],
      "source": [
        "# Expressão booleana\n",
        "# A expressão (2 + 3 == 5) é avaliada\n",
        "# (2 + 3) resulta em 5\n",
        "# (5 == 5) resulta em True\n",
        "print(2 + 3 == 5)  # Imprime o resultado booleano da comparação, que nesse caso é uma operação verdadeira, ou True"
      ],
      "id": "UAevOWPmh1J8"
    },
    {
      "cell_type": "markdown",
      "metadata": {
        "id": "CUt43jUHh1J8"
      },
      "source": [
        "### Exercício 5\n",
        "\n",
        "**Enunciado:**\n",
        "```\n",
        "print(5 + 9 = 13)\n",
        "```\n",
        "\n",
        "**Comentário:**\n",
        "Similar ao exercício anterior, este código avalia uma expressão booleana. A soma `5 + 9` é `14`. A comparação `14 == 13` é falsa. Portanto, `print` exibirá o operador boleano que é o `False`."
      ],
      "id": "CUt43jUHh1J8"
    },
    {
      "cell_type": "code",
      "execution_count": null,
      "metadata": {
        "id": "797heXOqh1J8",
        "colab": {
          "base_uri": "https://localhost:8080/"
        },
        "outputId": "9b1d098a-7c11-48c2-fa6a-880bc72191cc"
      },
      "outputs": [
        {
          "output_type": "stream",
          "name": "stdout",
          "text": [
            "False\n"
          ]
        }
      ],
      "source": [
        "# Expressão booleana\n",
        "# A expressão (5 + 9 == 13) é avaliada\n",
        "# (5 + 9) resulta em 14\n",
        "# (14 == 13) resulta em False\n",
        "print(5 + 9 == 13) # Imprime o resultado booleano da comparação, que nesse caso é resultante em falso, ou False"
      ],
      "id": "797heXOqh1J8"
    },
    {
      "cell_type": "markdown",
      "metadata": {
        "id": "OS4rZmcZh1J9"
      },
      "source": [
        "### Exercício 6\n",
        "\n",
        "**Enunciado:**\n",
        "```python\n",
        "pi = 3.1415  # Valor de pi\n",
        "print(pi)\n",
        "```\n",
        "\n",
        "**Comentário:**\n",
        "Aqui, um valor de ponto flutuante (float) é atribuído à variável `pi`. O código também inclui um comentário (`# Valor do número pi`), que é ignorado pelo interpretador Python, mas serve para explicar o código. Finalmente, o valor de `pi` é impresso."
      ],
      "id": "OS4rZmcZh1J9"
    },
    {
      "cell_type": "code",
      "execution_count": null,
      "metadata": {
        "id": "ls48kEevh1J9",
        "colab": {
          "base_uri": "https://localhost:8080/"
        },
        "outputId": "f2275215-b76c-416c-c5ce-29a60db7edc2"
      },
      "outputs": [
        {
          "output_type": "stream",
          "name": "stdout",
          "text": [
            "3.1415\n"
          ]
        }
      ],
      "source": [
        "# Variável float\n",
        "pi = 3.1415  # Atribui o valor 3.1415 à variável 'pi'\n",
        "print(pi)      # Imprime o valor da variável 'pi'"
      ],
      "id": "ls48kEevh1J9"
    },
    {
      "cell_type": "markdown",
      "metadata": {
        "id": "yMJHRzdHh1J9"
      },
      "source": [
        "### Exercício 7\n",
        "\n",
        "**Enunciado:**\n",
        "```python\n",
        "pi = 3.1415  # Valor do número pi\n",
        "    print(pi)  # Com um \"tab\" antes do print(pi)\n",
        "```\n",
        "\n",
        "**Comentário:**\n",
        "Este exercício é similar ao anterior, mas com uma indentação antes do `print(pi)`.\n",
        "Em Python, a indentação é muito importante e define blocos de código.\n",
        "Se `print(pi)` for indentado sem uma razão (como estar dentro de um `if`, `for`, `def`, etc.), causando um `IndentationError`.\n",
        "\n"
      ],
      "id": "yMJHRzdHh1J9"
    },
    {
      "cell_type": "code",
      "execution_count": null,
      "metadata": {
        "id": "-fCqHe7Vh1J9",
        "colab": {
          "base_uri": "https://localhost:8080/",
          "height": 108
        },
        "outputId": "1b97b7ca-8b1f-4685-85f8-5733f4552bd7"
      },
      "outputs": [
        {
          "output_type": "error",
          "ename": "IndentationError",
          "evalue": "unexpected indent (<ipython-input-19-997793381>, line 4)",
          "traceback": [
            "\u001b[0;36m  File \u001b[0;32m\"<ipython-input-19-997793381>\"\u001b[0;36m, line \u001b[0;32m4\u001b[0m\n\u001b[0;31m    print(pi)\u001b[0m\n\u001b[0m    ^\u001b[0m\n\u001b[0;31mIndentationError\u001b[0m\u001b[0;31m:\u001b[0m unexpected indent\n"
          ]
        }
      ],
      "source": [
        "# Indentação incorreta\n",
        "pi = 3.1415  # Valor do número pi\n",
        "# A linha abaixo, foi indentada incorretamente, causando um IndentationError\n",
        "    print(pi)"
      ],
      "id": "-fCqHe7Vh1J9"
    },
    {
      "cell_type": "markdown",
      "source": [
        "\n",
        "**Sobre o erro da execussão:** O erro `IndentationError` ocorre por um recuo inesperado. Em Python, o recuo é usado para definir blocos de código. A instrução `print(pi)` está recuada quando não deveria, causando o erro."
      ],
      "metadata": {
        "id": "BtyU0DLAdWCa"
      },
      "id": "BtyU0DLAdWCa"
    },
    {
      "cell_type": "code",
      "source": [
        "# Indentação correta\n",
        "pi2 = 3.1415  # Valor do número pi\n",
        "# Aplicando uma identação simples, mas aplicada em uma situação correta\n",
        "if pi2 == 3.1415:\n",
        "    print(\"Correto!\")"
      ],
      "metadata": {
        "colab": {
          "base_uri": "https://localhost:8080/"
        },
        "id": "gSnfSMcEcqEs",
        "outputId": "ecb8e4b2-e4bf-45ec-a136-544286c3b57a"
      },
      "id": "gSnfSMcEcqEs",
      "execution_count": null,
      "outputs": [
        {
          "output_type": "stream",
          "name": "stdout",
          "text": [
            "Correto!\n"
          ]
        }
      ]
    },
    {
      "cell_type": "markdown",
      "metadata": {
        "id": "lwEIRXk6h1J9"
      },
      "source": [
        "## Lista de Exercícios 2: Variáveis - Strings (OK)"
      ],
      "id": "lwEIRXk6h1J9"
    },
    {
      "cell_type": "markdown",
      "metadata": {
        "id": "p1Q6T8O-h1J9"
      },
      "source": [
        "### Exercício 1: Sequência de TNF alfa\n",
        "\n",
        "O TNF alfa é uma citocina pró inflamatória capaz de provocar a apoptose (morte) de células tumorais. Dada a sua sequência de aminoácidos:\n",
        "\n",
        "`VRSSSRTPSDKPVAHVVANPQAEGQLQWLNRRANALLANGVELRDNQLVVPSEGLYLIYSQVLFKGQGCPSTHVLLTHTISRIAVSYQTKVNLLSAIKSPCQRETPEGAEAKPWYEPIYLGGVFQLEKGDRLSAEINRPDYLLFAESGQVYFGIIAL`\n",
        "\n",
        "Realize as seguintes tarefas:"
      ],
      "id": "p1Q6T8O-h1J9"
    },
    {
      "cell_type": "code",
      "execution_count": null,
      "metadata": {
        "id": "wMQViOxCh1J9"
      },
      "outputs": [],
      "source": [
        "# Sequência do TNF alfa\n",
        "sequencia_tnf = \"VRSSSRTPSDKPVAHVVANPQAEGQLQWLNRRANALLANGVELRDNQLVVPSEGLYLIYSQVLFKGQGCPSTHVLLTHTISRIAVSYQTKVNLLSAIKSPCQRETPEGAEAKPWYEPIYLGGVFQLEKGDRLSAEINRPDYLLFAESGQVYFGIIAL\""
      ],
      "id": "wMQViOxCh1J9"
    },
    {
      "cell_type": "markdown",
      "metadata": {
        "id": "BrXbzBJwh1J9"
      },
      "source": [
        "#### a) Retorne o tamanho da sequência."
      ],
      "id": "BrXbzBJwh1J9"
    },
    {
      "cell_type": "code",
      "execution_count": null,
      "metadata": {
        "id": "76WjWh5uh1J9",
        "colab": {
          "base_uri": "https://localhost:8080/"
        },
        "outputId": "9a5fdc4f-c4e3-4a62-b6fd-40765f1cff56"
      },
      "outputs": [
        {
          "output_type": "stream",
          "name": "stdout",
          "text": [
            "Tamanho da sequência: 157\n"
          ]
        }
      ],
      "source": [
        "# Tamanho da sequência\n",
        "tamanho_sequencia = len(sequencia_tnf)\n",
        "print(f\"Tamanho da sequência: {tamanho_sequencia}\")"
      ],
      "id": "76WjWh5uh1J9"
    },
    {
      "cell_type": "markdown",
      "metadata": {
        "id": "hYgXii3ph1J9"
      },
      "source": [
        "#### b) Realize a contagem da ocorrência de um sequência de duplas de leucinas (LL)."
      ],
      "id": "hYgXii3ph1J9"
    },
    {
      "cell_type": "code",
      "execution_count": null,
      "metadata": {
        "id": "8PErQJQnh1J-",
        "colab": {
          "base_uri": "https://localhost:8080/"
        },
        "outputId": "f541420b-eea4-4391-bc71-ceebd694d40d"
      },
      "outputs": [
        {
          "output_type": "stream",
          "name": "stdout",
          "text": [
            "Contagem de duplas de 'LL': 4\n"
          ]
        }
      ],
      "source": [
        "# Contagem da ocorrência de duplas de leucina \"LL\"\n",
        "contagem_leucinas = sequencia_tnf.count(\"LL\")\n",
        "print(f\"Contagem de duplas de 'LL': {contagem_leucinas}\")"
      ],
      "id": "8PErQJQnh1J-"
    },
    {
      "cell_type": "markdown",
      "metadata": {
        "id": "26AMHInYh1J-"
      },
      "source": [
        "#### c) Encontre na sequência as posições ocupadas por duas glicinas (GG) e duas argininas (RR)."
      ],
      "id": "26AMHInYh1J-"
    },
    {
      "cell_type": "code",
      "execution_count": null,
      "metadata": {
        "id": "mB0oBHgNh1J-",
        "colab": {
          "base_uri": "https://localhost:8080/"
        },
        "outputId": "163ce5b3-55a3-44c2-d7f6-ded93e767f75"
      },
      "outputs": [
        {
          "output_type": "stream",
          "name": "stdout",
          "text": [
            "Posições de 'GG': [120]\n",
            "Posições de 'RR': [30]\n"
          ]
        }
      ],
      "source": [
        "# Encontrar posições de \"GG\" e \"RR\"\n",
        "posicoes_gg = []\n",
        "posicoes_rr = []\n",
        "\n",
        "# Encontra todos os aparecimentos de \"GG\"\n",
        "for i in range(len(sequencia_tnf) - 1):\n",
        "    if sequencia_tnf[i:i+2] == \"GG\":\n",
        "        posicoes_gg.append(i)\n",
        "\n",
        "# Encontra todos os aparecimentos de \"RR\"\n",
        "for i in range(len(sequencia_tnf) - 1):\n",
        "    if sequencia_tnf[i:i+2] == \"RR\":\n",
        "        posicoes_rr.append(i)\n",
        "\n",
        "print(f\"Posições de 'GG': {posicoes_gg}\")\n",
        "print(f\"Posições de 'RR': {posicoes_rr}\")"
      ],
      "id": "mB0oBHgNh1J-"
    },
    {
      "cell_type": "markdown",
      "metadata": {
        "id": "upcBvkSXh1J-"
      },
      "source": [
        "#### d) Retorne os 100 primeiros aminoácidos da sequência."
      ],
      "id": "upcBvkSXh1J-"
    },
    {
      "cell_type": "code",
      "execution_count": null,
      "metadata": {
        "id": "q8cl2BuKh1J-",
        "colab": {
          "base_uri": "https://localhost:8080/"
        },
        "outputId": "ca8e7f58-2d5f-4f8b-d0ca-a28db4c25eab"
      },
      "outputs": [
        {
          "output_type": "stream",
          "name": "stdout",
          "text": [
            "100 primeiros aminoácidos: VRSSSRTPSDKPVAHVVANPQAEGQLQWLNRRANALLANGVELRDNQLVVPSEGLYLIYSQVLFKGQGCPSTHVLLTHTISRIAVSYQTKVNLLSAIKSP\n"
          ]
        }
      ],
      "source": [
        "# Retornar os 100 primeiros aminoácidos\n",
        "primeiros_100 = sequencia_tnf[:100]\n",
        "print(f\"100 primeiros aminoácidos: {primeiros_100}\")"
      ],
      "id": "q8cl2BuKh1J-"
    },
    {
      "cell_type": "markdown",
      "metadata": {
        "id": "S8w3QTfph1J-"
      },
      "source": [
        "#### e) Substitua o trecho da sequência com a ocorrência de 3 serinas e 1 arginina (SSSR) por alaninas."
      ],
      "id": "S8w3QTfph1J-"
    },
    {
      "cell_type": "code",
      "execution_count": null,
      "metadata": {
        "id": "-yiY9gA8h1J-",
        "colab": {
          "base_uri": "https://localhost:8080/"
        },
        "outputId": "7244652e-bde0-4a36-a5b2-b47a804e702b"
      },
      "outputs": [
        {
          "output_type": "stream",
          "name": "stdout",
          "text": [
            "Sequência após substituição de 'SSSR' por 'AAAA': VRAAAATPSDKPVAHVVANPQAEGQLQWLNRRANALLANGVELRDNQLVVPSEGLYLIYSQVLFKGQGCPSTHVLLTHTISRIAVSYQTKVNLLSAIKSPCQRETPEGAEAKPWYEPIYLGGVFQLEKGDRLSAEINRPDYLLFAESGQVYFGIIAL\n"
          ]
        }
      ],
      "source": [
        "# e) Substituir \"SSSR\" por \"AAAA\" (assumindo que \"alaninas\" significa quatro 'A's)\n",
        "sequencia_modificada_e = sequencia_tnf.replace(\"SSSR\", \"AAAA\")\n",
        "print(f\"Sequência após substituição de 'SSSR' por 'AAAA': {sequencia_modificada_e}\")"
      ],
      "id": "-yiY9gA8h1J-"
    },
    {
      "cell_type": "markdown",
      "metadata": {
        "id": "FikBswRvh1J-"
      },
      "source": [
        "#### f) Quebre a sequência no local onde a substituição foi realizada."
      ],
      "id": "FikBswRvh1J-"
    },
    {
      "cell_type": "code",
      "execution_count": null,
      "metadata": {
        "id": "T6z9AgJ2h1J-",
        "colab": {
          "base_uri": "https://localhost:8080/"
        },
        "outputId": "3b33dc63-499c-4798-952e-7e5e51353f5a"
      },
      "outputs": [
        {
          "output_type": "stream",
          "name": "stdout",
          "text": [
            "Parte 1 (antes de 'AAAA'): VR\n",
            "Parte 2 (a partir de 'AAAA'): AAAATPSDKPVAHVVANPQAEGQLQWLNRRANALLANGVELRDNQLVVPSEGLYLIYSQVLFKGQGCPSTHVLLTHTISRIAVSYQTKVNLLSAIKSPCQRETPEGAEAKPWYEPIYLGGVFQLEKGDRLSAEINRPDYLLFAESGQVYFGIIAL\n",
            "Quebra com split - antes de 'AAAA': VR\n",
            "Quebra com split - depois de 'AAAA': TPSDKPVAHVVANPQAEGQLQWLNRRANALLANGVELRDNQLVVPSEGLYLIYSQVLFKGQGCPSTHVLLTHTISRIAVSYQTKVNLLSAIKSPCQRETPEGAEAKPWYEPIYLGGVFQLEKGDRLSAEINRPDYLLFAESGQVYFGIIAL\n"
          ]
        }
      ],
      "source": [
        "# Quebrar a sequência no local da substituição\n",
        "# Usaremos a 'sequencia_modificada_e' do item anterior.\n",
        "# A quebra será feita na primeira ocorrência de \"AAAA\".\n",
        "indice_quebra = sequencia_modificada_e.find(\"AAAA\")\n",
        "parte1 = \"\"\n",
        "parte2 = \"\"\n",
        "if indice_quebra != -1: # Verifica se \"AAAA\" foi encontrado\n",
        "    parte1 = sequencia_modificada_e[:indice_quebra]\n",
        "    parte2 = sequencia_modificada_e[indice_quebra:]\n",
        "    print(f\"Parte 1 (antes de 'AAAA'): {parte1}\")\n",
        "    print(f\"Parte 2 (a partir de 'AAAA'): {parte2}\")\n",
        "\n",
        "    # Outra forma de quebrar, usando split (quebra na primeira ocorrência e remove o delimitador)\n",
        "    partes_split = sequencia_modificada_e.split(\"AAAA\", 1) # O 1 garante que só quebre na primeira ocorrência\n",
        "    if len(partes_split) == 2:\n",
        "      print(f\"Quebra com split - antes de 'AAAA': {partes_split[0]}\")\n",
        "      print(f\"Quebra com split - depois de 'AAAA': {partes_split[1]}\")\n",
        "else:\n",
        "    print(\"Trecho 'AAAA' (resultado da substituição) não encontrado para quebra.\")"
      ],
      "id": "T6z9AgJ2h1J-"
    },
    {
      "cell_type": "markdown",
      "metadata": {
        "id": "pLLfGbp6h1J_"
      },
      "source": [
        "### Exercício 2: Manipulação de Texto\n",
        "\n",
        "Utilizando o texto abaixo:\n",
        "\n",
        "\"As proteínas são cadeias polipeptídicas formadas pela ligação peptidica entre resíduos de aminoácidos. Existem 20 tipos de aminoácidos comumente encontrados nos seres vivos. A esses aminoácidos, foram atribuídas abreviações de 3 letras e símbolos de 1 letra. As abreviações de 3 letras são bastante evidentes consistindo nas três primeiras letras do se nome.\"\n",
        "\n",
        "Realize as seguintes tarefas:"
      ],
      "id": "pLLfGbp6h1J_"
    },
    {
      "cell_type": "code",
      "execution_count": null,
      "metadata": {
        "id": "UUAckSlmh1J_"
      },
      "outputs": [],
      "source": [
        "texto_proteinas = \"As proteínas são cadeias polipeptídicas formadas pela ligação peptidica entre resíduos de aminoácidos. Existem 20 tipos de aminoácidos comumente encontrados nos seres vivos. A esses aminoácidos, foram atribuídas abreviações de 3 letras e símbolos de 1 letra. As abreviações de 3 letras são bastante evidentes consistindo nas três primeiras letras do se nome.\""
      ],
      "id": "UUAckSlmh1J_"
    },
    {
      "cell_type": "markdown",
      "metadata": {
        "id": "9xZUfIT_h1J_"
      },
      "source": [
        "#### a) Passe todo o texto para letras maiúsculas."
      ],
      "id": "9xZUfIT_h1J_"
    },
    {
      "cell_type": "code",
      "execution_count": null,
      "metadata": {
        "id": "ny6HOXjLh1J_",
        "colab": {
          "base_uri": "https://localhost:8080/"
        },
        "outputId": "7e79d34d-d802-4e73-9e77-3475ecb6c5fc"
      },
      "outputs": [
        {
          "output_type": "stream",
          "name": "stdout",
          "text": [
            "Texto em maiúsculas: AS PROTEÍNAS SÃO CADEIAS POLIPEPTÍDICAS FORMADAS PELA LIGAÇÃO PEPTIDICA ENTRE RESÍDUOS DE AMINOÁCIDOS. EXISTEM 20 TIPOS DE AMINOÁCIDOS COMUMENTE ENCONTRADOS NOS SERES VIVOS. A ESSES AMINOÁCIDOS, FORAM ATRIBUÍDAS ABREVIAÇÕES DE 3 LETRAS E SÍMBOLOS DE 1 LETRA. AS ABREVIAÇÕES DE 3 LETRAS SÃO BASTANTE EVIDENTES CONSISTINDO NAS TRÊS PRIMEIRAS LETRAS DO SE NOME.\n"
          ]
        }
      ],
      "source": [
        "# Texto em maiúsculas\n",
        "texto_maiusculo = texto_proteinas.upper()\n",
        "print(f\"Texto em maiúsculas: {texto_maiusculo}\")"
      ],
      "id": "ny6HOXjLh1J_"
    },
    {
      "cell_type": "markdown",
      "metadata": {
        "id": "9gJw9gXzh1J_"
      },
      "source": [
        "#### b) Passe todo o texto para letras minúsculas."
      ],
      "id": "9gJw9gXzh1J_"
    },
    {
      "cell_type": "code",
      "execution_count": null,
      "metadata": {
        "id": "o7umSSoAh1J_",
        "colab": {
          "base_uri": "https://localhost:8080/"
        },
        "outputId": "a6e8cf76-06e8-4e49-da17-89a0e30c5990"
      },
      "outputs": [
        {
          "output_type": "stream",
          "name": "stdout",
          "text": [
            "Texto em minúsculas: as proteínas são cadeias polipeptídicas formadas pela ligação peptidica entre resíduos de aminoácidos. existem 20 tipos de aminoácidos comumente encontrados nos seres vivos. a esses aminoácidos, foram atribuídas abreviações de 3 letras e símbolos de 1 letra. as abreviações de 3 letras são bastante evidentes consistindo nas três primeiras letras do se nome.\n"
          ]
        }
      ],
      "source": [
        "# Texto em minúsculas\n",
        "texto_minusculo = texto_proteinas.lower()\n",
        "print(f\"Texto em minúsculas: {texto_minusculo}\")"
      ],
      "id": "o7umSSoAh1J_"
    },
    {
      "cell_type": "markdown",
      "metadata": {
        "id": "G1smkXDGh1J_"
      },
      "source": [
        "#### c) Passe cada primeira letra de palavra em maiúsculo."
      ],
      "id": "G1smkXDGh1J_"
    },
    {
      "cell_type": "code",
      "execution_count": null,
      "metadata": {
        "id": "DzHRket1h1J_",
        "colab": {
          "base_uri": "https://localhost:8080/"
        },
        "outputId": "a4d1ee00-c872-4440-8d44-c788a0580214"
      },
      "outputs": [
        {
          "output_type": "stream",
          "name": "stdout",
          "text": [
            "Texto com a primeira letra de cada palavra em maiúsculo: As Proteínas São Cadeias Polipeptídicas Formadas Pela Ligação Peptidica Entre Resíduos De Aminoácidos. Existem 20 Tipos De Aminoácidos Comumente Encontrados Nos Seres Vivos. A Esses Aminoácidos, Foram Atribuídas Abreviações De 3 Letras E Símbolos De 1 Letra. As Abreviações De 3 Letras São Bastante Evidentes Consistindo Nas Três Primeiras Letras Do Se Nome.\n"
          ]
        }
      ],
      "source": [
        "# Primeira letra de cada palavra em maiúsculo\n",
        "texto_primeiraletra = texto_proteinas.title()\n",
        "print(f\"Texto com a primeira letra de cada palavra em maiúsculo: {texto_primeiraletra}\")"
      ],
      "id": "DzHRket1h1J_"
    },
    {
      "cell_type": "markdown",
      "metadata": {
        "id": "3s6WNtLth1KA"
      },
      "source": [
        "#### d) Transforme as letras maiúsculas em minúsculas e vice-versa."
      ],
      "id": "3s6WNtLth1KA"
    },
    {
      "cell_type": "code",
      "execution_count": null,
      "metadata": {
        "id": "Sq_bGxtGh1KA",
        "colab": {
          "base_uri": "https://localhost:8080/"
        },
        "outputId": "4eec69b3-eab7-4884-9372-8ebf11647845"
      },
      "outputs": [
        {
          "output_type": "stream",
          "name": "stdout",
          "text": [
            "Texto com maiúsculo e minúsculo invertidos: aS PROTEÍNAS SÃO CADEIAS POLIPEPTÍDICAS FORMADAS PELA LIGAÇÃO PEPTIDICA ENTRE RESÍDUOS DE AMINOÁCIDOS. eXISTEM 20 TIPOS DE AMINOÁCIDOS COMUMENTE ENCONTRADOS NOS SERES VIVOS. a ESSES AMINOÁCIDOS, FORAM ATRIBUÍDAS ABREVIAÇÕES DE 3 LETRAS E SÍMBOLOS DE 1 LETRA. aS ABREVIAÇÕES DE 3 LETRAS SÃO BASTANTE EVIDENTES CONSISTINDO NAS TRÊS PRIMEIRAS LETRAS DO SE NOME.\n"
          ]
        }
      ],
      "source": [
        "# Inverter maiúsculas e minúsculas\n",
        "texto_invertido = texto_proteinas.swapcase()\n",
        "print(f\"Texto com maiúsculo e minúsculo invertidos: {texto_invertido}\")"
      ],
      "id": "Sq_bGxtGh1KA"
    },
    {
      "cell_type": "markdown",
      "metadata": {
        "id": "2ZGhA6evh1KA"
      },
      "source": [
        "### Exercício 3: Sequência de Sinal de Insulina\n",
        "\n",
        "Utilizando a sequência:\n",
        "\n",
        "`insulin_signal = \"MALWMRLLPLLALLALWGPDPAAA\"`\n",
        "\n",
        "Realize as seguintes tarefas:"
      ],
      "id": "2ZGhA6evh1KA"
    },
    {
      "cell_type": "code",
      "execution_count": null,
      "metadata": {
        "id": "A4qclVGhh1KA"
      },
      "outputs": [],
      "source": [
        "insulin_signal = \"MALWMRLLPLLALLALWGPDPAAA\""
      ],
      "id": "A4qclVGhh1KA"
    },
    {
      "cell_type": "markdown",
      "metadata": {
        "id": "JuLXcSGBh1KA"
      },
      "source": [
        "#### a) Retorne o tamanho da sequência apresentada."
      ],
      "id": "JuLXcSGBh1KA"
    },
    {
      "cell_type": "code",
      "execution_count": null,
      "metadata": {
        "id": "jrjUv2PTh1KA",
        "colab": {
          "base_uri": "https://localhost:8080/"
        },
        "outputId": "42ef1834-0dd6-4661-e7a6-b5f632f07455"
      },
      "outputs": [
        {
          "output_type": "stream",
          "name": "stdout",
          "text": [
            "O tamanho da sequência da insulina é 24 resídulos de aminácios\n"
          ]
        }
      ],
      "source": [
        "# Tamanho da sequência de insulina\n",
        "tamanho_insulina = len(insulin_signal)\n",
        "print(f\"O tamanho da sequência da insulina é {tamanho_insulina} resídulos de aminácios\")"
      ],
      "id": "jrjUv2PTh1KA"
    },
    {
      "cell_type": "markdown",
      "metadata": {
        "id": "VxtkYwL5h1KA"
      },
      "source": [
        "#### b) Quebre a sequência no trecho \"LLALLALWG\"."
      ],
      "id": "VxtkYwL5h1KA"
    },
    {
      "cell_type": "code",
      "execution_count": null,
      "metadata": {
        "id": "3X-gJIr7h1KA",
        "colab": {
          "base_uri": "https://localhost:8080/"
        },
        "outputId": "26ee4cfc-0dd4-4407-f7dd-220b8cdebb53"
      },
      "outputs": [
        {
          "output_type": "stream",
          "name": "stdout",
          "text": [
            "Porções da sequência da insulina após a quebra: ['MALWMRLLP', 'PDPAAA']\n"
          ]
        }
      ],
      "source": [
        "# Quebrar a sequência da insulina no trecho \"LLALLALWG\"\n",
        "partes_insulina = insulin_signal.split(\"LLALLALWG\")\n",
        "print(f\"Porções da sequência da insulina após a quebra: {partes_insulina}\")"
      ],
      "id": "3X-gJIr7h1KA"
    },
    {
      "cell_type": "markdown",
      "metadata": {
        "id": "DW-jjJHah1KB"
      },
      "source": [
        "#### c) Concatene as sequências resultantes obtendo a seguinte sequência final MALWMRLLPPDPAAA."
      ],
      "id": "DW-jjJHah1KB"
    },
    {
      "cell_type": "code",
      "execution_count": null,
      "metadata": {
        "id": "bDoRzFP4h1KB",
        "colab": {
          "base_uri": "https://localhost:8080/"
        },
        "outputId": "26d7599d-7724-4f9d-cf09-8c1abe01313c"
      },
      "outputs": [
        {
          "output_type": "stream",
          "name": "stdout",
          "text": [
            "Sequência concatenada: MALWMRLLPPDPAAA\n",
            "Resultado esperado: MALWMRLLPPDPAAA. Obtido é igual? True\n"
          ]
        }
      ],
      "source": [
        "# Concatenar as sequências resultantes\n",
        "# Do item anterior, partes_insulina é ['MALWMRLLP', 'PDPAAA']\n",
        "sequencia_concatenada = \"\"\n",
        "if len(partes_insulina) == 2:\n",
        "    sequencia_concatenada = partes_insulina[0] + partes_insulina[1]\n",
        "    print(f\"Sequência concatenada: {sequencia_concatenada}\")\n",
        "    # Verificação se o resultado é o esperado\n",
        "    print(f\"Resultado esperado: MALWMRLLPPDPAAA. Obtido é igual? {sequencia_concatenada == 'MALWMRLLPPDPAAA'}\")\n",
        "else:\n",
        "    print(\"A quebra não resultou em duas partes como esperado.\")"
      ],
      "id": "bDoRzFP4h1KB"
    },
    {
      "cell_type": "markdown",
      "metadata": {
        "id": "x7TkZqH_h1KB"
      },
      "source": [
        "#### d) Substitua o trecho \"DPAAA\" por \"LLALL\"."
      ],
      "id": "x7TkZqH_h1KB"
    },
    {
      "cell_type": "code",
      "execution_count": null,
      "metadata": {
        "id": "oWVxfwCrh1KB",
        "colab": {
          "base_uri": "https://localhost:8080/"
        },
        "outputId": "63560d06-6bb4-4924-a9bd-e7d4c746db69"
      },
      "outputs": [
        {
          "output_type": "stream",
          "name": "stdout",
          "text": [
            "Sequência de insulina após substituição: MALWMRLLPLLALLALWGPLLALL\n"
          ]
        }
      ],
      "source": [
        "# Substituir \"DPAAA\" por \"LLALL\" na sequência original da insulin_signal\n",
        "insulina_substituida = insulin_signal.replace(\"DPAAA\", \"LLALL\")\n",
        "print(f\"Sequência de insulina após substituição: {insulina_substituida}\")"
      ],
      "id": "oWVxfwCrh1KB"
    },
    {
      "cell_type": "markdown",
      "metadata": {
        "id": "yI7uRe1ah1KB"
      },
      "source": [
        "### Exercício 4: DNA para RNA\n",
        "\n",
        "Com base na sequência de DNA `GATGGAACTTGACGTAAACCTATATT` retorne a sequência de RNA correspondente sendo a mesma `GAUGGAACUUGACGUAAACCUAUAUU`."
      ],
      "id": "yI7uRe1ah1KB"
    },
    {
      "cell_type": "code",
      "execution_count": null,
      "metadata": {
        "id": "Mv_AOdz_h1KB",
        "colab": {
          "base_uri": "https://localhost:8080/"
        },
        "outputId": "06dea6b6-2d66-430a-dca1-d4a2f7735359"
      },
      "outputs": [
        {
          "output_type": "stream",
          "name": "stdout",
          "text": [
            "Sequência de DNA original: GATGGAACTTGACGTAAACCTATATT\n",
            "Sequência de RNA convertida: GAUGGAACUUGACGUAAACCUAUAUU\n",
            "Conversão correta? True\n"
          ]
        }
      ],
      "source": [
        "# Conversão de DNA para RNA\n",
        "dna = \"GATGGAACTTGACGTAAACCTATATT\"\n",
        "rna_esperado = \"GAUGGAACUUGACGUAAACCUAUAUU\"\n",
        "\n",
        "# Nas sequências de RNA, a Timina (T) é substituída por Uracila (U), logo...\n",
        "rna_convertido = dna.replace(\"T\", \"U\")\n",
        "\n",
        "print(f\"Sequência de DNA original: {dna}\")\n",
        "print(f\"Sequência de RNA convertida: {rna_convertido}\")\n",
        "print(f\"Conversão correta? {rna_convertido == rna_esperado}\")"
      ],
      "id": "Mv_AOdz_h1KB"
    },
    {
      "cell_type": "markdown",
      "metadata": {
        "id": "4vCpyx_-h1KB"
      },
      "source": [
        "## Lista de Exercícios 3: Variáveis - Tuplas (OK)\n",
        "\n",
        "**Instrução Geral:** Construa uma tupla contendo os seguintes aminoácidos: A, C, D, E, F, G, H, I, K, L, M, N, P, Q, R, S, T, V, W, Y. Realize as seguintes tarefas através de códigos em Python."
      ],
      "id": "4vCpyx_-h1KB"
    },
    {
      "cell_type": "code",
      "execution_count": null,
      "metadata": {
        "id": "vFoHuHMuh1KB",
        "colab": {
          "base_uri": "https://localhost:8080/"
        },
        "outputId": "3794ff0c-f70c-4c6f-9ca3-8abb90662f6c"
      },
      "outputs": [
        {
          "output_type": "stream",
          "name": "stdout",
          "text": [
            "A tupla inicial de aminoácidos: ('A', 'C', 'D', 'E', 'F', 'G', 'H', 'I', 'K', 'L', 'M', 'N', 'P', 'Q', 'R', 'S', 'T', 'V', 'W', 'Y')\n"
          ]
        }
      ],
      "source": [
        "# Definição da tupla inicial de aminoácidos\n",
        "aminoacidos_tupla1 = ('A', 'C', 'D', 'E', 'F', 'G', 'H', 'I', 'K', 'L', 'M', 'N', 'P', 'Q', 'R', 'S', 'T', 'V', 'W', 'Y')\n",
        "print(f\"A tupla inicial de aminoácidos: {aminoacidos_tupla1}\")"
      ],
      "id": "vFoHuHMuh1KB"
    },
    {
      "cell_type": "markdown",
      "metadata": {
        "id": "yP7tQec6h1KB"
      },
      "source": [
        "### a) Conte e imprima o número de elementos contidos na tupla criada."
      ],
      "id": "yP7tQec6h1KB"
    },
    {
      "cell_type": "code",
      "execution_count": null,
      "metadata": {
        "id": "Nt-7AR8gh1KB",
        "colab": {
          "base_uri": "https://localhost:8080/"
        },
        "outputId": "51c0c776-fc57-45a3-f656-0922747b2c04"
      },
      "outputs": [
        {
          "output_type": "stream",
          "name": "stdout",
          "text": [
            "Número de elementos na tupla: 20\n"
          ]
        }
      ],
      "source": [
        "# Contar e imprimir o número de elementos\n",
        "numero_elementos = len(aminoacidos_tupla1)\n",
        "print(f\"Número de elementos na tupla: {numero_elementos}\")"
      ],
      "id": "Nt-7AR8gh1KB"
    },
    {
      "cell_type": "markdown",
      "metadata": {
        "id": "2z6YU8iCh1KB"
      },
      "source": [
        "### b) Verifique e imprima se o aminoácido Serina (S) pertence à tupla."
      ],
      "id": "2z6YU8iCh1KB"
    },
    {
      "cell_type": "code",
      "execution_count": null,
      "metadata": {
        "id": "BT2y4r8Yh1KC",
        "colab": {
          "base_uri": "https://localhost:8080/"
        },
        "outputId": "3112a961-bd67-46f1-d16d-92a3f61bec0e"
      },
      "outputs": [
        {
          "output_type": "stream",
          "name": "stdout",
          "text": [
            "O aminoácido Serina (S) pertence à tupla? True\n"
          ]
        }
      ],
      "source": [
        "# Verificar se Serina (S) pertence à tupla\n",
        "serina_presente = 'S' in aminoacidos_tupla1\n",
        "print(f\"O aminoácido Serina (S) pertence à tupla? {serina_presente}\")"
      ],
      "id": "BT2y4r8Yh1KC"
    },
    {
      "cell_type": "markdown",
      "metadata": {
        "id": "dp-VHaeOh1KC"
      },
      "source": [
        "### c) Crie uma segunda tupla contendo os elementos Prolina (P), Glicina (G), Asparagina (N), Tirosina (Y), Valina (V) e Triptofano (W).\n"
      ],
      "id": "dp-VHaeOh1KC"
    },
    {
      "cell_type": "code",
      "execution_count": null,
      "metadata": {
        "id": "QlGbNRdah1KC",
        "colab": {
          "base_uri": "https://localhost:8080/"
        },
        "outputId": "3d8fc282-617e-4306-e8c8-292fdd2a13bc"
      },
      "outputs": [
        {
          "output_type": "stream",
          "name": "stdout",
          "text": [
            "A segunda tupla de aminoácidos é: ('P', 'G', 'N', 'Y', 'V', 'W')\n"
          ]
        }
      ],
      "source": [
        "# Criar uma segunda tupla\n",
        "aminoacidos_tupla2 = ('P', 'G', 'N', 'Y', 'V', 'W')\n",
        "print(f\"A segunda tupla de aminoácidos é: {aminoacidos_tupla2}\")"
      ],
      "id": "QlGbNRdah1KC"
    },
    {
      "cell_type": "markdown",
      "metadata": {
        "id": "HcQuSSb3h1KC"
      },
      "source": [
        "### d) Some as tuplas construídas e imprima o resultado."
      ],
      "id": "HcQuSSb3h1KC"
    },
    {
      "cell_type": "code",
      "execution_count": null,
      "metadata": {
        "id": "mqc4a9rNh1KC",
        "colab": {
          "base_uri": "https://localhost:8080/"
        },
        "outputId": "f1a4acf9-a97b-452d-8d2e-e4cf2ab6bebe"
      },
      "outputs": [
        {
          "output_type": "stream",
          "name": "stdout",
          "text": [
            "Soma das tuplas resulta em: ('A', 'C', 'D', 'E', 'F', 'G', 'H', 'I', 'K', 'L', 'M', 'N', 'P', 'Q', 'R', 'S', 'T', 'V', 'W', 'Y', 'P', 'G', 'N', 'Y', 'V', 'W')\n"
          ]
        }
      ],
      "source": [
        "# Somar as tuplas construídas\n",
        "tupla_soma = aminoacidos_tupla1 + aminoacidos_tupla2\n",
        "print(f\"Soma das tuplas resulta em: {tupla_soma}\")"
      ],
      "id": "mqc4a9rNh1KC"
    },
    {
      "cell_type": "markdown",
      "metadata": {
        "id": "Zr5sisiOh1KC"
      },
      "source": [
        "### e) Conte a ocorrência dos elementos Glicina (G), Asparagina (N) e Cisteína (C) na tupla resultante da soma."
      ],
      "id": "Zr5sisiOh1KC"
    },
    {
      "cell_type": "code",
      "execution_count": null,
      "metadata": {
        "id": "rAshAmZth1KC",
        "colab": {
          "base_uri": "https://localhost:8080/"
        },
        "outputId": "4b661d17-3b91-47bc-d700-2ce9ee9002e8"
      },
      "outputs": [
        {
          "output_type": "stream",
          "name": "stdout",
          "text": [
            "Ocorrência de Glicina (G) na tupla somada: 2\n",
            "Ocorrência de Asparagina (N) na tupla somada: 2\n",
            "Ocorrência de Cisteína (C) na tupla somada: 1\n"
          ]
        }
      ],
      "source": [
        "# Contar ocorrências na tupla_soma\n",
        "ocorrencia_G = tupla_soma.count('G')\n",
        "ocorrencia_N = tupla_soma.count('N')\n",
        "ocorrencia_C = tupla_soma.count('C')\n",
        "print(f\"Ocorrência de Glicina (G) na tupla somada: {ocorrencia_G}\")\n",
        "print(f\"Ocorrência de Asparagina (N) na tupla somada: {ocorrencia_N}\")\n",
        "print(f\"Ocorrência de Cisteína (C) na tupla somada: {ocorrencia_C}\")"
      ],
      "id": "rAshAmZth1KC"
    },
    {
      "cell_type": "markdown",
      "metadata": {
        "id": "gqjgQx-Fh1KC"
      },
      "source": [
        "### f) Retorne a posição do primeiro elemento Asparagina (N) na tupla resultante da soma."
      ],
      "id": "gqjgQx-Fh1KC"
    },
    {
      "cell_type": "code",
      "execution_count": null,
      "metadata": {
        "id": "-DvpH0HIh1KC",
        "colab": {
          "base_uri": "https://localhost:8080/"
        },
        "outputId": "420df6a5-6a5e-448e-88bc-875622506541"
      },
      "outputs": [
        {
          "output_type": "stream",
          "name": "stdout",
          "text": [
            "Posição do primeiro elemento Asparagina (N) na tupla somada: 11\n"
          ]
        }
      ],
      "source": [
        "# Retornar a posição do primeiro elemento Asparagina (N) na tupla_soma\n",
        "try:\n",
        "    posicao_N = tupla_soma.index('N')\n",
        "    print(f\"Posição do primeiro elemento Asparagina (N) na tupla somada: {posicao_N}\")\n",
        "except ValueError:\n",
        "    print(\"O elemento Asparagina (N) não foi encontrado na tupla somada.\")"
      ],
      "id": "-DvpH0HIh1KC"
    },
    {
      "cell_type": "markdown",
      "metadata": {
        "id": "f9IzNRd8h1KC"
      },
      "source": [
        "### g) Retorne os 5 últimos elementos da tupla resultante da soma."
      ],
      "id": "f9IzNRd8h1KC"
    },
    {
      "cell_type": "code",
      "execution_count": null,
      "metadata": {
        "id": "qQO_Ponsh1KC",
        "colab": {
          "base_uri": "https://localhost:8080/"
        },
        "outputId": "18b6b42a-166a-46ba-b90d-b203dce23694"
      },
      "outputs": [
        {
          "output_type": "stream",
          "name": "stdout",
          "text": [
            "Os 5 últimos elementos da tupla somada: ('G', 'N', 'Y', 'V', 'W')\n"
          ]
        }
      ],
      "source": [
        "# Retornar os 5 últimos elementos da tupla_soma\n",
        "ultimos_5_elementos = tupla_soma[-5:]\n",
        "print(f\"Os 5 últimos elementos da tupla somada: {ultimos_5_elementos}\")"
      ],
      "id": "qQO_Ponsh1KC"
    },
    {
      "cell_type": "markdown",
      "metadata": {
        "id": "t-NayndKh1KD"
      },
      "source": [
        "## Lista de Exercícios 4: Variáveis - Listas (OK)"
      ],
      "id": "t-NayndKh1KD"
    },
    {
      "cell_type": "markdown",
      "metadata": {
        "id": "uif6x8mah1KD"
      },
      "source": [
        "### Exercício 1: Identificadores GenBank\n",
        "\n",
        "O GenBank é um banco de dados de sequências biológicas disponíveis publicamente e é produzido e mantido pelo National Center for Biotechnology Information (NCBI). As sequências podem ser acessadas por identificadores, no caso das sequências proteicas, o formato dos números de acesso é composto por 3 letras + 5 numerais ou 3 letras + 7 numerais. Realize as seguintes tarefas em Python com base nos identificadores\n",
        "abaixo:\n",
        "\n",
        "`AAY66821.1, AAY66759.1, AAY66711.1, AAY66706.1, AAY66703.1, AAY66697.1, AAY66696.1, AAY66682.1, AAY66647.1, AAY66625.1, AAY66623.1, AAY66620.1, AAY66619.1, AAY66616.1, AAY66609.1, AAY66607.1, AAY66586.1, AAY66564.1, AAY66562.1, AAY66561.1, AAY66558.1, AAY66544.1, AAY66542.1, AAY66539.1, AAY66538.1, AAY66537.1, AAY66536.1, AAY66512.1, AAY66496.1, AAM93627.1, AAM93626.1, AAY66506.1, AAM93587.1, AAY66811.1, AAY66620.1, AAY66555.1, AAY66707.1, AAM93653.1, AAY66608.1, AAY66700.1, AAY66646.1, AAY66809.1, AAK97814.1, AAK97810.1, AAY66594.1, AAY66685.1, AAY66571.1, AAY66865.1`"
      ],
      "id": "uif6x8mah1KD"
    },
    {
      "cell_type": "code",
      "execution_count": null,
      "metadata": {
        "id": "Qavykb_6h1KD"
      },
      "outputs": [],
      "source": [
        "# Lista de identificadores GenBank\n",
        "identificadores_genbank = [\n",
        "    \"AAY66821.1\", \"AAY66759.1\", \"AAY66711.1\", \"AAY66706.1\", \"AAY66703.1\", \"AAY66697.1\",\n",
        "    \"AAY66696.1\", \"AAY66682.1\", \"AAY66647.1\", \"AAY66625.1\", \"AAY66623.1\", \"AAY66620.1\",\n",
        "    \"AAY66619.1\", \"AAY66616.1\", \"AAY66609.1\", \"AAY66607.1\", \"AAY66586.1\", \"AAY66564.1\",\n",
        "    \"AAY66562.1\", \"AAY66561.1\", \"AAY66558.1\", \"AAY66544.1\", \"AAY66542.1\", \"AAY66539.1\",\n",
        "    \"AAY66538.1\", \"AAY66537.1\", \"AAY66536.1\", \"AAY66512.1\", \"AAY66496.1\", \"AAM93627.1\",\n",
        "    \"AAM93626.1\", \"AAY66506.1\", \"AAM93587.1\", \"AAY66811.1\", \"AAY66620.1\", \"AAY66555.1\",\n",
        "    \"AAY66707.1\", \"AAM93653.1\", \"AAY66608.1\", \"AAY66700.1\", \"AAY66646.1\", \"AAY66809.1\",\n",
        "    \"AAK97814.1\", \"AAK97810.1\", \"AAY66594.1\", \"AAY66685.1\", \"AAY66571.1\", \"AAY66865.1\"\n",
        "]"
      ],
      "id": "Qavykb_6h1KD"
    },
    {
      "cell_type": "markdown",
      "metadata": {
        "id": "RLV4xWd_h1KD"
      },
      "source": [
        "#### a) Crie uma lista com esses identificadores, obtenha e imprima tamanho da lista criada."
      ],
      "id": "RLV4xWd_h1KD"
    },
    {
      "cell_type": "code",
      "execution_count": null,
      "metadata": {
        "id": "YJdu4e3lh1KD",
        "colab": {
          "base_uri": "https://localhost:8080/"
        },
        "outputId": "f912f6b3-3d80-4177-a8a2-14d373339251"
      },
      "outputs": [
        {
          "output_type": "stream",
          "name": "stdout",
          "text": [
            "A listaista de identificadores do NCBI é: ['AAY66821.1', 'AAY66759.1', 'AAY66711.1', 'AAY66706.1', 'AAY66703.1', 'AAY66697.1', 'AAY66696.1', 'AAY66682.1', 'AAY66647.1', 'AAY66625.1', 'AAY66623.1', 'AAY66620.1', 'AAY66619.1', 'AAY66616.1', 'AAY66609.1', 'AAY66607.1', 'AAY66586.1', 'AAY66564.1', 'AAY66562.1', 'AAY66561.1', 'AAY66558.1', 'AAY66544.1', 'AAY66542.1', 'AAY66539.1', 'AAY66538.1', 'AAY66537.1', 'AAY66536.1', 'AAY66512.1', 'AAY66496.1', 'AAM93627.1', 'AAM93626.1', 'AAY66506.1', 'AAM93587.1', 'AAY66811.1', 'AAY66620.1', 'AAY66555.1', 'AAY66707.1', 'AAM93653.1', 'AAY66608.1', 'AAY66700.1', 'AAY66646.1', 'AAY66809.1', 'AAK97814.1', 'AAK97810.1', 'AAY66594.1', 'AAY66685.1', 'AAY66571.1', 'AAY66865.1']\n",
            "A lista possui como tamanho 48 elementos!\n"
          ]
        }
      ],
      "source": [
        "# Criar a lista (já devidamente criada acima) e obter o tamanho\n",
        "tamanho_lista_genbank = len(identificadores_genbank)\n",
        "print(f\"A listaista de identificadores do NCBI é: {identificadores_genbank}\")\n",
        "print(f\"A lista possui como tamanho {tamanho_lista_genbank} elementos!\")"
      ],
      "id": "YJdu4e3lh1KD"
    },
    {
      "cell_type": "markdown",
      "metadata": {
        "id": "wRT04J6Oh1KD"
      },
      "source": [
        "#### b) Verifique a presença dos seguintes identificadores: AAY66682.1, AAY66504.1, AAY66640.1, AAY66562.1, AAY66816.1"
      ],
      "id": "wRT04J6Oh1KD"
    },
    {
      "cell_type": "code",
      "execution_count": null,
      "metadata": {
        "id": "BBwTWiEXh1KD",
        "colab": {
          "base_uri": "https://localhost:8080/"
        },
        "outputId": "5dd93577-6543-4f65-ee60-bd57a93565fc"
      },
      "outputs": [
        {
          "output_type": "stream",
          "name": "stdout",
          "text": [
            "Verificação de presença do ID:\n",
            "O identificador AAY66682.1 está na lista? True\n",
            "O identificador AAY66504.1 está na lista? False\n",
            "O identificador AAY66640.1 está na lista? False\n",
            "O identificador AAY66562.1 está na lista? True\n",
            "O identificador AAY66816.1 está na lista? False\n"
          ]
        }
      ],
      "source": [
        "# Verificar a presença de identificadores específicos\n",
        "ids_para_verificar = [\"AAY66682.1\", \"AAY66504.1\", \"AAY66640.1\", \"AAY66562.1\", \"AAY66816.1\"]\n",
        "print(\"Verificação de presença do ID:\")\n",
        "for id_verificar in ids_para_verificar:\n",
        "    presente = id_verificar in identificadores_genbank\n",
        "    print(f\"O identificador {id_verificar} está na lista? {presente}\")"
      ],
      "id": "BBwTWiEXh1KD"
    },
    {
      "cell_type": "markdown",
      "metadata": {
        "id": "pK6cu5Eqh1KD"
      },
      "source": [
        "#### c) Obtenha e imprima o elemento presente na posição 10 da lista."
      ],
      "id": "pK6cu5Eqh1KD"
    },
    {
      "cell_type": "code",
      "execution_count": null,
      "metadata": {
        "id": "sFwJWHSQh1KD",
        "colab": {
          "base_uri": "https://localhost:8080/"
        },
        "outputId": "1d3c3828-c465-4ac6-9105-81fd3e7f1cff"
      },
      "outputs": [
        {
          "output_type": "stream",
          "name": "stdout",
          "text": [
            "Elemento na posição 10 (índice 10) é o AAY66623.1\n"
          ]
        }
      ],
      "source": [
        "# Obter e imprimir o elemento na posição 10 (índice 10)\n",
        "# Lembrar que a indexação em Python começa em 0, então a posição 10 é o 11º elemento...\n",
        "if len(identificadores_genbank) > 10:\n",
        "    elemento_pos_10 = identificadores_genbank[10]\n",
        "    print(f\"Elemento na posição 10 (índice 10) é o {elemento_pos_10}\")\n",
        "else:\n",
        "    print(\"A lista não possui 11 elementos (posição 10).\")"
      ],
      "id": "sFwJWHSQh1KD"
    },
    {
      "cell_type": "markdown",
      "metadata": {
        "id": "BiHQmWvih1KD"
      },
      "source": [
        "#### d) Insira os identificadores nas posições indicadas e imprima a lista final:\n",
        "• AAY66967.1 posição 11\n",
        "• AAY66880.1 posição 21\n",
        "• AAY66874.1 posição 16"
      ],
      "id": "BiHQmWvih1KD"
    },
    {
      "cell_type": "code",
      "execution_count": null,
      "metadata": {
        "id": "SqS_NC5-h1KD",
        "colab": {
          "base_uri": "https://localhost:8080/"
        },
        "outputId": "3b1e393e-027a-4a04-9528-ee5358cd4bd0"
      },
      "outputs": [
        {
          "output_type": "stream",
          "name": "stdout",
          "text": [
            "Lista após inserções: ['AAY66821.1', 'AAY66759.1', 'AAY66711.1', 'AAY66706.1', 'AAY66703.1', 'AAY66697.1', 'AAY66696.1', 'AAY66682.1', 'AAY66647.1', 'AAY66625.1', 'AAY66623.1', 'AAY66967.1', 'AAY66620.1', 'AAY66619.1', 'AAY66616.1', 'AAY66609.1', 'AAY66874.1', 'AAY66607.1', 'AAY66586.1', 'AAY66564.1', 'AAY66562.1', 'AAY66561.1', 'AAY66880.1', 'AAY66558.1', 'AAY66544.1', 'AAY66542.1', 'AAY66539.1', 'AAY66538.1', 'AAY66537.1', 'AAY66536.1', 'AAY66512.1', 'AAY66496.1', 'AAM93627.1', 'AAM93626.1', 'AAY66506.1', 'AAM93587.1', 'AAY66811.1', 'AAY66620.1', 'AAY66555.1', 'AAY66707.1', 'AAM93653.1', 'AAY66608.1', 'AAY66700.1', 'AAY66646.1', 'AAY66809.1', 'AAK97814.1', 'AAK97810.1', 'AAY66594.1', 'AAY66685.1', 'AAY66571.1', 'AAY66865.1']\n",
            "Novo tamanho da lista: 51\n"
          ]
        }
      ],
      "source": [
        "# Inserir identificadores em posições específicas\n",
        "# É importante fazer uma cópia da lista para não alterar a original para os próximos exercícios, se necessário o re-uso\n",
        "lista_modificada_d = list(identificadores_genbank) # Cria uma cópia\n",
        "\n",
        "# As inserções alteram os índices dos elementos subsequentes\n",
        "# É mais seguro inserir em ordem decrescente de índice ou ajustar os índices conforme as inserções... ou, como faremos aqui, inserir e deixar que os índices se ajustem...\n",
        "\n",
        "# Posição 11 (índice 11)\n",
        "if len(lista_modificada_d) >= 11:\n",
        "    lista_modificada_d.insert(11, \"AAY66967.1\")\n",
        "else:\n",
        "    lista_modificada_d.append(\"AAY66967.1\") # Adiciona ao final se a posição não existir\n",
        "    print(\"Aviso: Posição 11 para AAY66967.1 estava além do tamanho, adicionado ao final.\")\n",
        "\n",
        "# Posição 21 (índice 21)\n",
        "if len(lista_modificada_d) >= 21:\n",
        "    lista_modificada_d.insert(21, \"AAY66880.1\")\n",
        "else:\n",
        "    lista_modificada_d.append(\"AAY66880.1\")\n",
        "    print(\"Aviso: Posição 21 para AAY66880.1 estava além do tamanho, adicionado ao final.\")\n",
        "\n",
        "# Posição 16 (índice 16)\n",
        "if len(lista_modificada_d) >= 16:\n",
        "    lista_modificada_d.insert(16, \"AAY66874.1\")\n",
        "else:\n",
        "    lista_modificada_d.append(\"AAY66874.1\")\n",
        "    print(\"Aviso: Posição 16 para AAY66874.1 estava além do tamanho, adicionado ao final.\")\n",
        "\n",
        "print(f\"Lista após inserções: {lista_modificada_d}\")\n",
        "print(f\"Novo tamanho da lista: {len(lista_modificada_d)}\")"
      ],
      "id": "SqS_NC5-h1KD"
    },
    {
      "cell_type": "markdown",
      "metadata": {
        "id": "EtnQ-SVjh1KE"
      },
      "source": [
        "#### e) Verifique o elemento na posição 8 e em seguida o retire da lista e imprima a lista final.\n",
        "**Obervação:** Usarei aqui a `lista_modificada_d` do item anterior para esta operação."
      ],
      "id": "EtnQ-SVjh1KE"
    },
    {
      "cell_type": "code",
      "execution_count": null,
      "metadata": {
        "id": "ZgV5-nGdh1KE",
        "colab": {
          "base_uri": "https://localhost:8080/"
        },
        "outputId": "41b2afb7-49e7-4557-cb4d-f31068f8dd3c"
      },
      "outputs": [
        {
          "output_type": "stream",
          "name": "stdout",
          "text": [
            "Elemento na posição 8 (índice 8) antes da remoção: AAY66647.1\n",
            "Elemento removido da posição 8: AAY66647.1\n",
            "Lista após remoção: ['AAY66821.1', 'AAY66759.1', 'AAY66711.1', 'AAY66706.1', 'AAY66703.1', 'AAY66697.1', 'AAY66696.1', 'AAY66682.1', 'AAY66625.1', 'AAY66623.1', 'AAY66967.1', 'AAY66620.1', 'AAY66619.1', 'AAY66616.1', 'AAY66609.1', 'AAY66874.1', 'AAY66607.1', 'AAY66586.1', 'AAY66564.1', 'AAY66562.1', 'AAY66561.1', 'AAY66880.1', 'AAY66558.1', 'AAY66544.1', 'AAY66542.1', 'AAY66539.1', 'AAY66538.1', 'AAY66537.1', 'AAY66536.1', 'AAY66512.1', 'AAY66496.1', 'AAM93627.1', 'AAM93626.1', 'AAY66506.1', 'AAM93587.1', 'AAY66811.1', 'AAY66620.1', 'AAY66555.1', 'AAY66707.1', 'AAM93653.1', 'AAY66608.1', 'AAY66700.1', 'AAY66646.1', 'AAY66809.1', 'AAK97814.1', 'AAK97810.1', 'AAY66594.1', 'AAY66685.1', 'AAY66571.1', 'AAY66865.1']\n",
            "Novo tamanho da lista: 50\n"
          ]
        }
      ],
      "source": [
        "# Verificar elemento na posição 8 (índice 8), retirá-lo e imprimir\n",
        "lista_modificada_e = list(lista_modificada_d) # Copiar a lista do item anterior\n",
        "\n",
        "if len(lista_modificada_e) > 8:\n",
        "    elemento_pos_8 = lista_modificada_e[8]\n",
        "    print(f\"Elemento na posição 8 (índice 8) antes da remoção: {elemento_pos_8}\")\n",
        "\n",
        "    # Retirar o elemento na posição 8\n",
        "    elemento_removido = lista_modificada_e.pop(8)\n",
        "    print(f\"Elemento removido da posição 8: {elemento_removido}\")\n",
        "    print(f\"Lista após remoção: {lista_modificada_e}\")\n",
        "    print(f\"Novo tamanho da lista: {len(lista_modificada_e)}\")\n",
        "else:\n",
        "    print(\"A lista não possui 9 elementos (posição 8) para verificar ou remover.\")"
      ],
      "id": "ZgV5-nGdh1KE"
    },
    {
      "cell_type": "markdown",
      "metadata": {
        "id": "bTFvEJ0Eh1KE"
      },
      "source": [
        "### Exercício 2: Energias do Docking\n",
        "\n",
        "Em um experimento de docking proteína-proteína (por exemplo) foram obtidos os seguintes valores reais de energias:"
      ],
      "id": "bTFvEJ0Eh1KE"
    },
    {
      "cell_type": "code",
      "execution_count": null,
      "metadata": {
        "id": "AXUBNytYh1KE"
      },
      "outputs": [],
      "source": [
        "# Lista de energias\n",
        "energias_docking = [\n",
        "-695.9, -884.3, -658.2, -917.9, -799.8, -842.1, -618.6, -726.6, -652.6, -594.8, -536.1, -788.2, -772.1, -676.9, -600.2, -575, -575.3,-603.4, -659.6, -715.3,\n",
        "-643.8, -703, -763.1, -712.1, -719, -574.2, -594.1, -700.3, -742.1, -621.9, -649.7, -663.3, -825.3, -849.3, -616.5, -675.1, -572.8,-624.2, -608, -615.3,\n",
        "-572.8, -665.3, -644.6,-788.9, -631.8, -707.4, -715.2, -728.2, -729, -642.1, -567.8 , -596.5, -551.5, -735, -805.5, -696.7, -617.9, -606.5, -658.8, -667.8,\n",
        "-689.5, -728.4, -564, -725.8, -623.2, -637, -570.9, -646.6, -703.2, -722.3, -624.1, -655.4\n",
        "]"
      ],
      "id": "AXUBNytYh1KE"
    },
    {
      "cell_type": "markdown",
      "metadata": {
        "id": "DkSNuLWch1KE"
      },
      "source": [
        "#### a) Crie uma lista contendo os valores acima e imprima essa lista."
      ],
      "id": "DkSNuLWch1KE"
    },
    {
      "cell_type": "code",
      "execution_count": null,
      "metadata": {
        "id": "Vl3lxBG8h1KE",
        "colab": {
          "base_uri": "https://localhost:8080/"
        },
        "outputId": "bf24f32f-fdf4-4914-f8a4-9a973c648f65"
      },
      "outputs": [
        {
          "output_type": "stream",
          "name": "stdout",
          "text": [
            "A lista de energias resutante do docking é: [-695.9, -884.3, -658.2, -917.9, -799.8, -842.1, -618.6, -726.6, -652.6, -594.8, -536.1, -788.2, -772.1, -676.9, -600.2, -575, -575.3, -603.4, -659.6, -715.3, -643.8, -703, -763.1, -712.1, -719, -574.2, -594.1, -700.3, -742.1, -621.9, -649.7, -663.3, -825.3, -849.3, -616.5, -675.1, -572.8, -624.2, -608, -615.3, -572.8, -665.3, -644.6, -788.9, -631.8, -707.4, -715.2, -728.2, -729, -642.1, -567.8, -596.5, -551.5, -735, -805.5, -696.7, -617.9, -606.5, -658.8, -667.8, -689.5, -728.4, -564, -725.8, -623.2, -637, -570.9, -646.6, -703.2, -722.3, -624.1, -655.4]\n"
          ]
        }
      ],
      "source": [
        "# Criar a lista (já criada acima) e imprimir\n",
        "print(f\"A lista de energias resutante do docking é: {energias_docking}\")"
      ],
      "id": "Vl3lxBG8h1KE"
    },
    {
      "cell_type": "markdown",
      "metadata": {
        "id": "eJXr3cAwh1KE"
      },
      "source": [
        "#### b) Obtenha e imprima o tamanho da lista."
      ],
      "id": "eJXr3cAwh1KE"
    },
    {
      "cell_type": "code",
      "execution_count": null,
      "metadata": {
        "id": "P6vcBZ-bh1KE",
        "colab": {
          "base_uri": "https://localhost:8080/"
        },
        "outputId": "36e384fc-cbd6-4f6a-8ac1-e04495327dc0"
      },
      "outputs": [
        {
          "output_type": "stream",
          "name": "stdout",
          "text": [
            "Tamanho da lista de energias é: 72\n"
          ]
        }
      ],
      "source": [
        "# Obter e imprimir o tamanho da lista\n",
        "tamanho_lista_energias = len(energias_docking)\n",
        "print(f\"Tamanho da lista de energias é: {tamanho_lista_energias}\")"
      ],
      "id": "P6vcBZ-bh1KE"
    },
    {
      "cell_type": "markdown",
      "metadata": {
        "id": "Js-8hEeph1KE"
      },
      "source": [
        "#### c) Retorne o melhor score, considerando que o melhor modelo é aquele que apresenta a menor energia."
      ],
      "id": "Js-8hEeph1KE"
    },
    {
      "cell_type": "code",
      "execution_count": null,
      "metadata": {
        "id": "wmJZ98R_h1KE",
        "colab": {
          "base_uri": "https://localhost:8080/"
        },
        "outputId": "20fda595-a023-4f72-8511-7a0b2189788b"
      },
      "outputs": [
        {
          "output_type": "stream",
          "name": "stdout",
          "text": [
            "O melhor score (menor energia) é o: -917.9\n"
          ]
        }
      ],
      "source": [
        "# Retornar o melhor score (menor energia)\n",
        "if energias_docking:\n",
        "    melhor_score = min(energias_docking)\n",
        "    print(f\"O melhor score (menor energia) é o: {melhor_score}\")\n",
        "else:\n",
        "    print(\"A lista de energias está vazia.\")"
      ],
      "id": "wmJZ98R_h1KE"
    },
    {
      "cell_type": "markdown",
      "metadata": {
        "id": "uqGS1fb4h1KE"
      },
      "source": [
        "#### d) Retorne o pior score considerando que o mesmo apresenta a maior energia."
      ],
      "id": "uqGS1fb4h1KE"
    },
    {
      "cell_type": "code",
      "execution_count": null,
      "metadata": {
        "id": "abDRdwPSh1KE",
        "colab": {
          "base_uri": "https://localhost:8080/"
        },
        "outputId": "b7b0cfcc-e137-4d78-bf6b-00c822413ae7"
      },
      "outputs": [
        {
          "output_type": "stream",
          "name": "stdout",
          "text": [
            "O pior score (maior energia) é o: -536.1\n"
          ]
        }
      ],
      "source": [
        "# Retornar o pior score (maior energia)\n",
        "if energias_docking:\n",
        "    pior_score = max(energias_docking)\n",
        "    print(f\"O pior score (maior energia) é o: {pior_score}\")\n",
        "else:\n",
        "    print(\"A lista de energias está vazia.\")"
      ],
      "id": "abDRdwPSh1KE"
    },
    {
      "cell_type": "markdown",
      "metadata": {
        "id": "NlZ7qRHvh1KE"
      },
      "source": [
        "#### e) Remova o valor -575 da lista criada."
      ],
      "id": "NlZ7qRHvh1KE"
    },
    {
      "cell_type": "code",
      "execution_count": null,
      "metadata": {
        "id": "p9AEv8Mxh1KE",
        "colab": {
          "base_uri": "https://localhost:8080/"
        },
        "outputId": "4634f4b9-56f4-4516-e4b8-e4018f227f70"
      },
      "outputs": [
        {
          "output_type": "stream",
          "name": "stdout",
          "text": [
            "Lista após remover o score de -575: [-695.9, -884.3, -658.2, -917.9, -799.8, -842.1, -618.6, -726.6, -652.6, -594.8, -536.1, -788.2, -772.1, -676.9, -600.2, -575.3, -603.4, -659.6, -715.3, -643.8, -703, -763.1, -712.1, -719, -574.2, -594.1, -700.3, -742.1, -621.9, -649.7, -663.3, -825.3, -849.3, -616.5, -675.1, -572.8, -624.2, -608, -615.3, -572.8, -665.3, -644.6, -788.9, -631.8, -707.4, -715.2, -728.2, -729, -642.1, -567.8, -596.5, -551.5, -735, -805.5, -696.7, -617.9, -606.5, -658.8, -667.8, -689.5, -728.4, -564, -725.8, -623.2, -637, -570.9, -646.6, -703.2, -722.3, -624.1, -655.4]\n",
            "Novo tamanho da lista: 71\n"
          ]
        }
      ],
      "source": [
        "# Remover o valor -575 da lista\n",
        "lista_modificada_e_energias = list(energias_docking) # Copiar a lista original por segurança\n",
        "valor_para_remover = -575\n",
        "if valor_para_remover in lista_modificada_e_energias:\n",
        "    lista_modificada_e_energias.remove(valor_para_remover)\n",
        "    print(f\"Lista após remover o score de {valor_para_remover}: {lista_modificada_e_energias}\")\n",
        "    print(f\"Novo tamanho da lista: {len(lista_modificada_e_energias)}\")\n",
        "else:\n",
        "    print(f\"O valor {valor_para_remover} não foi encontrado na lista para remoção.\")"
      ],
      "id": "p9AEv8Mxh1KE"
    },
    {
      "cell_type": "markdown",
      "metadata": {
        "id": "yKS60UKRh1KF"
      },
      "source": [
        "#### f) Ordene e imprima a lista criada em ordem crescente.\n",
        "**Observação:** Será usada a `lista_modificada_e_energias` do item anterior..."
      ],
      "id": "yKS60UKRh1KF"
    },
    {
      "cell_type": "code",
      "execution_count": null,
      "metadata": {
        "id": "CSmV9igYh1KF",
        "colab": {
          "base_uri": "https://localhost:8080/"
        },
        "outputId": "289961e9-45ee-4315-9413-64880b1d03be"
      },
      "outputs": [
        {
          "output_type": "stream",
          "name": "stdout",
          "text": [
            "Lista ordenada por scores em ordem crescente: [-917.9, -884.3, -849.3, -842.1, -825.3, -805.5, -799.8, -788.9, -788.2, -772.1, -763.1, -742.1, -735, -729, -728.4, -728.2, -726.6, -725.8, -722.3, -719, -715.3, -715.2, -712.1, -707.4, -703.2, -703, -700.3, -696.7, -695.9, -689.5, -676.9, -675.1, -667.8, -665.3, -663.3, -659.6, -658.8, -658.2, -655.4, -652.6, -649.7, -646.6, -644.6, -643.8, -642.1, -637, -631.8, -624.2, -624.1, -623.2, -621.9, -618.6, -617.9, -616.5, -615.3, -608, -606.5, -603.4, -600.2, -596.5, -594.8, -594.1, -575.3, -574.2, -572.8, -572.8, -570.9, -567.8, -564, -551.5, -536.1]\n"
          ]
        }
      ],
      "source": [
        "# Ordenar a lista em ordem crescente\n",
        "lista_ordenada_crescente = sorted(lista_modificada_e_energias) # sorted() retorna uma nova lista ordenada\n",
        "print(f\"Lista ordenada por scores em ordem crescente: {lista_ordenada_crescente}\")"
      ],
      "id": "CSmV9igYh1KF"
    },
    {
      "cell_type": "markdown",
      "metadata": {
        "id": "jBh9LoX9h1KF"
      },
      "source": [
        "#### g) Utilizando a lista ordenada na atividade anterior retorne o seu reverso (lista decrescente)."
      ],
      "id": "jBh9LoX9h1KF"
    },
    {
      "cell_type": "code",
      "execution_count": null,
      "metadata": {
        "id": "jN0-JVgWh1KF",
        "colab": {
          "base_uri": "https://localhost:8080/"
        },
        "outputId": "988e55f7-e1dc-48c0-b489-dd0e59997f48"
      },
      "outputs": [
        {
          "output_type": "stream",
          "name": "stdout",
          "text": [
            "Lista ordenada em ordem decrescente de scores: [-536.1, -551.5, -564, -567.8, -570.9, -572.8, -572.8, -574.2, -575.3, -594.1, -594.8, -596.5, -600.2, -603.4, -606.5, -608, -615.3, -616.5, -617.9, -618.6, -621.9, -623.2, -624.1, -624.2, -631.8, -637, -642.1, -643.8, -644.6, -646.6, -649.7, -652.6, -655.4, -658.2, -658.8, -659.6, -663.3, -665.3, -667.8, -675.1, -676.9, -689.5, -695.9, -696.7, -700.3, -703, -703.2, -707.4, -712.1, -715.2, -715.3, -719, -722.3, -725.8, -726.6, -728.2, -728.4, -729, -735, -742.1, -763.1, -772.1, -788.2, -788.9, -799.8, -805.5, -825.3, -842.1, -849.3, -884.3, -917.9]\n"
          ]
        }
      ],
      "source": [
        "# Retornar o reverso da lista ordenada (em ordem decrescente)\n",
        "lista_ordenada_decrescente_sorted = sorted(lista_modificada_e_energias, reverse=True)\n",
        "print(f\"Lista ordenada em ordem decrescente de scores: {lista_ordenada_decrescente_sorted}\")"
      ],
      "id": "jN0-JVgWh1KF"
    },
    {
      "cell_type": "markdown",
      "metadata": {
        "id": "5uT-_055h1KF"
      },
      "source": [
        "## Lista de Exercícios 5: Variáveis - Conjuntos (OK)"
      ],
      "id": "5uT-_055h1KF"
    },
    {
      "cell_type": "markdown",
      "metadata": {
        "id": "yAP0Uhtzh1KF"
      },
      "source": [
        "### Exercício 1: Valores de RMSD\n",
        "\n",
        "Em um experimento de docking molecular utilizando três ferramentas diferentes, foram obtidos os três três conjuntos de RMSD da tabela abaixo. Considerando os valores desta tabela, crie os 3 conjuntos usando variáveis do tipo conjunto em Python.\n",
        "\n",
        "**Valores:**\n",
        "\n",
        "Ferramenta 1: `1.9, 1.8, 5.7, 1.6, 5.8, 1.7, 9.6, 5.9, 9.5, 6.5, 6.2, 1.1, 4.4, 3.5, 2.9, 4.7, 4.6, 5.2, 5.3`\n",
        "\n",
        "Ferramenta 2: `4.7, 3.6, 6.2, 7.1, 7.0, 5.6, 5.7, 3.4, 3.3, 2.1, 3.8, 3.9, 5.0, 5.1, 1.9, 9.5, 1.0, 1.3, 5.4`\n",
        "\n",
        "Ferramenta 3: `2.2, 3.3, 5.1, 3.0, 3.7, 9.1, 8.8, 8.5, 2.0, 4.1, 6.1, 4.9, 1.1, 0.5, 0.8, 3.2, 6.9, 9.3, 9.5`"
      ],
      "id": "yAP0Uhtzh1KF"
    },
    {
      "cell_type": "code",
      "execution_count": null,
      "metadata": {
        "id": "W0VS_h9nh1KF",
        "colab": {
          "base_uri": "https://localhost:8080/"
        },
        "outputId": "64904cbc-4bf4-4f7a-f00f-dcd302d26a40"
      },
      "outputs": [
        {
          "output_type": "stream",
          "name": "stdout",
          "text": [
            "O Conjunto 1, ou seja, a Ferramenta 1 é composta pelos valores: {1.9, 1.6, 1.8, 1.7, 5.8, 5.7, 5.9, 6.5, 9.6, 9.5, 6.2, 4.4, 5.3, 5.2, 3.5, 4.6, 1.1, 4.7, 2.9}\n",
            "O Conjunto 2, ou seja, a Ferramenta 2 é composta pelos valores: {1.9, 2.1, 3.6, 4.7, 5.6, 6.2, 7.0, 7.1, 5.7, 3.4, 3.3, 3.8, 5.0, 5.1, 9.5, 5.4, 1.0, 1.3, 3.9}\n",
            "O Conjunto 3, ou seja, a Ferramenta 3 é composta pelos valores: {0.5, 1.1, 2.2, 3.0, 3.3, 3.7, 5.1, 2.0, 8.8, 9.1, 8.5, 4.1, 6.1, 4.9, 6.9, 9.3, 9.5, 3.2, 0.8}\n"
          ]
        }
      ],
      "source": [
        "# Exercício 1: Conjuntos de valores de RMSD\n",
        "rmsd_ferramenta1_lista = [1.9, 1.8, 5.7, 1.6, 5.8, 1.7, 9.6, 5.9, 9.5, 6.5, 6.2, 1.1, 4.4, 3.5, 2.9, 4.7, 4.6, 5.2, 5.3]\n",
        "rmsd_ferramenta2_lista = [4.7, 3.6, 6.2, 7.1, 7.0, 5.6, 5.7, 3.4, 3.3, 2.1, 3.8, 3.9, 5.0, 5.1, 1.9, 9.5, 1.0, 1.3, 5.4]\n",
        "rmsd_ferramenta3_lista = [2.2, 3.3, 5.1, 3.0, 3.7, 9.1, 8.8, 8.5, 2.0, 4.1, 6.1, 4.9, 1.1, 0.5, 0.8, 3.2, 6.9, 9.3, 9.5]\n",
        "\n",
        "# Criando os conjuntos\n",
        "conjunto1 = set(rmsd_ferramenta1_lista)\n",
        "conjunto2 = set(rmsd_ferramenta2_lista)\n",
        "conjunto3 = set(rmsd_ferramenta3_lista)\n",
        "\n",
        "print(f\"O Conjunto 1, ou seja, a Ferramenta 1 é composta pelos valores: {conjunto1}\")\n",
        "print(f\"O Conjunto 2, ou seja, a Ferramenta 2 é composta pelos valores: {conjunto2}\")\n",
        "print(f\"O Conjunto 3, ou seja, a Ferramenta 3 é composta pelos valores: {conjunto3}\")"
      ],
      "id": "W0VS_h9nh1KF"
    },
    {
      "cell_type": "markdown",
      "metadata": {
        "id": "KATcd8jxh1KF"
      },
      "source": [
        "#### a) Verifique as diferenças entre os conjuntos (1,2), (1,3) e (2,3)"
      ],
      "id": "KATcd8jxh1KF"
    },
    {
      "cell_type": "code",
      "execution_count": null,
      "metadata": {
        "id": "xiig3FvXh1KF",
        "colab": {
          "base_uri": "https://localhost:8080/"
        },
        "outputId": "1aeb10b9-ec86-4f1a-8abc-1783dfcb3c31"
      },
      "outputs": [
        {
          "output_type": "stream",
          "name": "stdout",
          "text": [
            "A diferença entre (Conjunto 1 - Conjunto 2) é: {1.7, 1.6, 1.8, 4.4, 5.9, 5.8, 6.5, 5.3, 9.6, 5.2, 3.5, 4.6, 1.1, 2.9}\n",
            "A diferença entre (Conjunto 2 - Conjunto 1) é: {1.0, 2.1, 3.6, 3.4, 5.6, 3.3, 7.1, 7.0, 3.8, 5.0, 5.1, 5.4, 3.9, 1.3}\n",
            "A diferença entre (Conjunto 1 - Conjunto 3) é: {1.7, 1.9, 1.8, 1.6, 5.8, 5.7, 5.9, 6.5, 9.6, 6.2, 4.4, 5.3, 5.2, 2.9, 3.5, 4.6, 4.7}\n",
            "A diferença entre (Conjunto 3 - Conjunto 1) é: {0.5, 0.8, 2.2, 3.0, 3.7, 3.3, 5.1, 2.0, 8.8, 9.1, 8.5, 4.1, 6.1, 4.9, 6.9, 9.3, 3.2}\n",
            "A diferença entre (Conjunto 2 - Conjunto 3) é: {1.9, 2.1, 3.6, 4.7, 5.6, 6.2, 7.0, 7.1, 5.7, 3.4, 3.8, 5.0, 5.4, 1.0, 3.9, 1.3}\n",
            "A diferença entre (Conjunto 3 - Conjunto 2) é: {0.5, 1.1, 2.2, 3.0, 3.7, 2.0, 4.1, 6.1, 8.8, 9.1, 8.5, 4.9, 6.9, 9.3, 3.2, 0.8}\n"
          ]
        }
      ],
      "source": [
        "# Diferenças entre os conjuntos/ferramentas\n",
        "dif_1_2 = conjunto1.difference(conjunto2)\n",
        "dif_2_1 = conjunto2.difference(conjunto1)\n",
        "print(f\"A diferença entre (Conjunto 1 - Conjunto 2) é: {dif_1_2}\")\n",
        "print(f\"A diferença entre (Conjunto 2 - Conjunto 1) é: {dif_2_1}\")\n",
        "\n",
        "dif_1_3 = conjunto1.difference(conjunto3)\n",
        "dif_3_1 = conjunto3.difference(conjunto1)\n",
        "print(f\"A diferença entre (Conjunto 1 - Conjunto 3) é: {dif_1_3}\")\n",
        "print(f\"A diferença entre (Conjunto 3 - Conjunto 1) é: {dif_3_1}\")\n",
        "\n",
        "dif_2_3 = conjunto2.difference(conjunto3)\n",
        "dif_3_2 = conjunto3.difference(conjunto2)\n",
        "print(f\"A diferença entre (Conjunto 2 - Conjunto 3) é: {dif_2_3}\")\n",
        "print(f\"A diferença entre (Conjunto 3 - Conjunto 2) é: {dif_3_2}\")"
      ],
      "id": "xiig3FvXh1KF"
    },
    {
      "cell_type": "markdown",
      "metadata": {
        "id": "l6VEeMU6h1KF"
      },
      "source": [
        "#### b) Retorne as intersecções entre (1,2), (1,3) e (2,3)"
      ],
      "id": "l6VEeMU6h1KF"
    },
    {
      "cell_type": "code",
      "execution_count": null,
      "metadata": {
        "id": "qcz857zgh1KF",
        "colab": {
          "base_uri": "https://localhost:8080/"
        },
        "outputId": "89278f76-4bd1-44a6-f650-4552fef29377"
      },
      "outputs": [
        {
          "output_type": "stream",
          "name": "stdout",
          "text": [
            "A intersecção entre o Conjunto 1 e Conjunto 2 é: {1.9, 4.7, 5.7, 6.2, 9.5}\n",
            "A intersecção entre o Conjunto 1 e Conjunto 3 é: {1.1, 9.5}\n",
            "A intersecção entre o Conjunto 2 e Conjunto 3 é: {9.5, 3.3, 5.1}\n"
          ]
        }
      ],
      "source": [
        "# Intersecções entre os conjuntos\n",
        "inter_1_2 = conjunto1.intersection(conjunto2)\n",
        "print(f\"A intersecção entre o Conjunto 1 e Conjunto 2 é: {inter_1_2}\")\n",
        "\n",
        "inter_1_3 = conjunto1.intersection(conjunto3)\n",
        "print(f\"A intersecção entre o Conjunto 1 e Conjunto 3 é: {inter_1_3}\")\n",
        "\n",
        "inter_2_3 = conjunto2.intersection(conjunto3)\n",
        "print(f\"A intersecção entre o Conjunto 2 e Conjunto 3 é: {inter_2_3}\")"
      ],
      "id": "qcz857zgh1KF"
    },
    {
      "cell_type": "markdown",
      "metadata": {
        "id": "skvMhI9rh1KF"
      },
      "source": [
        "#### c) Insira todos os elementos do conjunto 2 e 3 no conjunto 1"
      ],
      "id": "skvMhI9rh1KF"
    },
    {
      "cell_type": "code",
      "execution_count": null,
      "metadata": {
        "id": "Y-DRBIGQh1KF",
        "colab": {
          "base_uri": "https://localhost:8080/"
        },
        "outputId": "b1d531a0-4f65-4f99-b876-a5a010c44179"
      },
      "outputs": [
        {
          "output_type": "stream",
          "name": "stdout",
          "text": [
            "O Conjunto 1 após atualização com o Conjunto 2 e o Conjunto 3, resulta em: {0.5, 1.9, 1.6, 1.8, 1.7, 5.8, 5.7, 5.9, 6.5, 9.6, 9.5, 6.2, 4.4, 5.3, 5.2, 7.0, 3.5, 3.0, 2.0, 4.6, 4.1, 4.9, 5.6, 5.0, 5.1, 5.4, 1.0, 6.1, 6.9, 7.1, 1.1, 8.8, 8.5, 2.1, 9.1, 9.3, 3.6, 2.2, 3.3, 3.8, 3.7, 3.2, 0.8, 4.7, 1.3, 2.9, 3.4, 3.9}\n"
          ]
        }
      ],
      "source": [
        "# Inserir todos os elementos do conjunto 2 e 3 no conjunto 1\n",
        "conjunto1_atualizado = conjunto1.copy()\n",
        "conjunto1_atualizado.update(conjunto2) # Aqui é adicionado todos os elementos de conjunto 2\n",
        "conjunto1_atualizado.update(conjunto3) # Aqui é adicionado todos os elementos de conjunto 3\n",
        "print(f\"O Conjunto 1 após atualização com o Conjunto 2 e o Conjunto 3, resulta em: {conjunto1_atualizado}\")"
      ],
      "id": "Y-DRBIGQh1KF"
    },
    {
      "cell_type": "markdown",
      "metadata": {
        "id": "FISL1bQgh1KG"
      },
      "source": [
        "#### d) Retorne o tamanho do conjunto formado pela tarefa (c)."
      ],
      "id": "FISL1bQgh1KG"
    },
    {
      "cell_type": "code",
      "execution_count": null,
      "metadata": {
        "id": "rrQwWxFGh1KG",
        "colab": {
          "base_uri": "https://localhost:8080/"
        },
        "outputId": "5f7c9b64-8941-4414-9c12-015b98bdd6fc"
      },
      "outputs": [
        {
          "output_type": "stream",
          "name": "stdout",
          "text": [
            "Tamanho do Conjunto 1 atualizado é de 48 elementos!\n"
          ]
        }
      ],
      "source": [
        "# Tamanho total do conjunto formado\n",
        "tamanho_conjunto1_atualizado = len(conjunto1_atualizado)\n",
        "print(f\"Tamanho do Conjunto 1 atualizado é de {tamanho_conjunto1_atualizado} elementos!\")"
      ],
      "id": "rrQwWxFGh1KG"
    },
    {
      "cell_type": "markdown",
      "metadata": {
        "id": "8qggTmXeh1KG"
      },
      "source": [
        "### Exercício 2: Operações com Conjuntos Diversos\n",
        "\n",
        "Dados os seguintes conjuntos:\n",
        "\n",
        "A = {3, 6, 9, 12, 15, 18, 21, 24, 28, 27}\n",
        "\n",
        "B = {2, 6, 8, 10, 14, 16, 18, 20, 22, 24}\n",
        "\n",
        "C = {2, 6, 10, 18, 20}\n",
        "\n",
        "D = {1, 30, 5, 11, 17, 16, 22, 26}"
      ],
      "id": "8qggTmXeh1KG"
    },
    {
      "cell_type": "code",
      "execution_count": null,
      "metadata": {
        "id": "hYRK1XLBh1KG",
        "colab": {
          "base_uri": "https://localhost:8080/"
        },
        "outputId": "44aa89ef-c2f9-4bac-811a-f39ac99b2fde"
      },
      "outputs": [
        {
          "output_type": "stream",
          "name": "stdout",
          "text": [
            "Conjunto A: {3, 6, 9, 12, 15, 18, 21, 24, 27, 28}\n",
            "Conjunto B: {2, 6, 8, 10, 14, 16, 18, 20, 22, 24}\n",
            "Conjunto C: {2, 18, 20, 6, 10}\n",
            "Conjunto D: {1, 5, 11, 16, 17, 22, 26, 30}\n"
          ]
        }
      ],
      "source": [
        "# Exercício 2: Operações com Conjuntos Diversos\n",
        "A = {3, 6, 9, 12, 15, 18, 21, 24, 28, 27}\n",
        "B = {2, 6, 8, 10, 14, 16, 18, 20, 22, 24}\n",
        "C = {2, 6, 10, 18, 20}\n",
        "D = {1, 30, 5, 11, 17, 16, 22, 26}\n",
        "\n",
        "print(f\"Conjunto A: {A}\")\n",
        "print(f\"Conjunto B: {B}\")\n",
        "print(f\"Conjunto C: {C}\")\n",
        "print(f\"Conjunto D: {D}\")"
      ],
      "id": "hYRK1XLBh1KG"
    },
    {
      "cell_type": "markdown",
      "metadata": {
        "id": "dOsJV-wvh1KG"
      },
      "source": [
        "#### a) Verifique a interseção e diferença entre o conjunto A e B."
      ],
      "id": "dOsJV-wvh1KG"
    },
    {
      "cell_type": "code",
      "execution_count": null,
      "metadata": {
        "id": "H9i5nhBwh1KG",
        "colab": {
          "base_uri": "https://localhost:8080/"
        },
        "outputId": "e40b2796-481a-4f4b-aa73-7ccf378a9fb7"
      },
      "outputs": [
        {
          "output_type": "stream",
          "name": "stdout",
          "text": [
            "A interseção entre A e B é: {24, 18, 6}\n",
            "A diferença entre A e B é: {3, 9, 12, 15, 21, 27, 28}\n",
            "A diferença entre B e A é: {2, 8, 10, 14, 16, 20, 22}\n"
          ]
        }
      ],
      "source": [
        "# Interseção e diferença entre A e B\n",
        "intersecao_A_B = A.intersection(B)\n",
        "diferenca_A_B = A.difference(B)\n",
        "diferenca_B_A = B.difference(A)\n",
        "\n",
        "print(f\"A interseção entre A e B é: {intersecao_A_B}\")\n",
        "print(f\"A diferença entre A e B é: {diferenca_A_B}\")\n",
        "print(f\"A diferença entre B e A é: {diferenca_B_A}\")"
      ],
      "id": "H9i5nhBwh1KG"
    },
    {
      "cell_type": "markdown",
      "metadata": {
        "id": "ahg9rwteh1KG"
      },
      "source": [
        "#### b) Verifique se o conjunto A e B são disjuntos ao conjunto D"
      ],
      "id": "ahg9rwteh1KG"
    },
    {
      "cell_type": "code",
      "execution_count": null,
      "metadata": {
        "id": "g1rU_fWrh1KG",
        "colab": {
          "base_uri": "https://localhost:8080/"
        },
        "outputId": "14225b51-3d8e-4342-9977-f6cdf892f8d5"
      },
      "outputs": [
        {
          "output_type": "stream",
          "name": "stdout",
          "text": [
            "O conjunto A é disjunto ao conjunto D? True\n",
            "O conjunto B é disjunto ao conjunto D? False\n"
          ]
        }
      ],
      "source": [
        "# Conjuntos disjuntos, em matemática, são aqueles que não compartilham nenhum elemento em comum\n",
        "# Verificar se A e B são disjuntos ao D\n",
        "A_disjunto_D = A.isdisjoint(D)\n",
        "B_disjunto_D = B.isdisjoint(D)\n",
        "\n",
        "print(f\"O conjunto A é disjunto ao conjunto D? {A_disjunto_D}\")\n",
        "print(f\"O conjunto B é disjunto ao conjunto D? {B_disjunto_D}\")"
      ],
      "id": "g1rU_fWrh1KG"
    },
    {
      "cell_type": "markdown",
      "metadata": {
        "id": "qzCKgujFh1KG"
      },
      "source": [
        "#### c) Retorne se o conjunto C é subconjunto de A e B"
      ],
      "id": "qzCKgujFh1KG"
    },
    {
      "cell_type": "code",
      "execution_count": null,
      "metadata": {
        "id": "-bKKmAJ9h1KG",
        "colab": {
          "base_uri": "https://localhost:8080/"
        },
        "outputId": "540dade3-e0fa-46fc-8947-def81e1fff84"
      },
      "outputs": [
        {
          "output_type": "stream",
          "name": "stdout",
          "text": [
            "O conjunto C é subconjunto de A? False\n",
            "O conjunto C é subconjunto de B? True\n"
          ]
        }
      ],
      "source": [
        "# Verificar se C é subconjunto de A e B\n",
        "C_subconjunto_A = C.issubset(A)\n",
        "C_subconjunto_B = C.issubset(B)\n",
        "\n",
        "print(f\"O conjunto C é subconjunto de A? {C_subconjunto_A}\")\n",
        "print(f\"O conjunto C é subconjunto de B? {C_subconjunto_B}\")"
      ],
      "id": "-bKKmAJ9h1KG"
    },
    {
      "cell_type": "markdown",
      "metadata": {
        "id": "ZAihDKN_h1KG"
      },
      "source": [
        "#### d) Acrescente os elementos 18, 23, 25, 63 no conjunto D"
      ],
      "id": "ZAihDKN_h1KG"
    },
    {
      "cell_type": "code",
      "execution_count": null,
      "metadata": {
        "id": "5cEM2DKMh1KG",
        "colab": {
          "base_uri": "https://localhost:8080/"
        },
        "outputId": "9279029c-7c33-4ef6-984f-f2b4e31bfcfe"
      },
      "outputs": [
        {
          "output_type": "stream",
          "name": "stdout",
          "text": [
            "O conjunto D original é composto por: {1, 5, 11, 16, 17, 22, 26, 30}\n",
            "O conjunto D após acréscimo fica sendo representado por: {1, 5, 11, 16, 17, 18, 22, 23, 25, 26, 30, 63}\n"
          ]
        }
      ],
      "source": [
        "# Acrescentar elementos ao conjunto D\n",
        "elementos_para_adicionar = {18, 23, 25, 63}\n",
        "D_atualizado = D.copy()\n",
        "D_atualizado.update(elementos_para_adicionar)\n",
        "\n",
        "print(f\"O conjunto D original é composto por: {D}\")\n",
        "print(f\"O conjunto D após acréscimo fica sendo representado por: {D_atualizado}\")"
      ],
      "id": "5cEM2DKMh1KG"
    },
    {
      "cell_type": "markdown",
      "metadata": {
        "id": "pCcyJXoFh1KG"
      },
      "source": [
        "## Lista de Exercícios 6: Variáveis - Dicionários (OK)"
      ],
      "id": "pCcyJXoFh1KG"
    },
    {
      "cell_type": "markdown",
      "metadata": {
        "id": "2VIJibnkh1KG"
      },
      "source": [
        "### Exercício 1: Dados do Protein Data Bank\n",
        "\n",
        "O Protein Data Bank (PDB) é uma base de dados de estruturas de proteínas. Cada entrada da base de dados é identificada de por um id de 4 letras / dígitos como por exemplo “1ABC”. Abaixo são apresentados IDs de estruturas PDBs, juntamente com a a contagem de aminoácidos presentes nessas estruturas.\n",
        "\n",
        "Dados:\n",
        "\n",
        "```\n",
        "1A8M - 471\n",
        "1TNR - 283\n",
        "2AZ5 - 592\n",
        "1TNF - 471\n",
        "2TNF - 468\n",
        "2TUN - 942\n",
        "4TSV - 150\n",
        "5TSW - 900\n",
        "2E7A - 471\n",
        "6RMJ - 489\n",
        "```"
      ],
      "id": "2VIJibnkh1KG"
    },
    {
      "cell_type": "markdown",
      "metadata": {
        "id": "gEFhadOdh1KH"
      },
      "source": [
        "#### a) Construa um dicionário onde os ids PDB sejam as chaves e o número de resíduos de aminoácidos sejam o valor."
      ],
      "id": "gEFhadOdh1KH"
    },
    {
      "cell_type": "code",
      "execution_count": null,
      "metadata": {
        "id": "n2RRUPE9h1KH",
        "colab": {
          "base_uri": "https://localhost:8080/"
        },
        "outputId": "567c4d69-b3a3-4cf0-9484-b20d14ac3618"
      },
      "outputs": [
        {
          "output_type": "stream",
          "name": "stdout",
          "text": [
            "a) O dicionário de PDBs é: {'1A8M': 471, '1TNR': 283, '2AZ5': 592, '1TNF': 471, '2TNF': 468, '2TUN': 942, '4TSV': 150, '5TSW': 900, '2E7A': 471, '6RMJ': 489}\n"
          ]
        }
      ],
      "source": [
        "# Construir o dicionário PDB\n",
        "pdb_data = {\n",
        "    \"1A8M\": 471,\n",
        "    \"1TNR\": 283,\n",
        "    \"2AZ5\": 592,\n",
        "    \"1TNF\": 471,\n",
        "    \"2TNF\": 468,\n",
        "    \"2TUN\": 942,\n",
        "    \"4TSV\": 150,\n",
        "    \"5TSW\": 900,\n",
        "    \"2E7A\": 471,\n",
        "    \"6RMJ\": 489\n",
        "}\n",
        "print(f\"a) O dicionário de PDBs é: {pdb_data}\")"
      ],
      "id": "n2RRUPE9h1KH"
    },
    {
      "cell_type": "markdown",
      "metadata": {
        "id": "J4iUSsTQh1KH"
      },
      "source": [
        "#### b) Imprima os valores contidos nos IDs 2TNF e 2E7A."
      ],
      "id": "J4iUSsTQh1KH"
    },
    {
      "cell_type": "code",
      "execution_count": null,
      "metadata": {
        "id": "jgsz9itUh1KH",
        "colab": {
          "base_uri": "https://localhost:8080/"
        },
        "outputId": "ac663b49-6fdf-4015-fa42-91d7640224d8"
      },
      "outputs": [
        {
          "output_type": "stream",
          "name": "stdout",
          "text": [
            "b) Valor para 2TNF: 468\n",
            "b) Valor para 2E7A: 471\n"
          ]
        }
      ],
      "source": [
        "# Imprimir valores dos IDs 2TNF e 2E7A\n",
        "valor_2TNF = pdb_data.get(\"2TNF\")\n",
        "valor_2E7A = pdb_data.get(\"2E7A\")\n",
        "\n",
        "print(f\"b) Valor para 2TNF: {valor_2TNF}\")\n",
        "print(f\"b) Valor para 2E7A: {valor_2E7A}\")"
      ],
      "id": "jgsz9itUh1KH"
    },
    {
      "cell_type": "markdown",
      "metadata": {
        "id": "m_G8YbCuh1KH"
      },
      "source": [
        "#### c) Verifique e imprima o tamanho do dicionário construído"
      ],
      "id": "m_G8YbCuh1KH"
    },
    {
      "cell_type": "code",
      "execution_count": null,
      "metadata": {
        "id": "j3d8-9gJh1KH",
        "colab": {
          "base_uri": "https://localhost:8080/"
        },
        "outputId": "48fc0300-8896-4241-9ed1-8d5ee7724cce"
      },
      "outputs": [
        {
          "output_type": "stream",
          "name": "stdout",
          "text": [
            "c) Tamanho do dicionário completo é 10 IDs\n"
          ]
        }
      ],
      "source": [
        "# Tamanho do dicionário\n",
        "tamanho_dicionario = len(pdb_data)\n",
        "print(f\"c) Tamanho do dicionário completo é {tamanho_dicionario} IDs\")"
      ],
      "id": "j3d8-9gJh1KH"
    },
    {
      "cell_type": "markdown",
      "metadata": {
        "id": "RX-Epoayh1KH"
      },
      "source": [
        "#### d) Obtenha e imprima a lista de todas as chaves do dicionário"
      ],
      "id": "RX-Epoayh1KH"
    },
    {
      "cell_type": "code",
      "execution_count": null,
      "metadata": {
        "id": "mN3NbaiZh1KH",
        "colab": {
          "base_uri": "https://localhost:8080/"
        },
        "outputId": "9abb590d-e5f0-465e-a77d-b82d1089dbca"
      },
      "outputs": [
        {
          "output_type": "stream",
          "name": "stdout",
          "text": [
            " As chaves do dicionário são: ['1A8M', '1TNR', '2AZ5', '1TNF', '2TNF', '2TUN', '4TSV', '5TSW', '2E7A', '6RMJ']\n"
          ]
        }
      ],
      "source": [
        "# Lista de todas as chaves\n",
        "chaves_dicionario = list(pdb_data.keys())\n",
        "print(f\" As chaves do dicionário são: {chaves_dicionario}\")"
      ],
      "id": "mN3NbaiZh1KH"
    },
    {
      "cell_type": "markdown",
      "metadata": {
        "id": "aAoam-DKh1KH"
      },
      "source": [
        "#### e) Obtenha e imprima a lista de todos os valores do dicionário"
      ],
      "id": "aAoam-DKh1KH"
    },
    {
      "cell_type": "code",
      "execution_count": null,
      "metadata": {
        "id": "703es7HQh1KH",
        "colab": {
          "base_uri": "https://localhost:8080/"
        },
        "outputId": "c5587196-3095-4606-fd54-8b847788ae78"
      },
      "outputs": [
        {
          "output_type": "stream",
          "name": "stdout",
          "text": [
            "Valores armazenados no dicionário são: [471, 283, 592, 471, 468, 942, 150, 900, 471, 489]\n"
          ]
        }
      ],
      "source": [
        "# Lista de todos os valores\n",
        "valores_dicionario = list(pdb_data.values())\n",
        "print(f\"Valores armazenados no dicionário são: {valores_dicionario}\")"
      ],
      "id": "703es7HQh1KH"
    },
    {
      "cell_type": "markdown",
      "metadata": {
        "id": "VuDWwJvNh1KH"
      },
      "source": [
        "#### f) Obtenha e imprima uma lista de tuplas com todos os pares chave-valor. Cada dupla será um par ordenado (chave, valor)."
      ],
      "id": "VuDWwJvNh1KH"
    },
    {
      "cell_type": "code",
      "execution_count": null,
      "metadata": {
        "id": "N7mPzRe2h1KH",
        "colab": {
          "base_uri": "https://localhost:8080/"
        },
        "outputId": "f3894548-4a10-490b-9533-41a3e23ecde1"
      },
      "outputs": [
        {
          "output_type": "stream",
          "name": "stdout",
          "text": [
            " Os pares chave-valor do dicionário são: [('1A8M', 471), ('1TNR', 283), ('2AZ5', 592), ('1TNF', 471), ('2TNF', 468), ('2TUN', 942), ('4TSV', 150), ('5TSW', 900), ('2E7A', 471), ('6RMJ', 489)]\n"
          ]
        }
      ],
      "source": [
        "# Lista de tuplas\n",
        "itens_dicionario = list(pdb_data.items())\n",
        "print(f\" Os pares chave-valor do dicionário são: {itens_dicionario}\")"
      ],
      "id": "N7mPzRe2h1KH"
    },
    {
      "cell_type": "markdown",
      "metadata": {
        "id": "g3kp69gOh1KH"
      },
      "source": [
        "## Lista de Exercícios 7: Variáveis - Operadores (OK)"
      ],
      "id": "g3kp69gOh1KH"
    },
    {
      "cell_type": "markdown",
      "metadata": {
        "id": "GVSkxzmCh1KH"
      },
      "source": [
        "### Exercício 1: Cálculo de RMSD\n",
        "\n",
        "Um problema comum em bioinformática estrutural é a comparação entre estruturas moleculares. Nesse exercício, alinhamos estruturalmente dois resíduos de glicina e apresentamos as coordenadas tridimensionais (x, y, z) (Tabelas 1 e 2). Considerando estas tabelas de coordenadas x, y, z dos átomos dos dois resíduos de glicina, calcule o RMSD (Root Mean Square Deviation) entre elas segundo a Equação:\n",
        "\n",
        "$RMSD=\\sqrt{\\frac{1}{N}\\sum_{n=1}^{N}(x1-x2)^{2}+(y1-y2)^{2}+(z1-z2)^{2}}$\n",
        "\n",
        "Considere N=4 (número de átomos).\n",
        "\n",
        "**Tabela 1 - Glicina 1:**\n",
        "\n",
        "| ÁTOMO |     X     |     Y     |    Z     |\n",
        "|-------|-----------|-----------|----------|\n",
        "| N     | 108.304   | 100.827   | 67.992   |\n",
        "| CA    | 108.477   | 100.389   | 69.362   |\n",
        "| C     | 109.907   | 100.555   | 69.817   |\n",
        "| O     | 110.821   | 100.799   | 69.027   |\n",
        "\n",
        "**Tabela 2 - Glicina 2:**\n",
        "\n",
        "| ÁTOMO |     X     |     Y     |    Z     |\n",
        "|-------|-----------|-----------|----------|\n",
        "| N     | 107.670   | 101.359   | 70.074   |\n",
        "| CA    | 108.477   | 100.389   | 69.362   |\n",
        "| C     | 109.513   | 101.011   | 68.450   |\n",
        "| O     | 110.667   | 100.572   | 68.425   |\n"
      ],
      "id": "GVSkxzmCh1KH"
    },
    {
      "cell_type": "code",
      "execution_count": null,
      "metadata": {
        "id": "L0TQP5Wah1KI",
        "colab": {
          "base_uri": "https://localhost:8080/"
        },
        "outputId": "746f5a44-c21d-41f1-c73e-577103e3228e"
      },
      "outputs": [
        {
          "output_type": "stream",
          "name": "stdout",
          "text": [
            "O RMSD calculado é: 1.3865\n"
          ]
        }
      ],
      "source": [
        "# Cálculo de RMSD\n",
        "import math\n",
        "\n",
        "# Coordenadas da Glicina 1 (átomos N, CA, C, O)\n",
        "glicina1_coords = [\n",
        "    {'x': 108.304, 'y': 100.827, 'z': 67.992}, # N\n",
        "    {'x': 108.477, 'y': 100.389, 'z': 69.362}, # CA\n",
        "    {'x': 109.907, 'y': 100.555, 'z': 69.817}, # C\n",
        "    {'x': 110.821, 'y': 100.799, 'z': 69.027}  # O\n",
        "]\n",
        "\n",
        "# Coordenadas da Glicina 2 (átomos N, CA, C, O)\n",
        "glicina2_coords = [\n",
        "    {'x': 107.670, 'y': 101.359, 'z': 70.074}, # N\n",
        "    {'x': 108.477, 'y': 100.389, 'z': 69.362}, # CA\n",
        "    {'x': 109.513, 'y': 101.011, 'z': 68.450}, # C\n",
        "    {'x': 110.667, 'y': 100.572, 'z': 68.425}  # O\n",
        "]\n",
        "\n",
        "N = len(glicina1_coords) # Número de átomos, que é 4\n",
        "soma_diferencas_quadradas = 0\n",
        "\n",
        "# Iterar sobre cada átomo correspondente\n",
        "for i in range(N):\n",
        "    x1, y1, z1 = glicina1_coords[i]['x'], glicina1_coords[i]['y'], glicina1_coords[i]['z']\n",
        "    x2, y2, z2 = glicina2_coords[i]['x'], glicina2_coords[i]['y'], glicina2_coords[i]['z']\n",
        "\n",
        "    # Calcular o quadrado da diferença para cada coordenada\n",
        "    diff_x_sq = (x1 - x2)**2\n",
        "    diff_y_sq = (y1 - y2)**2\n",
        "    diff_z_sq = (z1 - z2)**2\n",
        "\n",
        "    # Somar as diferenças quadradas para este átomo\n",
        "    soma_diferencas_quadradas += diff_x_sq + diff_y_sq + diff_z_sq\n",
        "\n",
        "# Calcular o valor de RMSD\n",
        "if N > 0:\n",
        "    rmsd = math.sqrt(soma_diferencas_quadradas / N)\n",
        "    print(f\"O RMSD calculado é: {rmsd:.4f}\") # Formatando para no máximo 4 casas decimais\n",
        "else:\n",
        "    print(\"Não há átomos para calcular o RMSD.\")"
      ],
      "id": "L0TQP5Wah1KI"
    },
    {
      "cell_type": "markdown",
      "metadata": {
        "id": "aSFePDvIh1KI"
      },
      "source": [
        "### Exercício 2: Conteúdo GC\n",
        "\n",
        "Em biologia molecular, o conteúdo GC (guanina e citosina) é o percentual de bases nitrogenadas em uma molécula de DNA ou RNA que são guanina ou citosina (dentre as quatro bases possíveis). Para as seguintes sequências calcule usando os operadores vistos em aula o percentual de conteúdo GC, imprimindo os resultados:\n",
        "\n",
        "Sequência A: `ATGATCTCGTAATTAACCGGAATTTTGGGCC`\n",
        "\n",
        "(Saída esperada: 41.93)\n",
        "\n",
        "\n",
        "Sequência B: `GGCCTTAAGTTTAACCCGGAATTTAAAGGCCCCAAA`\n",
        "\n",
        "(Saída esperada: 44.44)"
      ],
      "id": "aSFePDvIh1KI"
    },
    {
      "cell_type": "code",
      "execution_count": null,
      "metadata": {
        "id": "5OPI61Kfh1KI",
        "colab": {
          "base_uri": "https://localhost:8080/"
        },
        "outputId": "feb22cd3-f4d6-47e4-9266-05eeda1ad0bf"
      },
      "outputs": [
        {
          "output_type": "stream",
          "name": "stdout",
          "text": [
            "O conteúdo GC da Sequência A é: 41.94%\n",
            "O conteúdo GC da Sequência B é: 44.44%\n"
          ]
        }
      ],
      "source": [
        "# Cálculo de Conteúdo GC\n",
        "\n",
        "seq_A = \"ATGATCTCGTAATTAACCGGAATTTTGGGCC\"\n",
        "seq_B = \"GGCCTTAAGTTTAACCCGGAATTTAAAGGCCCCAAA\"\n",
        "\n",
        "def calcular_conteudo_gc(sequencia):\n",
        "    \"\"\"Calcula o percentual de GC em uma sequência de DNA.\"\"\"\n",
        "    if not sequencia: # Verifica se a sequência de entrada não está vazia\n",
        "        return 0.0\n",
        "\n",
        "    # Contar os 'G' e 'C'\n",
        "    contagem_G = sequencia.count('G')\n",
        "    contagem_C = sequencia.count('C')\n",
        "\n",
        "    # Calcular o total de G e C\n",
        "    total_GC = contagem_G + contagem_C\n",
        "\n",
        "    # Calcular o tamanho total da sequência\n",
        "    tamanho_total = len(sequencia)\n",
        "\n",
        "    # Calcular o percentual de GC\n",
        "    if tamanho_total == 0:\n",
        "        return 0.0\n",
        "    percentual_GC = (total_GC / tamanho_total) * 100\n",
        "    return percentual_GC\n",
        "\n",
        "# Calcular e imprimir para Sequência A\n",
        "gc_A = calcular_conteudo_gc(seq_A)\n",
        "print(f\"O conteúdo GC da Sequência A é: {gc_A:.2f}%\")\n",
        "\n",
        "# Calcular e imprimir para Sequência B\n",
        "gc_B = calcular_conteudo_gc(seq_B)\n",
        "print(f\"O conteúdo GC da Sequência B é: {gc_B:.2f}%\")"
      ],
      "id": "5OPI61Kfh1KI"
    },
    {
      "cell_type": "markdown",
      "metadata": {
        "id": "i1DhygDTh1KI"
      },
      "source": [
        "## Lista de Exercícios 8: Estruturas Condicionais (OK)\n",
        "\n",
        "Para os exercícios desta lista, considere a seguinte lista de sequências e faça programas em Python que execute as tarefas descritas abaixo:\n",
        "\n",
        "**Sequência A**\n",
        "`LRSSSQNSSDKPVAHVVANHQVEEQLEWLSQRANALLANGMDLKDNQLVVPADGLYLVYSQVLFKGQGCPDYVLLTHTVSLRSSSDK`\n",
        "\n",
        "**Sequência B**\n",
        "`KPAAHLIGDPSKQNSLLWRANTDRAFLQDGFSLSNNSLLVPTSGIYFVYSQVVFSGKAYSPKATSSPLYLAHEVQLFSS`\n",
        "\n",
        "**Sequência C**\n",
        "`CPQGKYIHPQNNSICCTKCHKGTYLYNDCPGPGQDTDCRECESGSFTASENHLRHCLSCSKCRKEMGQVEISSCTVDRDTVCGCR`"
      ],
      "id": "i1DhygDTh1KI"
    },
    {
      "cell_type": "code",
      "execution_count": null,
      "metadata": {
        "id": "8KGJ7UH6h1KI"
      },
      "outputs": [],
      "source": [
        "# Carregra as sequências\n",
        "seq_cond_A = \"LRSSSQNSSDKPVAHVVANHQVEEQLEWLSQRANALLANGMDLKDNQLVVPADGLYLVYSQVLFKGQGCPDYVLLTHTVSLRSSSDK\"\n",
        "seq_cond_B = \"KPAAHLIGDPSKQNSLLWRANTDRAFLQDGFSLSNNSLLVPTSGIYFVYSQVVFSGKAYSPKATSSPLYLAHEVQLFSS\"\n",
        "seq_cond_C = \"CPQGKYIHPQNNSICCTKCHKGTYLYNDCPGPGQDTDCRECESGSFTASENHLRHCLSCSKCRKEMGQVEISSCTVDRDTVCGCR\"\n",
        "\n",
        "lista_sequencias_cond = {\n",
        "    \"Sequência A\": seq_cond_A,\n",
        "    \"Sequência B\": seq_cond_B,\n",
        "    \"Sequência C\": seq_cond_C\n",
        "}"
      ],
      "id": "8KGJ7UH6h1KI"
    },
    {
      "cell_type": "markdown",
      "metadata": {
        "id": "VxW8pyZNh1KI"
      },
      "source": [
        "### 1. Imprima apenas as sequências com 80 ou mais aminoácidos."
      ],
      "id": "VxW8pyZNh1KI"
    },
    {
      "cell_type": "code",
      "execution_count": null,
      "metadata": {
        "id": "9rpt1ikBh1KI",
        "colab": {
          "base_uri": "https://localhost:8080/"
        },
        "outputId": "9ada010b-d8c1-498d-bb09-c163d2778306"
      },
      "outputs": [
        {
          "output_type": "stream",
          "name": "stdout",
          "text": [
            "As sequências com 80 ou mais aminoácidos são:\n",
            "O resultado é: Sequência A - LRSSSQNSSDKPVAHVVANHQVEEQLEWLSQRANALLANGMDLKDNQLVVPADGLYLVYSQVLFKGQGCPDYVLLTHTVSLRSSSDK com tamanho total de 87 AAs\n",
            "O resultado é: Sequência C - CPQGKYIHPQNNSICCTKCHKGTYLYNDCPGPGQDTDCRECESGSFTASENHLRHCLSCSKCRKEMGQVEISSCTVDRDTVCGCR com tamanho total de 85 AAs\n"
          ]
        }
      ],
      "source": [
        "# Imprimir sequências com 80 ou mais aminoácidos\n",
        "print(\"As sequências com 80 ou mais aminoácidos são:\")\n",
        "for nome, seq in lista_sequencias_cond.items():\n",
        "    if len(seq) >= 80:\n",
        "        print(f\"O resultado é: {nome} - {seq} com tamanho total de {len(seq)} AAs\")"
      ],
      "id": "9rpt1ikBh1KI"
    },
    {
      "cell_type": "markdown",
      "metadata": {
        "id": "y07ahMwzh1KI"
      },
      "source": [
        "### 2. Imprima apenas as sequências cujo tamanho seja maior que a média de tamanho das sequências."
      ],
      "id": "y07ahMwzh1KI"
    },
    {
      "cell_type": "code",
      "execution_count": null,
      "metadata": {
        "id": "Wm5pj1Tbh1KI",
        "colab": {
          "base_uri": "https://localhost:8080/"
        },
        "outputId": "1e9dec11-3e67-4c98-95c0-874602cf74f1"
      },
      "outputs": [
        {
          "output_type": "stream",
          "name": "stdout",
          "text": [
            "A média de tamanho das sequências é: 83.67\n",
            "As sequências com tamanho maior que a média são:\n",
            "Sequência A: LRSSSQNSSDKPVAHVVANHQVEEQLEWLSQRANALLANGMDLKDNQLVVPADGLYLVYSQVLFKGQGCPDYVLLTHTVSLRSSSDK (Tamanho total de 87 AAs)\n",
            "Sequência C: CPQGKYIHPQNNSICCTKCHKGTYLYNDCPGPGQDTDCRECESGSFTASENHLRHCLSCSKCRKEMGQVEISSCTVDRDTVCGCR (Tamanho total de 85 AAs)\n"
          ]
        }
      ],
      "source": [
        "# Imprimir sequências maiores que a média de tamanho\n",
        "soma_tamanhos = 0\n",
        "for seq in lista_sequencias_cond.values():\n",
        "    soma_tamanhos += len(seq)\n",
        "\n",
        "if lista_sequencias_cond:\n",
        "    media_tamanhos = soma_tamanhos / len(lista_sequencias_cond)\n",
        "    print(f\"A média de tamanho das sequências é: {media_tamanhos:.2f}\")\n",
        "    print(\"As sequências com tamanho maior que a média são:\")\n",
        "    for nome, seq in lista_sequencias_cond.items():\n",
        "        if len(seq) > media_tamanhos:\n",
        "            print(f\"{nome}: {seq} (Tamanho total de {len(seq)} AAs)\")\n",
        "else:\n",
        "    print(\"Nenhuma sequência fornecida para calcular a média.\")"
      ],
      "id": "Wm5pj1Tbh1KI"
    },
    {
      "cell_type": "markdown",
      "metadata": {
        "id": "bY8B4Zq7h1KI"
      },
      "source": [
        "### 3. Imprima apenas as sequências que possuam pelo menos uma histidina (H) e nenhuma prolina (P)."
      ],
      "id": "bY8B4Zq7h1KI"
    },
    {
      "cell_type": "code",
      "execution_count": null,
      "metadata": {
        "id": "-gLudrsSh1KI",
        "colab": {
          "base_uri": "https://localhost:8080/"
        },
        "outputId": "ea1969d9-55bb-4ba3-b8cd-f517b33a9b0d"
      },
      "outputs": [
        {
          "output_type": "stream",
          "name": "stdout",
          "text": [
            "Procurando sequências com Histidina (H) e sem Prolina (P)...\n",
            "Nenhuma sequência com os H e sem P foi encontrada.\n"
          ]
        }
      ],
      "source": [
        "print(\"Procurando sequências com Histidina (H) e sem Prolina (P)...\")\n",
        "\n",
        "encontrou_alguma = False\n",
        "\n",
        "for nome, seq in lista_sequencias_cond.items():\n",
        "    tem_H = 'H' in seq\n",
        "    tem_P = 'P' in seq\n",
        "\n",
        "    if tem_H and not tem_P:\n",
        "        print(f\"Encontrada: {nome}: {seq}\")\n",
        "        encontrou_alguma = True\n",
        "\n",
        "if not encontrou_alguma:\n",
        "    print(\"Nenhuma sequência com os H e sem P foi encontrada.\")"
      ],
      "id": "-gLudrsSh1KI"
    },
    {
      "cell_type": "markdown",
      "metadata": {
        "id": "6y5uChSsh1KI"
      },
      "source": [
        "### 4. Identifique e imprima a maior dentre as três sequências a seguir."
      ],
      "id": "6y5uChSsh1KI"
    },
    {
      "cell_type": "code",
      "execution_count": null,
      "metadata": {
        "id": "EmLIP0Jch1KI",
        "colab": {
          "base_uri": "https://localhost:8080/"
        },
        "outputId": "7aec0e1a-abdd-4932-f3e1-a728c9892c5f"
      },
      "outputs": [
        {
          "output_type": "stream",
          "name": "stdout",
          "text": [
            "A maior sequência é a Sequência A com 87 aminoácidos: LRSSSQNSSDKPVAHVVANHQVEEQLEWLSQRANALLANGMDLKDNQLVVPADGLYLVYSQVLFKGQGCPDYVLLTHTVSLRSSSDK\n"
          ]
        }
      ],
      "source": [
        "# Identificar e imprimir a maior sequência\n",
        "maior_seq_nome = \"\"\n",
        "maior_seq_tamanho = -1\n",
        "maior_seq_conteudo = \"\"\n",
        "\n",
        "if lista_sequencias_cond:\n",
        "    for nome, seq in lista_sequencias_cond.items():\n",
        "        if len(seq) > maior_seq_tamanho:\n",
        "            maior_seq_tamanho = len(seq)\n",
        "            maior_seq_nome = nome\n",
        "            maior_seq_conteudo = seq\n",
        "    print(f\"A maior sequência é a {maior_seq_nome} com {maior_seq_tamanho} aminoácidos: {maior_seq_conteudo}\")\n",
        "else:\n",
        "    print(\"Nenhuma sequência para comparar.\")"
      ],
      "id": "EmLIP0Jch1KI"
    },
    {
      "cell_type": "markdown",
      "metadata": {
        "id": "RkyZN9gWh1KJ"
      },
      "source": [
        "### 5. Imprima as três sequências em ordem crescente de tamanho."
      ],
      "id": "RkyZN9gWh1KJ"
    },
    {
      "cell_type": "code",
      "execution_count": null,
      "metadata": {
        "id": "H_Aqa9Nah1KJ",
        "colab": {
          "base_uri": "https://localhost:8080/"
        },
        "outputId": "9e56d422-13a2-42fe-bd77-f357bba6ec76"
      },
      "outputs": [
        {
          "output_type": "stream",
          "name": "stdout",
          "text": [
            "Sequências em ordem crescente de tamanho:\n",
            "Sequência B (Tamanho: 79): KPAAHLIGDPSKQNSLLWRANTDRAFLQDGFSLSNNSLLVPTSGIYFVYSQVVFSGKAYSPKATSSPLYLAHEVQLFSS\n",
            "Sequência C (Tamanho: 85): CPQGKYIHPQNNSICCTKCHKGTYLYNDCPGPGQDTDCRECESGSFTASENHLRHCLSCSKCRKEMGQVEISSCTVDRDTVCGCR\n",
            "Sequência A (Tamanho: 87): LRSSSQNSSDKPVAHVVANHQVEEQLEWLSQRANALLANGMDLKDNQLVVPADGLYLVYSQVLFKGQGCPDYVLLTHTVSLRSSSDK\n"
          ]
        }
      ],
      "source": [
        "# Imprimir sequências em ordem crescente de tamanho\n",
        "sequencias_com_tamanho = []\n",
        "for nome, seq in lista_sequencias_cond.items():\n",
        "    sequencias_com_tamanho.append((len(seq), nome, seq))\n",
        "\n",
        "# Ordena a lista com base no tamanho (primeiro elemento da tupla)\n",
        "sequencias_ordenadas = sorted(sequencias_com_tamanho)\n",
        "\n",
        "print(\"Sequências em ordem crescente de tamanho:\")\n",
        "for tamanho, nome, seq in sequencias_ordenadas:\n",
        "    print(f\"{nome} (Tamanho: {tamanho}): {seq}\")"
      ],
      "id": "H_Aqa9Nah1KJ"
    },
    {
      "cell_type": "markdown",
      "metadata": {
        "id": "tg9e0rHOh1KJ"
      },
      "source": [
        "## Lista de Exercícios 9: Estruturas de Repetição (OK)"
      ],
      "id": "tg9e0rHOh1KJ"
    },
    {
      "cell_type": "markdown",
      "metadata": {
        "id": "-V8evWHlh1KJ"
      },
      "source": [
        "### 1. Escreva um programa que calcule e escreva a tabela de graus Centigrados em função dos graus Farenheit que variem entre 1 e 150 de 1 em 1 conforme a fórmula a seguir:\n",
        "\n",
        "$C=\\frac{5}{9}(F-32)$"
      ],
      "id": "-V8evWHlh1KJ"
    },
    {
      "cell_type": "code",
      "execution_count": null,
      "metadata": {
        "id": "0JzX-QbNh1KJ",
        "colab": {
          "base_uri": "https://localhost:8080/"
        },
        "outputId": "57d42430-d723-4f26-9332-263896d8a099"
      },
      "outputs": [
        {
          "output_type": "stream",
          "name": "stdout",
          "text": [
            "1. Tabela de Conversão: Fahrenheit para Celsius\n",
            "-----------------------------------------\n",
            "| Fahrenheit | Celsius                  |\n",
            "|------------|--------------------------|\n",
            "| 1          | -17.22                   |\n",
            "| 2          | -16.67                   |\n",
            "| 3          | -16.11                   |\n",
            "| 4          | -15.56                   |\n",
            "| 5          | -15.00                   |\n",
            "| 6          | -14.44                   |\n",
            "| 7          | -13.89                   |\n",
            "| 8          | -13.33                   |\n",
            "| 9          | -12.78                   |\n",
            "| 10         | -12.22                   |\n",
            "| 11         | -11.67                   |\n",
            "| 12         | -11.11                   |\n",
            "| 13         | -10.56                   |\n",
            "| 14         | -10.00                   |\n",
            "| 15         | -9.44                    |\n",
            "| 16         | -8.89                    |\n",
            "| 17         | -8.33                    |\n",
            "| 18         | -7.78                    |\n",
            "| 19         | -7.22                    |\n",
            "| 20         | -6.67                    |\n",
            "| 21         | -6.11                    |\n",
            "| 22         | -5.56                    |\n",
            "| 23         | -5.00                    |\n",
            "| 24         | -4.44                    |\n",
            "| 25         | -3.89                    |\n",
            "| 26         | -3.33                    |\n",
            "| 27         | -2.78                    |\n",
            "| 28         | -2.22                    |\n",
            "| 29         | -1.67                    |\n",
            "| 30         | -1.11                    |\n",
            "| 31         | -0.56                    |\n",
            "| 32         | 0.00                     |\n",
            "| 33         | 0.56                     |\n",
            "| 34         | 1.11                     |\n",
            "| 35         | 1.67                     |\n",
            "| 36         | 2.22                     |\n",
            "| 37         | 2.78                     |\n",
            "| 38         | 3.33                     |\n",
            "| 39         | 3.89                     |\n",
            "| 40         | 4.44                     |\n",
            "| 41         | 5.00                     |\n",
            "| 42         | 5.56                     |\n",
            "| 43         | 6.11                     |\n",
            "| 44         | 6.67                     |\n",
            "| 45         | 7.22                     |\n",
            "| 46         | 7.78                     |\n",
            "| 47         | 8.33                     |\n",
            "| 48         | 8.89                     |\n",
            "| 49         | 9.44                     |\n",
            "| 50         | 10.00                    |\n",
            "| 51         | 10.56                    |\n",
            "| 52         | 11.11                    |\n",
            "| 53         | 11.67                    |\n",
            "| 54         | 12.22                    |\n",
            "| 55         | 12.78                    |\n",
            "| 56         | 13.33                    |\n",
            "| 57         | 13.89                    |\n",
            "| 58         | 14.44                    |\n",
            "| 59         | 15.00                    |\n",
            "| 60         | 15.56                    |\n",
            "| 61         | 16.11                    |\n",
            "| 62         | 16.67                    |\n",
            "| 63         | 17.22                    |\n",
            "| 64         | 17.78                    |\n",
            "| 65         | 18.33                    |\n",
            "| 66         | 18.89                    |\n",
            "| 67         | 19.44                    |\n",
            "| 68         | 20.00                    |\n",
            "| 69         | 20.56                    |\n",
            "| 70         | 21.11                    |\n",
            "| 71         | 21.67                    |\n",
            "| 72         | 22.22                    |\n",
            "| 73         | 22.78                    |\n",
            "| 74         | 23.33                    |\n",
            "| 75         | 23.89                    |\n",
            "| 76         | 24.44                    |\n",
            "| 77         | 25.00                    |\n",
            "| 78         | 25.56                    |\n",
            "| 79         | 26.11                    |\n",
            "| 80         | 26.67                    |\n",
            "| 81         | 27.22                    |\n",
            "| 82         | 27.78                    |\n",
            "| 83         | 28.33                    |\n",
            "| 84         | 28.89                    |\n",
            "| 85         | 29.44                    |\n",
            "| 86         | 30.00                    |\n",
            "| 87         | 30.56                    |\n",
            "| 88         | 31.11                    |\n",
            "| 89         | 31.67                    |\n",
            "| 90         | 32.22                    |\n",
            "| 91         | 32.78                    |\n",
            "| 92         | 33.33                    |\n",
            "| 93         | 33.89                    |\n",
            "| 94         | 34.44                    |\n",
            "| 95         | 35.00                    |\n",
            "| 96         | 35.56                    |\n",
            "| 97         | 36.11                    |\n",
            "| 98         | 36.67                    |\n",
            "| 99         | 37.22                    |\n",
            "| 100        | 37.78                    |\n",
            "| 101        | 38.33                    |\n",
            "| 102        | 38.89                    |\n",
            "| 103        | 39.44                    |\n",
            "| 104        | 40.00                    |\n",
            "| 105        | 40.56                    |\n",
            "| 106        | 41.11                    |\n",
            "| 107        | 41.67                    |\n",
            "| 108        | 42.22                    |\n",
            "| 109        | 42.78                    |\n",
            "| 110        | 43.33                    |\n",
            "| 111        | 43.89                    |\n",
            "| 112        | 44.44                    |\n",
            "| 113        | 45.00                    |\n",
            "| 114        | 45.56                    |\n",
            "| 115        | 46.11                    |\n",
            "| 116        | 46.67                    |\n",
            "| 117        | 47.22                    |\n",
            "| 118        | 47.78                    |\n",
            "| 119        | 48.33                    |\n",
            "| 120        | 48.89                    |\n",
            "| 121        | 49.44                    |\n",
            "| 122        | 50.00                    |\n",
            "| 123        | 50.56                    |\n",
            "| 124        | 51.11                    |\n",
            "| 125        | 51.67                    |\n",
            "| 126        | 52.22                    |\n",
            "| 127        | 52.78                    |\n",
            "| 128        | 53.33                    |\n",
            "| 129        | 53.89                    |\n",
            "| 130        | 54.44                    |\n",
            "| 131        | 55.00                    |\n",
            "| 132        | 55.56                    |\n",
            "| 133        | 56.11                    |\n",
            "| 134        | 56.67                    |\n",
            "| 135        | 57.22                    |\n",
            "| 136        | 57.78                    |\n",
            "| 137        | 58.33                    |\n",
            "| 138        | 58.89                    |\n",
            "| 139        | 59.44                    |\n",
            "| 140        | 60.00                    |\n",
            "| 141        | 60.56                    |\n",
            "| 142        | 61.11                    |\n",
            "| 143        | 61.67                    |\n",
            "| 144        | 62.22                    |\n",
            "| 145        | 62.78                    |\n",
            "| 146        | 63.33                    |\n",
            "| 147        | 63.89                    |\n",
            "| 148        | 64.44                    |\n",
            "| 149        | 65.00                    |\n",
            "| 150        | 65.56                    |\n",
            "-----------------------------------------\n"
          ]
        }
      ],
      "source": [
        "# 1. Tabela de conversão Fahrenheit para Celsius\n",
        "print(\"1. Tabela de Conversão: Fahrenheit para Celsius\")\n",
        "print(\"-----------------------------------------\")\n",
        "print(\"| Fahrenheit | Celsius                  |\")\n",
        "print(\"|------------|--------------------------|\")\n",
        "\n",
        "for F in range(1, 151): # Varia de 1 a 150\n",
        "    C = (5/9) * (F - 32)\n",
        "    print(f\"| {F:<10} | {C:<24.2f} |\") # Formata a saída para alinhar na tabela\n",
        "print(\"-----------------------------------------\")"
      ],
      "id": "0JzX-QbNh1KJ"
    },
    {
      "cell_type": "markdown",
      "metadata": {
        "id": "cCtQuDPAh1KJ"
      },
      "source": [
        "### 2. Utilizando as estruturas de repetição, verifique se as seguintes sequências são uma sequência de DNA (A, G, T, C), RNA (U, C, A, G), PROTEÍNA (A, C, D, E, F, G, H, I, K, L, M, N, P, Q, R, S, T, V, W, Y) ou nenhuma delas (nesse caso, imprima as letras que não fazem parte do alfabeto):\n",
        "\n",
        "`ATCDLASKWNWNHTLCAAHCIARRYRGGYCNSKAVCVCRN`\n",
        "`TATTAACCGGGTTTAAACTAGCATGCATGATTAACCAGTACATCTTTT`\n",
        "`ATCBDLASKWXWNHTLCAAHCIARRYRGGYCNSJAVCVCRN`"
      ],
      "id": "cCtQuDPAh1KJ"
    },
    {
      "cell_type": "code",
      "execution_count": null,
      "metadata": {
        "id": "FJW8v8Lnh1KJ",
        "colab": {
          "base_uri": "https://localhost:8080/"
        },
        "outputId": "9b012993-8561-4050-b4ea-58a25722d4b8"
      },
      "outputs": [
        {
          "output_type": "stream",
          "name": "stdout",
          "text": [
            "Verificação de Tipo de Sequência:\n",
            "Analisando sequência 1: ATCDLASKWNWNHTLCAAHCIARRYRGGYCNSKAVCVCRN\n",
            "Tipo: Proteína\n",
            "-\n",
            "Analisando sequência 2: TATTAACCGGGTTTAAACTAGCATGCATGATTAACCAGTACATCTTTT\n",
            "Tipo: DNA\n",
            "-\n",
            "Analisando sequência 3: ATCBDLASKWXWNHTLCAAHCIARRYRGGYCNSJAVCVCRN\n",
            "Tipo: Nenhuma delas\n",
            "Caracteres não pertencentes aos alfabetos biológicos (DNA, RNA, Proteína): ['B', 'J', 'X']\n",
            "-\n"
          ]
        }
      ],
      "source": [
        "# Verificar tipo de sequência\n",
        "alfabeto_dna = set(\"AGTC\")\n",
        "alfabeto_rna = set(\"UCAG\")\n",
        "alfabeto_proteina = set(\"ACDEFGHIKLMNPQRSTVWY\")\n",
        "\n",
        "sequencias_para_verificar = [\n",
        "    \"ATCDLASKWNWNHTLCAAHCIARRYRGGYCNSKAVCVCRN\",\n",
        "    \"TATTAACCGGGTTTAAACTAGCATGCATGATTAACCAGTACATCTTTT\",\n",
        "    \"ATCBDLASKWXWNHTLCAAHCIARRYRGGYCNSJAVCVCRN\"\n",
        "]\n",
        "\n",
        "print(\"Verificação de Tipo de Sequência:\")\n",
        "for i, seq in enumerate(sequencias_para_verificar):\n",
        "    print(f\"Analisando sequência {i+1}: {seq}\")\n",
        "    conjunto_seq = set(seq.upper()) # Converte para maiúsculas e para conjunto para fácil comparação\n",
        "\n",
        "    is_dna = conjunto_seq.issubset(alfabeto_dna)\n",
        "    is_rna = conjunto_seq.issubset(alfabeto_rna)\n",
        "    is_proteina = conjunto_seq.issubset(alfabeto_proteina)\n",
        "\n",
        "    tipo = \"Nenhuma delas\"\n",
        "    caracteres_invalidos = set()\n",
        "\n",
        "    if is_dna:\n",
        "        tipo = \"DNA\"\n",
        "    elif is_rna:\n",
        "        tipo = \"RNA\"\n",
        "    elif is_proteina:\n",
        "        tipo = \"Proteína\"\n",
        "    else:\n",
        "        # Se não for nenhum dos tipos puros, verifica caracteres inválidos para cada um\n",
        "        # Aqui, vamos considerar inválido se não pertencer a NENHUM dos alfabetos conhecidos\n",
        "        alfabeto_geral_valido = alfabeto_dna.union(alfabeto_rna).union(alfabeto_proteina)\n",
        "        caracteres_invalidos = conjunto_seq.difference(alfabeto_geral_valido)\n",
        "\n",
        "    print(f\"Tipo: {tipo}\")\n",
        "    if caracteres_invalidos:\n",
        "        print(f\"Caracteres não pertencentes aos alfabetos biológicos (DNA, RNA, Proteína): {sorted(list(caracteres_invalidos))}\")\n",
        "    print(\"-\")"
      ],
      "id": "FJW8v8Lnh1KJ"
    },
    {
      "cell_type": "markdown",
      "metadata": {
        "id": "eY6UeMZGh1KJ"
      },
      "source": [
        "### 3. Utilizando as estruturas de repetição, gere e imprima a sequência complemento reverso da seguinte sequência de DNA:\n",
        "\n",
        "`TATTAACCGGGTTTAAACTAGCATGCATGATTAACCAGTACATCTTTT`"
      ],
      "id": "eY6UeMZGh1KJ"
    },
    {
      "cell_type": "code",
      "execution_count": null,
      "metadata": {
        "id": "ki_4uvgPh1KJ",
        "colab": {
          "base_uri": "https://localhost:8080/"
        },
        "outputId": "7bf13c5a-d552-4180-aa39-dfd78139cca1"
      },
      "outputs": [
        {
          "output_type": "stream",
          "name": "stdout",
          "text": [
            "Sequência de DNA Original: TATTAACCGGGTTTAAACTAGCATGCATGATTAACCAGTACATCTTTT\n",
            "Sequência complementar: ATAATTGGCCCAAATTTGATCGTACGTACTAATTGGTCATGTAGAAAA\n",
            "Complemento reverso: AAAAGATGTACTGGTTAATCATGCATGCTAGTTTAAACCCGGTTAATA\n"
          ]
        }
      ],
      "source": [
        "# Gerar complemento reverso de DNA\n",
        "dna_original = \"TATTAACCGGGTTTAAACTAGCATGCATGATTAACCAGTACATCTTTT\"\n",
        "complemento = {'A': 'T', 'T': 'A', 'C': 'G', 'G': 'C'}\n",
        "sequencia_complementar = \"\"\n",
        "\n",
        "# Gerar a sequência complementar\n",
        "for base in dna_original:\n",
        "    sequencia_complementar += complemento.get(base.upper(), base)\n",
        "\n",
        "# Reverter a sequência complementar\n",
        "complemento_reverso = sequencia_complementar[::-1]\n",
        "\n",
        "print(f\"Sequência de DNA Original: {dna_original}\")\n",
        "print(f\"Sequência complementar: {sequencia_complementar}\")\n",
        "print(f\"Complemento reverso: {complemento_reverso}\")"
      ],
      "id": "ki_4uvgPh1KJ"
    },
    {
      "cell_type": "markdown",
      "metadata": {
        "id": "eqyagRlBh1KJ"
      },
      "source": [
        "### 4. Escreva um programa que calcule o fatorial de um número recebido como entrada. Lembre-se que o fatorial de um número é igual ao número multiplicado n sucessivamente por n-1, n-2, .. 1. Exemplo: fat(6) = 6 x 5 x 4 x 3 x 2 x 1 = 720."
      ],
      "id": "eqyagRlBh1KJ"
    },
    {
      "cell_type": "code",
      "execution_count": null,
      "metadata": {
        "id": "jqTIxpNUh1KJ",
        "colab": {
          "base_uri": "https://localhost:8080/"
        },
        "outputId": "6da5df8f-8789-4fab-c431-e6dddccff5ec"
      },
      "outputs": [
        {
          "output_type": "stream",
          "name": "stdout",
          "text": [
            "O fatorial de 6 é: 720\n",
            "O fatorial de 0 é: 1\n",
            "O fatorial de -3 é: Fatorial não definido para números negativos\n"
          ]
        }
      ],
      "source": [
        "# Calcular fatorial\n",
        "def calcular_fatorial(numero):\n",
        "    if numero < 0:\n",
        "        return \"Fatorial não definido para números negativos\"\n",
        "    elif numero == 0:\n",
        "        return 1 # Fatorial de 0 é 1\n",
        "    else:\n",
        "        fatorial = 1\n",
        "        for i in range(1, numero + 1):\n",
        "            fatorial *= i\n",
        "        return fatorial\n",
        "\n",
        "# Testando\n",
        "numero_exemplo_fatorial = 6\n",
        "resultado_fatorial = calcular_fatorial(numero_exemplo_fatorial)\n",
        "print(f\"O fatorial de {numero_exemplo_fatorial} é: {resultado_fatorial}\")\n",
        "\n",
        "numero_exemplo_fatorial_0 = 0\n",
        "resultado_fatorial_0 = calcular_fatorial(numero_exemplo_fatorial_0)\n",
        "print(f\"O fatorial de {numero_exemplo_fatorial_0} é: {resultado_fatorial_0}\")\n",
        "\n",
        "numero_exemplo_fatorial_neg = -3\n",
        "resultado_fatorial_neg = calcular_fatorial(numero_exemplo_fatorial_neg)\n",
        "print(f\"O fatorial de {numero_exemplo_fatorial_neg} é: {resultado_fatorial_neg}\")"
      ],
      "id": "jqTIxpNUh1KJ"
    },
    {
      "cell_type": "markdown",
      "metadata": {
        "id": "GrKtIJaah1KJ"
      },
      "source": [
        "### 5. Escreva um programa que liste a tabuada (produtos) dos números de 1 a 15. Exemplo: tabuada do 3 (0 a 10)"
      ],
      "id": "GrKtIJaah1KJ"
    },
    {
      "cell_type": "code",
      "execution_count": null,
      "metadata": {
        "id": "jad6AWddh1KJ",
        "colab": {
          "base_uri": "https://localhost:8080/"
        },
        "outputId": "5c3d3ad6-10f1-4a49-c16e-59aa8502e2af"
      },
      "outputs": [
        {
          "output_type": "stream",
          "name": "stdout",
          "text": [
            "Tabuadas de 1 a 15 (multiplicando de 0 a 10):\n",
            "  --- Tabuada do 1 ---\n",
            "    1 x 0 = 0\n",
            "    1 x 1 = 1\n",
            "    1 x 2 = 2\n",
            "    1 x 3 = 3\n",
            "    1 x 4 = 4\n",
            "    1 x 5 = 5\n",
            "    1 x 6 = 6\n",
            "    1 x 7 = 7\n",
            "    1 x 8 = 8\n",
            "    1 x 9 = 9\n",
            "    1 x 10 = 10\n",
            "  ---------------------\n",
            "  --- Tabuada do 2 ---\n",
            "    2 x 0 = 0\n",
            "    2 x 1 = 2\n",
            "    2 x 2 = 4\n",
            "    2 x 3 = 6\n",
            "    2 x 4 = 8\n",
            "    2 x 5 = 10\n",
            "    2 x 6 = 12\n",
            "    2 x 7 = 14\n",
            "    2 x 8 = 16\n",
            "    2 x 9 = 18\n",
            "    2 x 10 = 20\n",
            "  ---------------------\n",
            "  --- Tabuada do 3 ---\n",
            "    3 x 0 = 0\n",
            "    3 x 1 = 3\n",
            "    3 x 2 = 6\n",
            "    3 x 3 = 9\n",
            "    3 x 4 = 12\n",
            "    3 x 5 = 15\n",
            "    3 x 6 = 18\n",
            "    3 x 7 = 21\n",
            "    3 x 8 = 24\n",
            "    3 x 9 = 27\n",
            "    3 x 10 = 30\n",
            "  ---------------------\n",
            "  --- Tabuada do 4 ---\n",
            "    4 x 0 = 0\n",
            "    4 x 1 = 4\n",
            "    4 x 2 = 8\n",
            "    4 x 3 = 12\n",
            "    4 x 4 = 16\n",
            "    4 x 5 = 20\n",
            "    4 x 6 = 24\n",
            "    4 x 7 = 28\n",
            "    4 x 8 = 32\n",
            "    4 x 9 = 36\n",
            "    4 x 10 = 40\n",
            "  ---------------------\n",
            "  --- Tabuada do 5 ---\n",
            "    5 x 0 = 0\n",
            "    5 x 1 = 5\n",
            "    5 x 2 = 10\n",
            "    5 x 3 = 15\n",
            "    5 x 4 = 20\n",
            "    5 x 5 = 25\n",
            "    5 x 6 = 30\n",
            "    5 x 7 = 35\n",
            "    5 x 8 = 40\n",
            "    5 x 9 = 45\n",
            "    5 x 10 = 50\n",
            "  ---------------------\n",
            "  --- Tabuada do 6 ---\n",
            "    6 x 0 = 0\n",
            "    6 x 1 = 6\n",
            "    6 x 2 = 12\n",
            "    6 x 3 = 18\n",
            "    6 x 4 = 24\n",
            "    6 x 5 = 30\n",
            "    6 x 6 = 36\n",
            "    6 x 7 = 42\n",
            "    6 x 8 = 48\n",
            "    6 x 9 = 54\n",
            "    6 x 10 = 60\n",
            "  ---------------------\n",
            "  --- Tabuada do 7 ---\n",
            "    7 x 0 = 0\n",
            "    7 x 1 = 7\n",
            "    7 x 2 = 14\n",
            "    7 x 3 = 21\n",
            "    7 x 4 = 28\n",
            "    7 x 5 = 35\n",
            "    7 x 6 = 42\n",
            "    7 x 7 = 49\n",
            "    7 x 8 = 56\n",
            "    7 x 9 = 63\n",
            "    7 x 10 = 70\n",
            "  ---------------------\n",
            "  --- Tabuada do 8 ---\n",
            "    8 x 0 = 0\n",
            "    8 x 1 = 8\n",
            "    8 x 2 = 16\n",
            "    8 x 3 = 24\n",
            "    8 x 4 = 32\n",
            "    8 x 5 = 40\n",
            "    8 x 6 = 48\n",
            "    8 x 7 = 56\n",
            "    8 x 8 = 64\n",
            "    8 x 9 = 72\n",
            "    8 x 10 = 80\n",
            "  ---------------------\n",
            "  --- Tabuada do 9 ---\n",
            "    9 x 0 = 0\n",
            "    9 x 1 = 9\n",
            "    9 x 2 = 18\n",
            "    9 x 3 = 27\n",
            "    9 x 4 = 36\n",
            "    9 x 5 = 45\n",
            "    9 x 6 = 54\n",
            "    9 x 7 = 63\n",
            "    9 x 8 = 72\n",
            "    9 x 9 = 81\n",
            "    9 x 10 = 90\n",
            "  ---------------------\n",
            "  --- Tabuada do 10 ---\n",
            "    10 x 0 = 0\n",
            "    10 x 1 = 10\n",
            "    10 x 2 = 20\n",
            "    10 x 3 = 30\n",
            "    10 x 4 = 40\n",
            "    10 x 5 = 50\n",
            "    10 x 6 = 60\n",
            "    10 x 7 = 70\n",
            "    10 x 8 = 80\n",
            "    10 x 9 = 90\n",
            "    10 x 10 = 100\n",
            "  ---------------------\n",
            "  --- Tabuada do 11 ---\n",
            "    11 x 0 = 0\n",
            "    11 x 1 = 11\n",
            "    11 x 2 = 22\n",
            "    11 x 3 = 33\n",
            "    11 x 4 = 44\n",
            "    11 x 5 = 55\n",
            "    11 x 6 = 66\n",
            "    11 x 7 = 77\n",
            "    11 x 8 = 88\n",
            "    11 x 9 = 99\n",
            "    11 x 10 = 110\n",
            "  ---------------------\n",
            "  --- Tabuada do 12 ---\n",
            "    12 x 0 = 0\n",
            "    12 x 1 = 12\n",
            "    12 x 2 = 24\n",
            "    12 x 3 = 36\n",
            "    12 x 4 = 48\n",
            "    12 x 5 = 60\n",
            "    12 x 6 = 72\n",
            "    12 x 7 = 84\n",
            "    12 x 8 = 96\n",
            "    12 x 9 = 108\n",
            "    12 x 10 = 120\n",
            "  ---------------------\n",
            "  --- Tabuada do 13 ---\n",
            "    13 x 0 = 0\n",
            "    13 x 1 = 13\n",
            "    13 x 2 = 26\n",
            "    13 x 3 = 39\n",
            "    13 x 4 = 52\n",
            "    13 x 5 = 65\n",
            "    13 x 6 = 78\n",
            "    13 x 7 = 91\n",
            "    13 x 8 = 104\n",
            "    13 x 9 = 117\n",
            "    13 x 10 = 130\n",
            "  ---------------------\n",
            "  --- Tabuada do 14 ---\n",
            "    14 x 0 = 0\n",
            "    14 x 1 = 14\n",
            "    14 x 2 = 28\n",
            "    14 x 3 = 42\n",
            "    14 x 4 = 56\n",
            "    14 x 5 = 70\n",
            "    14 x 6 = 84\n",
            "    14 x 7 = 98\n",
            "    14 x 8 = 112\n",
            "    14 x 9 = 126\n",
            "    14 x 10 = 140\n",
            "  ---------------------\n",
            "  --- Tabuada do 15 ---\n",
            "    15 x 0 = 0\n",
            "    15 x 1 = 15\n",
            "    15 x 2 = 30\n",
            "    15 x 3 = 45\n",
            "    15 x 4 = 60\n",
            "    15 x 5 = 75\n",
            "    15 x 6 = 90\n",
            "    15 x 7 = 105\n",
            "    15 x 8 = 120\n",
            "    15 x 9 = 135\n",
            "    15 x 10 = 150\n",
            "  ---------------------\n"
          ]
        }
      ],
      "source": [
        "# Gerar tabuadas de 1 a 15\n",
        "print(\"Tabuadas de 1 a 15 (multiplicando de 0 a 10):\")\n",
        "for numero_base in range(1, 16): # de 1 a 15\n",
        "    print(f\"  --- Tabuada do {numero_base} ---\")\n",
        "    for multiplicador in range(0, 11): # De 0 a 10\n",
        "        produto = numero_base * multiplicador\n",
        "        print(f\"    {numero_base} x {multiplicador} = {produto}\")\n",
        "    print(\"  ---------------------\")"
      ],
      "id": "jad6AWddh1KJ"
    },
    {
      "cell_type": "markdown",
      "metadata": {
        "id": "GK5mTSlZh1KK"
      },
      "source": [
        "### 6. Considerando a seguinte sequência e tabela de massas (Tabela 1), escreva um programa em Python que calcule a massa molar da sequência:\n",
        "\n",
        "Sequência: `VRSSSRTPSDKPVAHVVANPQAEGQLQWLNRRANALLANGVELRDNQLVVPSEGLYLIYSQVLFKGQGCPSTHVLLTHTISRIAVSYQTKVNLLSAIKSPCQRETPEGAEAKPWYEPIYLGGVFQLEKGDRLSAEINRPDYLLFAESGQVYFGIIAL`\n",
        "\n",
        "**Tabela 1 - Massas dos aminoácidos:**\n",
        "\n",
        "| Aminoácido | Massa     |\n",
        "|------------|-----------|\n",
        "| A          | 71.03711  |\n",
        "| C          | 103.00919 |\n",
        "| D          | 115.02694 |\n",
        "| E          | 129.04259 |\n",
        "| F          | 147.06841 |\n",
        "| G          | 57.02146  |\n",
        "| H          | 137.05891 |\n",
        "| I          | 113.08406 |\n",
        "| K          | 128.09496 |\n",
        "| L          | 113.08406 |\n",
        "| M          | 131.04049 |\n",
        "| N          | 114.04293 |\n",
        "| P          | 97.05276  |\n",
        "| Q          | 128.05858 |\n",
        "| R          | 156.10111 |\n",
        "| S          | 87.03203  |\n",
        "| T          | 101.04768 |\n",
        "| V          | 99.06841  |\n",
        "| W          | 186.07931 |\n",
        "| Y          | 163.06333 |\n"
      ],
      "id": "GK5mTSlZh1KK"
    },
    {
      "cell_type": "code",
      "execution_count": null,
      "metadata": {
        "id": "3mpjgvDvh1KK",
        "colab": {
          "base_uri": "https://localhost:8080/"
        },
        "outputId": "3cd68ef6-ac6a-4666-9e23-b824e14b28c9"
      },
      "outputs": [
        {
          "output_type": "stream",
          "name": "stdout",
          "text": [
            "A sequência utilizada para o cálculo da massa é: VRSSSRTPSDKPVAHVVANPQAEGQLQWLNRRANALLANGVELRDNQLVVPSEGLYLIYSQVLFKGQGCPSTHVLLTHTISRIAVSYQTKVNLLSAIKSPCQRETPEGAEAKPWYEPIYLGGVFQLEKGDRLSAEINRPDYLLFAESGQVYFGIIAL\n",
            "O valor da massa molar calculada: 17322.07791\n"
          ]
        }
      ],
      "source": [
        "# Calcular massa molar de uma sequência\n",
        "sequencia_proteina_massa = \"VRSSSRTPSDKPVAHVVANPQAEGQLQWLNRRANALLANGVELRDNQLVVPSEGLYLIYSQVLFKGQGCPSTHVLLTHTISRIAVSYQTKVNLLSAIKSPCQRETPEGAEAKPWYEPIYLGGVFQLEKGDRLSAEINRPDYLLFAESGQVYFGIIAL\"\n",
        "\n",
        "massas_aminoacidos = {\n",
        "    'A': 71.03711,\n",
        "    'C': 103.00919,\n",
        "    'D': 115.02694,\n",
        "    'E': 129.04259,\n",
        "    'F': 147.06841,\n",
        "    'G': 57.02146,\n",
        "    'H': 137.05891,\n",
        "    'I': 113.08406,\n",
        "    'K': 128.09496,\n",
        "    'L': 113.08406,\n",
        "    'M': 131.04049,\n",
        "    'N': 114.04293,\n",
        "    'P': 97.05276,\n",
        "    'Q': 128.05858,\n",
        "    'R': 156.10111,\n",
        "    'S': 87.03203,\n",
        "    'T': 101.04768,\n",
        "    'V': 99.06841,\n",
        "    'W': 186.07931,\n",
        "    'Y': 163.06333\n",
        "}\n",
        "\n",
        "massa_molar_total = 0\n",
        "aminoacidos_desconhecidos = []\n",
        "\n",
        "for aa in sequencia_proteina_massa:\n",
        "    massa_aa = massas_aminoacidos.get(aa.upper())\n",
        "    if massa_aa is not None:\n",
        "        massa_molar_total += massa_aa\n",
        "    elif aa not in aminoacidos_desconhecidos:\n",
        "        aminoacidos_desconhecidos.append(aa)\n",
        "\n",
        "print(f\"A sequência utilizada para o cálculo da massa é: {sequencia_proteina_massa}\")\n",
        "print(f\"O valor da massa molar calculada: {massa_molar_total:.5f}\")\n",
        "if aminoacidos_desconhecidos:\n",
        "    print(f\"   Atenção: Os seguintes aminoácidos na sequência não têm massa definida na tabela e foram ignorados: {aminoacidos_desconhecidos}\")"
      ],
      "id": "3mpjgvDvh1KK"
    },
    {
      "cell_type": "markdown",
      "metadata": {
        "id": "aDLbBVK0h1KK"
      },
      "source": [
        "### 7. Considerando a Tabela 2 que contem dados de defensinas de plantas, obtenha / calcule e imprima:\n",
        "A) a menor sequência e seu comprimento\n",
        "\n",
        "B) a maior sequência e seu comprimento\n",
        "\n",
        "C) a média entre os comprimentos das sequências\n",
        "\n",
        "D) a mediana entre os comprimentos das sequências\n",
        "\n",
        "\n",
        "\n",
        "**Tabela 2 - Dados recuperados sobre defensinas de plantas no PDB (parcial, focando nas sequências e comprimentos):**\n",
        "\n",
        "| Entry ID | Sequence                                      | Chain Length |\n",
        "|----------|-----------------------------------------------|--------------|\n",
        "| 3PSM     | KTCENLADTFRGPCFTDGSCDDHCKNKEHLIKGRCRDDFRCWCTRNC | 47           |\n",
        "| 2NY9     | ATCDLASGFGVGSSLCAAHCLVKGYRGGYCKNKICHCRDKF     | 41           |\n",
        "| 2NY8     | ATCDLASGFGVGSSLCAAHCIARRYRGGYCNSKAVCVCRN      | 40           |\n",
        "| 2NZ3     | ATCDLASIFNVNHALCAAHCIARRYRGGYCNSKAVCVCRN      | 40           |\n",
        "| 2E3G     | ATCDLASKWNWNHTLCAAHCIARRYRGGYCNSKAVCVCRN      | 40           |\n",
        "| 2E3F     | ATCDLASFSSQWWTPNDSLCAAHCIARRYRGGYONGKRVCVCR   | 43           |\n",
        "| 2E3E     | ATCDLASFSSQWWTPNDSLCAAHCLVKGYRGGYCKNKICHCRDKF | 45           |\n"
      ],
      "id": "aDLbBVK0h1KK"
    },
    {
      "cell_type": "code",
      "execution_count": null,
      "metadata": {
        "id": "eV3EEHE5h1KK",
        "colab": {
          "base_uri": "https://localhost:8080/"
        },
        "outputId": "9c2d155c-68a9-4b50-b5e1-e96630d2da55"
      },
      "outputs": [
        {
          "output_type": "stream",
          "name": "stdout",
          "text": [
            "Análise de dados das defensinas da tabela:\n",
            "Menor sequência: ID 2NY8, Comprimento: 40, Sequência: ATCDLASGFGVGSSLCAAHCIARRYRGGYCNSKAVCVCRN\n",
            "Maior sequência: ID 3PSM, Comprimento: 47, Sequência: KTCENLADTFRGPCFTDGSCDDHCKNKEHLIKGRCRDDFRCWCTRNC\n",
            "Média dos comprimentos: 42.29\n",
            "Mediana dos comprimentos: 41\n"
          ]
        }
      ],
      "source": [
        "# Análise de dados de defensinas\n",
        "import statistics # Para calcular a mediana e média\n",
        "\n",
        "dados_defensinas = [\n",
        "    {\"ID\": \"3PSM\", \"Sequencia\": \"KTCENLADTFRGPCFTDGSCDDHCKNKEHLIKGRCRDDFRCWCTRNC\", \"Comprimento\": 47},\n",
        "    {\"ID\": \"2NY9\", \"Sequencia\": \"ATCDLASGFGVGSSLCAAHCLVKGYRGGYCKNKICHCRDKF\", \"Comprimento\": 41},\n",
        "    {\"ID\": \"2NY8\", \"Sequencia\": \"ATCDLASGFGVGSSLCAAHCIARRYRGGYCNSKAVCVCRN\", \"Comprimento\": 40},\n",
        "    {\"ID\": \"2NZ3\", \"Sequencia\": \"ATCDLASIFNVNHALCAAHCIARRYRGGYCNSKAVCVCRN\", \"Comprimento\": 40},\n",
        "    {\"ID\": \"2E3G\", \"Sequencia\": \"ATCDLASKWNWNHTLCAAHCIARRYRGGYCNSKAVCVCRN\", \"Comprimento\": 40},\n",
        "    {\"ID\": \"2E3F\", \"Sequencia\": \"ATCDLASFSSQWWTPNDSLCAAHCIARRYRGGYONGKRVCVCR\", \"Comprimento\": 43},\n",
        "    {\"ID\": \"2E3E\", \"Sequencia\": \"ATCDLASFSSQWWTPNDSLCAAHCLVKGYRGGYCKNKICHCRDKF\", \"Comprimento\": 45}\n",
        "]\n",
        "\n",
        "print(\"Análise de dados das defensinas da tabela:\")\n",
        "\n",
        "if dados_defensinas:\n",
        "    # Menor sequência e seu comprimento\n",
        "    menor_seq_info = min(dados_defensinas, key=lambda x: x[\"Comprimento\"])\n",
        "    print(f\"Menor sequência: ID {menor_seq_info['ID']}, Comprimento: {menor_seq_info['Comprimento']}, Sequência: {menor_seq_info['Sequencia']}\")\n",
        "\n",
        "    # Maior sequência e seu comprimento\n",
        "    maior_seq_info = max(dados_defensinas, key=lambda x: x[\"Comprimento\"])\n",
        "    print(f\"Maior sequência: ID {maior_seq_info['ID']}, Comprimento: {maior_seq_info['Comprimento']}, Sequência: {maior_seq_info['Sequencia']}\")\n",
        "\n",
        "    # Extrair todos os comprimentos para calcular média e mediana\n",
        "    comprimentos = [dado[\"Comprimento\"] for dado in dados_defensinas]\n",
        "\n",
        "    #Média entre os comprimentos das sequências\n",
        "    media_comprimentos = statistics.mean(comprimentos)\n",
        "    print(f\"Média dos comprimentos: {media_comprimentos:.2f}\")\n",
        "\n",
        "    # Mediana entre os comprimentos das sequências\n",
        "    mediana_comprimentos = statistics.median(comprimentos)\n",
        "    print(f\"Mediana dos comprimentos: {mediana_comprimentos}\")\n",
        "else:\n",
        "    print(\"Nenhum dado de defensina para analisar.\")"
      ],
      "id": "eV3EEHE5h1KK"
    },
    {
      "cell_type": "markdown",
      "metadata": {
        "id": "C5cQ_yk4h1KK"
      },
      "source": [
        "### 8. Considerando as assinaturas moleculares (fingerprints) hipotéticas das tabelas abaixo, calcule a distância de Tanimoto conforme a equação a seguir:\n",
        "\n",
        "**Tabela 1 - Fingerprint da molécula 1:** `[0, 0, 1, 0, 0, 1, 1, 0, 1, 1, 0, 1]`\n",
        "\n",
        "**Tabela 2 - Fingerprint da molécula 2:** `[0, 1, 0, 0, 1, 1, 0, 1, 1, 0, 0, 0]`\n",
        "\n",
        "Equação da Distância de Tanimoto (similaridade): $D=\\frac{A\\wedge B}{A\\vee B}$\n",
        "Onde $A \\wedge B$ é o número de bits em comum (AND) e $A \\vee B$ é o número total de bits ativos em qualquer uma das moléculas (OR)."
      ],
      "id": "C5cQ_yk4h1KK"
    },
    {
      "cell_type": "code",
      "execution_count": null,
      "metadata": {
        "id": "OFS-r2Nih1KK",
        "colab": {
          "base_uri": "https://localhost:8080/"
        },
        "outputId": "df5aa343-24c9-44e0-9aec-2400769c4e9b"
      },
      "outputs": [
        {
          "output_type": "stream",
          "name": "stdout",
          "text": [
            "Cálculo da Distância de Tanimoto:\n",
            "Fingerprint 1: [0, 0, 1, 0, 0, 1, 1, 0, 1, 1, 0, 1]\n",
            "Fingerprint 2: [0, 1, 0, 0, 1, 1, 0, 1, 1, 0, 0, 0]\n",
            "O vetor resultante da operação AND: [0, 0, 0, 0, 0, 1, 0, 0, 1, 0, 0, 0] (Soma/Contagem de 1s: 2)\n",
            "O vetor resultante da operação OR:  [0, 1, 1, 0, 1, 1, 1, 1, 1, 1, 0, 1] (Soma/Contagem de 1s: 9)\n",
            "A distância de Tanimoto (A^B / AvB) é: 0.2222\n"
          ]
        }
      ],
      "source": [
        "# Calcular a distância de tanimoto\n",
        "fingerprint1 = [0, 0, 1, 0, 0, 1, 1, 0, 1, 1, 0, 1]\n",
        "fingerprint2 = [0, 1, 0, 0, 1, 1, 0, 1, 1, 0, 0, 0]\n",
        "\n",
        "print(\"Cálculo da Distância de Tanimoto:\")\n",
        "print(f\"Fingerprint 1: {fingerprint1}\")\n",
        "print(f\"Fingerprint 2: {fingerprint2}\")\n",
        "\n",
        "if len(fingerprint1) != len(fingerprint2):\n",
        "    print(\"Erro: Os fingerprints devem ter o mesmo tamanho.\")\n",
        "else:\n",
        "    bits_em_comum_AND = 0\n",
        "    bits_totais_OR = 0\n",
        "\n",
        "    vetor_AND_resultante = []\n",
        "    vetor_OR_resultante = []\n",
        "\n",
        "    for i in range(len(fingerprint1)):\n",
        "        bit1 = fingerprint1[i]\n",
        "        bit2 = fingerprint2[i]\n",
        "\n",
        "        and_result = bit1 & bit2\n",
        "        vetor_AND_resultante.append(and_result)\n",
        "        if and_result == 1:\n",
        "            bits_em_comum_AND += 1\n",
        "\n",
        "        or_result = bit1 | bit2\n",
        "        vetor_OR_resultante.append(or_result)\n",
        "        if or_result == 1:\n",
        "            bits_totais_OR += 1\n",
        "\n",
        "    print(f\"O vetor resultante da operação AND: {vetor_AND_resultante} (Soma/Contagem de 1s: {bits_em_comum_AND})\")\n",
        "    print(f\"O vetor resultante da operação OR:  {vetor_OR_resultante} (Soma/Contagem de 1s: {bits_totais_OR})\")\n",
        "\n",
        "    if bits_totais_OR == 0:\n",
        "        distancia_tanimoto = 0.0 if bits_em_comum_AND == 0 else 1.0\n",
        "        print(\"Ambos os fingerprints são nulos ou resultam em denominador zero para Tanimoto.\")\n",
        "    else:\n",
        "        distancia_tanimoto = bits_em_comum_AND / bits_totais_OR\n",
        "\n",
        "    print(f\"A distância de Tanimoto (A^B / AvB) é: {distancia_tanimoto:.4f}\")\n"
      ],
      "id": "OFS-r2Nih1KK"
    }
  ],
  "metadata": {
    "kernelspec": {
      "display_name": "Python 3",
      "language": "python",
      "name": "python3"
    },
    "language_info": {
      "codemirror_mode": {
        "name": "ipython",
        "version": 3
      },
      "file_extension": ".py",
      "mimetype": "text/x-python",
      "name": "python",
      "nbconvert_exporter": "python",
      "pygments_lexer": "ipython3",
      "version": "3.10.0"
    },
    "colab": {
      "provenance": [],
      "collapsed_sections": [
        "dsiaElBoh1J5",
        "lwEIRXk6h1J9",
        "4vCpyx_-h1KB",
        "t-NayndKh1KD",
        "5uT-_055h1KF",
        "pCcyJXoFh1KG",
        "g3kp69gOh1KH",
        "i1DhygDTh1KI",
        "tg9e0rHOh1KJ"
      ]
    }
  },
  "nbformat": 4,
  "nbformat_minor": 5
}