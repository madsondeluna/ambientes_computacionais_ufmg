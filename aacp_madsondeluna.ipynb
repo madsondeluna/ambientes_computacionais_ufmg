{
  "nbformat": 4,
  "nbformat_minor": 0,
  "metadata": {
    "colab": {
      "provenance": [],
      "authorship_tag": "ABX9TyNG4GYajIfV5nct9NMDch6n",
      "include_colab_link": true
    },
    "kernelspec": {
      "name": "python3",
      "display_name": "Python 3"
    },
    "language_info": {
      "name": "python"
    }
  },
  "cells": [
    {
      "cell_type": "markdown",
      "metadata": {
        "id": "view-in-github",
        "colab_type": "text"
      },
      "source": [
        "<a href=\"https://colab.research.google.com/github/madsondeluna/ambientes_computacionais_ufmg/blob/main/aacp_madsondeluna.ipynb\" target=\"_parent\"><img src=\"https://colab.research.google.com/assets/colab-badge.svg\" alt=\"Open In Colab\"/></a>"
      ]
    },
    {
      "cell_type": "markdown",
      "source": [
        "**O que é o Python e suas aplicações diversas**"
      ],
      "metadata": {
        "id": "2Hqx2RdoP1hL"
      }
    },
    {
      "cell_type": "code",
      "source": [],
      "metadata": {
        "id": "pgQB9nyuNvCi"
      },
      "execution_count": null,
      "outputs": []
    },
    {
      "cell_type": "code",
      "execution_count": null,
      "metadata": {
        "colab": {
          "base_uri": "https://localhost:8080/"
        },
        "cellView": "form",
        "id": "RORl0B3sMTBa",
        "outputId": "670b8181-e2eb-4a8a-fdd5-ed2c1596b120"
      },
      "outputs": [
        {
          "output_type": "stream",
          "name": "stdout",
          "text": [
            "10\n"
          ]
        }
      ],
      "source": [
        "# @title Declaração de variáveis\n",
        "\n",
        "A = 10\n",
        "B = 20\n",
        "C = 30\n",
        "\n",
        "print(A)"
      ]
    },
    {
      "cell_type": "code",
      "source": [
        "# @title Exibição de mensagens\n"
      ],
      "metadata": {
        "cellView": "form",
        "id": "NzPVvAhXOBRT"
      },
      "execution_count": null,
      "outputs": []
    }
  ]
}