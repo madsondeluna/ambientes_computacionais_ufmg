{
  "cells": [
    {
      "cell_type": "markdown",
      "metadata": {
        "id": "__ep1WtR_azD"
      },
      "source": [
        "# **Ambientes de Computação para Bioinformática - Portifólio**\n",
        "\n",
        "* **Docente:** Raquel Cardoso de Melo Minardi\n",
        "* **Discente:** Madson A. de Luna Aragão\n",
        "* **Semestre:** 2025.1\n"
      ],
      "id": "__ep1WtR_azD"
    },
    {
      "cell_type": "markdown",
      "metadata": {
        "id": "Tl2-fe7B_azF"
      },
      "source": [
        "---"
      ],
      "id": "Tl2-fe7B_azF"
    },
    {
      "cell_type": "markdown",
      "metadata": {
        "id": "WfEPpdiA_azF"
      },
      "source": [
        "## **Aula 1: Conceitos Introdutórios** (OK)\n",
        "\n",
        "### **Visão Geral**\n",
        "\n",
        "Nesta aula fundamental, estabelecemos as bases para nossa jornada. Mais do que apenas programar, vamos aprender a \"pensar como um cientista da computação\", transformando problemas complexos em soluções estruturadas e eficientes.\n",
        "\n",
        "### **Lógica de Programação e Algoritmos**\n",
        "\n",
        "Um algoritmo é mais do que uma simples lista de tarefas; é um roteiro formal e inequívoco para resolver um problema. A beleza de um algoritmo reside em sua precisão: ele deve ser claro o suficiente para que uma máquina, que não possui intuição, possa executá-lo e chegar ao resultado correto.\n",
        "\n",
        "A lógica de programação é a habilidade de construir esse roteiro. Envolve decompor um problema em partes menores, identificar padrões e organizar as instruções em uma sequência lógica que considera todas as possíveis condições e casos. É a ponte entre um problema do mundo real e uma solução que um computador pode implementar."
      ],
      "id": "WfEPpdiA_azF"
    },
    {
      "cell_type": "markdown",
      "metadata": {
        "id": "L8Yet20d_azF"
      },
      "source": [
        "\n",
        "\n",
        "---\n",
        "\n"
      ],
      "id": "L8Yet20d_azF"
    },
    {
      "cell_type": "markdown",
      "metadata": {
        "id": "oX-MAEir_azF"
      },
      "source": [
        "## **Aula 2: Python - Primeiros Passos** (OK)\n",
        "\n",
        "### **Visão Geral**\n",
        "\n",
        "Iniciamos com Python, uma linguagem escolhida por sua simplicidade e legibilidade.\n",
        "\n",
        "### **Por que Python? Características e Vantagens**\n",
        "\n",
        "* **Alto Nível:** Python abstrai os detalhes complexos do hardware (gerenciamento de memória, registradores do processador). Isso permite que você se concentre na lógica do problema, e não na arquitetura do computador.\n",
        "\n",
        "* **Interpretada:** Um programa chamado \"interpretador\" lê seu código fonte linha por linha e o executa imediatamente. Isso acelera o ciclo de desenvolvimento (escrever-executar-depurar) em comparação com linguagens compiladas, que exigem uma etapa de compilação separada.\n",
        "\n",
        "* **Tipagem Dinâmica:** Esta é uma característica poderosa e flexível. Você pode atribuir um número a uma variável e, mais tarde, uma string à mesma variável. O interpretador Python descobre o tipo em tempo de execução. Isso torna o código mais conciso, mas exige atenção do programador.\n",
        "\n",
        "* **Sintaxe Limpa:** O código Python é frequentemente descrito como \"executável\". A ausência de chaves `{}` ou `begin`/`end` para delimitar blocos e o uso obrigatório de indentação forçam um estilo de codificação limpo e universalmente legível.\n",
        "\n",
        "### **O Primeiro Programa: \"Olá, Mundo!\"**\n",
        "\n",
        "O programa ```\"Olá, Mundo!\"``` é considerado o primeiro passo na iniciação em Python. Ele confirma que seu ambiente de programação está configurado corretamente e demonstra a sintaxe mais básica da linguagem."
      ],
      "id": "oX-MAEir_azF"
    },
    {
      "cell_type": "code",
      "execution_count": null,
      "metadata": {
        "colab": {
          "base_uri": "https://localhost:8080/"
        },
        "id": "HX0YWMQn_azG",
        "outputId": "e789f88b-1da6-412c-ab9d-9b223608916a"
      },
      "outputs": [
        {
          "output_type": "stream",
          "name": "stdout",
          "text": [
            "Olá, Mundo!\n"
          ]
        }
      ],
      "source": [
        "# A função print() é tipo o \"imprima isso\" do Python, ela mostra mensagens na tela.\n",
        "# \"Olá, Mundo!\" é o que a gente quer que ela mostre, tipo o argumento da conversa.\n",
        "# Esse texto entre aspas é uma 'string', que é como o Python chama um pedaço de texto.\n",
        "print(\"Olá, Mundo! ;) \")"
      ],
      "id": "HX0YWMQn_azG"
    },
    {
      "cell_type": "markdown",
      "metadata": {
        "id": "2J1yxiLI_azG"
      },
      "source": [
        "---"
      ],
      "id": "2J1yxiLI_azG"
    },
    {
      "cell_type": "markdown",
      "metadata": {
        "id": "lXBCNFwv_azH"
      },
      "source": [
        "## **Aula 3: Variáveis** (OK)\n",
        "\n",
        "### **Visão Geral**\n",
        "\n",
        "Variáveis são os \"tijolos\" fundamentais de qualquer programa. Elas nos permitem nomear e armazenar dados para uso posterior.\n",
        "\n",
        "### **Como as Variáveis Funcionam**\n",
        "\n",
        "Quando você cria uma variável, o Python realiza duas ações principais:\n",
        "\n",
        "1. Aloca um espaço na memória do computador grande o suficiente para armazenar o dado.\n",
        "\n",
        "2. Cria uma \"etiqueta\" ou \"rótulo\" (o nome da variável) e a associa a esse local na memória.\n",
        "\n",
        "Diferente de outras linguagens, o tipo de dado pertence ao valor, não à variável. A variável é apenas um nome."
      ],
      "id": "lXBCNFwv_azH"
    },
    {
      "cell_type": "code",
      "execution_count": null,
      "metadata": {
        "id": "-erkWvfV_azH",
        "colab": {
          "base_uri": "https://localhost:8080/"
        },
        "outputId": "f4a3b658-e218-4178-8dd7-a41c9634f3f4"
      },
      "outputs": [
        {
          "output_type": "stream",
          "name": "stdout",
          "text": [
            "A variável 'nome' está guardando um: <class 'str'>\n",
            "A variável 'idade' está guardando um: <class 'int'>\n",
            "A variável 'altura' está guardando um: <class 'float'>\n",
            "A variável 'cientista' está guardando um: <class 'bool'>\n"
          ]
        }
      ],
      "source": [
        "# Aqui, o Python guarda o texto \"Alan Turing\" na memória e a variável 'nome' grava...\n",
        "nome = \"Alan Turing\"  # Isso é uma 'string', pra guardar texto.\n",
        "\n",
        "# Mesma coisa pro número 41, a 'idade' agora aponta pra ele.\n",
        "idade = 41 # Isso é um 'int' (inteiro), pra números sem vírgula.\n",
        "\n",
        "# E pro 1.75, que é um número com vírgula.\n",
        "altura = 1.75 # Isso é um 'float', pra números com casas decimais.\n",
        "\n",
        "# E aqui pra True (verdadeiro).\n",
        "cientista = True # Isso é um 'bool' (booleano), que só pode ser True ou False.\n",
        "\n",
        "# A função type() dá uma olhada no que a variável está guardando e conta pra gente qual é o tipo.\n",
        "print(\"A variável 'nome' está guardando um:\", type(nome))\n",
        "print(\"A variável 'idade' está guardando um:\", type(idade))\n",
        "print(\"A variável 'altura' está guardando um:\", type(altura))\n",
        "print(\"A variável 'cientista' está guardando um:\", type(cientista))"
      ],
      "id": "-erkWvfV_azH"
    },
    {
      "cell_type": "markdown",
      "metadata": {
        "id": "kd_1tSof_azH"
      },
      "source": [
        "---"
      ],
      "id": "kd_1tSof_azH"
    },
    {
      "cell_type": "markdown",
      "metadata": {
        "id": "q5_MwnVZ_azH"
      },
      "source": [
        "## **Aula 4: Sequências e Indexação** (OK)\n",
        "\n",
        "### **Visão Geral**\n",
        "\n",
        "Uma **sequência** é uma estrutura de dados que armazena uma coleção ordenada de itens. \"Ordenada\" significa que os itens mantêm uma posição específica, que pode ser acessada através de um índice.\n",
        "\n",
        "### **Indexação**\n",
        "\n",
        "A capacidade de acessar partes específicas de uma sequência é uma das operações mais poderosas em Python.\n",
        "\n",
        "* **Indexação Baseada em Zero:** O primeiro elemento de qualquer sequência está sempre no índice `0`. Isso é uma convenção comum em muitas linguagens de programação.\n",
        "\n",
        "* **Fatiamento `[start:stop:step]`:** Permite extrair subsequências em determiandos pontos.\n",
        "\n",
        "  * `start`: O índice onde a fatia começa (inclusivo).\n",
        "\n",
        "  * `stop`: O índice onde a fatia termina (exclusivo).\n",
        "\n",
        "  * `step`: O intervalo entre os elementos (padrão é 1)."
      ],
      "id": "q5_MwnVZ_azH"
    },
    {
      "cell_type": "code",
      "execution_count": null,
      "metadata": {
        "id": "dLN2aZfy_azH",
        "colab": {
          "base_uri": "https://localhost:8080/"
        },
        "outputId": "de414b70-9c81-4778-fe10-71df47dc8c51"
      },
      "outputs": [
        {
          "output_type": "stream",
          "name": "stdout",
          "text": [
            "Primeiro elemento: 10\n",
            "Último elemento: 70\n",
            "Do segundo ao quarto elemento: [20, 30, 40]\n",
            "Os três primeiros elementos: [10, 20, 30]\n",
            "Do quarto elemento em diante: [40, 50, 60, 70]\n",
            "Tamanho da lista: 7\n"
          ]
        }
      ],
      "source": [
        "# Vamos criar uma lista de números. Listas são tipo coleções que a gente pode mudar depois.\n",
        "minha_lista = [10, 20, 30, 40, 50, 60, 70]\n",
        "\n",
        "# Pra pegar o primeiro item, a gente usa o índice 0.\n",
        "print(\"Primeiro elemento:\", minha_lista[0]) # Vai mostrar 10\n",
        "\n",
        "# E se quiser o último? O índice -1 é um atalho pra isso!\n",
        "print(\"Último elemento:\", minha_lista[-1]) # Vai mostrar 70\n",
        "\n",
        "# Quer do segundo ao quarto item? É só fatiar!\n",
        "# Lembra que o primeiro índice (1) entra, mas o último (4) não.\n",
        "print(\"Do segundo ao quarto elemento:\", minha_lista[1:4]) # Resultado: [20, 30, 40]\n",
        "\n",
        "# Se não falar onde começa, ele pega desde o início.\n",
        "print(\"Os três primeiros elementos:\", minha_lista[:3]) # Resultado: [10, 20, 30]\n",
        "\n",
        "# E se não falar onde termina, ele vai até o final.\n",
        "print(\"Do quarto elemento em diante:\", minha_lista[3:]) # Resultado: [40, 50, 60, 70]\n",
        "\n",
        "# A função len() conta quantos itens tem na lista. Bem útil!\n",
        "print(\"Tamanho da lista:\", len(minha_lista)) # Vai mostrar 7"
      ],
      "id": "dLN2aZfy_azH"
    },
    {
      "cell_type": "markdown",
      "metadata": {
        "id": "FrnYbySB_azH"
      },
      "source": [
        "---"
      ],
      "id": "FrnYbySB_azH"
    },
    {
      "cell_type": "markdown",
      "metadata": {
        "id": "07-MxE0e_azI"
      },
      "source": [
        "## **Aula 5: Strings** (OK)\n",
        "\n",
        "### **Visão Geral**\n",
        "\n",
        "Strings são a forma principal de manipular texto. Em Python, elas são **imutáveis**, um conceito crucial que garante que uma string, uma vez criada, nunca pode ser alterada no mesmo local da memória. Qualquer \"modificação\" (como usar `.upper()` ou `.replace()`) na verdade cria e retorna uma *nova* string.\n",
        "\n",
        "### **Métodos Comuns e Formatação**"
      ],
      "id": "07-MxE0e_azI"
    },
    {
      "cell_type": "code",
      "execution_count": null,
      "metadata": {
        "id": "ujF3lNko_azI",
        "colab": {
          "base_uri": "https://localhost:8080/"
        },
        "outputId": "0e331a03-f499-4223-efad-bac0d50f504e"
      },
      "outputs": [
        {
          "output_type": "stream",
          "name": "stdout",
          "text": [
            "Frase original: '  a Bioinformática é Incrível!  '\n",
            "Frase depois do .strip(): 'a Bioinformática é Incrível!'\n",
            "Capitalizada: 'A bioinformática é incrível!'\n",
            "Tudo maiúsculo: 'A BIOINFORMÁTICA É INCRÍVEL!'\n",
            "Depois de trocar 'Incrível' por 'Essencial': 'a Bioinformática é Essencial!'\n",
            "A área de 'Bioinformática' é super importante em 2025.\n"
          ]
        }
      ],
      "source": [
        "# Uma frase meio bagunçada, com espaços sobrando e letras maiúsculas e minúsculas misturadas.\n",
        "frase = \"  a Bioinformática é Incrível!  \"\n",
        "\n",
        "# Corrigindo coisas na minha string\n",
        "\n",
        "# O .strip() cria uma nova frase sem os espaços do começo e do fim. A 'frase' original continua igual.\n",
        "frase_limpa = frase.strip()\n",
        "print(f\"Frase original: '{frase}'\")\n",
        "print(f\"Frase depois do .strip(): '{frase_limpa}'\") # Mostra 'a Bioinformática é Incrível!'\n",
        "\n",
        "# O .capitalize() cria uma nova frase com a primeira letra maiúscula e o resto minúsculo.\n",
        "print(f\"Capitalizada: '{frase_limpa.capitalize()}'\") # Mostra 'A bioinformática é incrível!'\n",
        "\n",
        "# O .upper() cria uma nova frase com tudo maiúsculo.\n",
        "print(f\"Tudo maiúsculo: '{frase_limpa.upper()}'\") # Mostra 'A BIOINFORMÁTICA É INCRÍVEL!'\n",
        "\n",
        "\n",
        "# Fazenod algumas mudanças\n",
        "\n",
        "# O .replace('item_antigo', 'item_novo') cria uma nova frase trocando uma parte por outra.\n",
        "frase_modificada = frase_limpa.replace(\"Incrível\", \"Essencial\")\n",
        "print(f\"Depois de trocar 'Incrível' por 'Essencial': '{frase_modificada}'\")\n",
        "\n",
        "\n",
        "# Montando frases com variáveis (f-strings)\n",
        "\n",
        "# f-strings são o jeito mais bacana e fácil de colocar variáveis dentro de um texto.\n",
        "# É só colocar um 'f' antes das aspas e as variáveis entre chaves {}.\n",
        "nome_area = \"Bioinformática\"\n",
        "ano = 2025\n",
        "print(f\"A área de '{nome_area}' é super importante em {ano}.\")"
      ],
      "id": "ujF3lNko_azI"
    },
    {
      "cell_type": "markdown",
      "metadata": {
        "id": "mxVjWunH_azI"
      },
      "source": [
        "---"
      ],
      "id": "mxVjWunH_azI"
    },
    {
      "cell_type": "markdown",
      "metadata": {
        "id": "WH_V89EZ_azI"
      },
      "source": [
        "## **Aula 6: Estruturas de Dados - Conjuntos e Tuplas** (OK)\n",
        "\n",
        "### **Visão Geral**\n",
        "\n",
        "Além das listas, Python oferece outras estruturas de dados com propriedades e casos de uso distintos.\n",
        "\n",
        "### **Tuplas: Sequências Imutáveis e Eficientes**\n",
        "\n",
        "Tuplas são usadas para agrupar dados relacionados que não devem ser modificados. Sua imutabilidade as torna ligeiramente mais eficientes em termos de memória e processamento do que as listas.\n",
        "\n",
        "**Casos de uso comuns:**\n",
        "\n",
        "* Retornar múltiplos valores de uma função.\n",
        "\n",
        "* Chaves de dicionário (dicionários exigem chaves imutáveis).\n",
        "\n",
        "* Armazenar registros de dados que devem ser consistentes (ex: um registro de um banco de dados)."
      ],
      "id": "WH_V89EZ_azI"
    },
    {
      "cell_type": "code",
      "execution_count": null,
      "metadata": {
        "id": "M-Z1z1OL_azI",
        "colab": {
          "base_uri": "https://localhost:8080/"
        },
        "outputId": "4ad2ed88-9f3d-4d61-c8dc-40e63f1bb1b1"
      },
      "outputs": [
        {
          "output_type": "stream",
          "name": "stdout",
          "text": [
            "Minha tupla de coordenadas: (10.5, -3.0, 4.2)\n",
            "Coordenada X: 10.5\n"
          ]
        }
      ],
      "source": [
        "# Criando uma tupla pra guardar as coordenadas de um ponto (x, y, z).\n",
        "# Uma vez criada, essa tupla não muda mais!\n",
        "ponto3D = (10.5, -3.0, 4.2)\n",
        "print(\"Minha tupla de coordenadas:\", ponto3D)\n",
        "\n",
        "# A aqui é possível acessar os itens do mesmo jeito que nas listas.\n",
        "print(\"Coordenada X:\", ponto3D[0]) # Acessa o primeiro item\n",
        "\n",
        "# Se tentar mudar um item da tupla, o Python vai dar erro (TypeError).\n",
        "# ponto3D[0] = 11.0 # Essa linha daria erro!"
      ],
      "id": "M-Z1z1OL_azI"
    },
    {
      "cell_type": "markdown",
      "metadata": {
        "id": "TpyESilF_azI"
      },
      "source": [
        "### **Conjuntos e Operações Matemáticas**\n",
        "\n",
        "Conjuntos são coleções não ordenadas de elementos **únicos**. Eles são implementados usando uma estrutura de dados chamada *hash table*, o que torna operações como verificar se um elemento existe no conjunto (`in`) extremamente rápidas, com complexidade de tempo $O(1)$ em média."
      ],
      "id": "TpyESilF_azI"
    },
    {
      "cell_type": "code",
      "execution_count": null,
      "metadata": {
        "id": "DqY4angx_azI",
        "colab": {
          "base_uri": "https://localhost:8080/"
        },
        "outputId": "e09c0091-d47a-4162-8441-62342b3dbe20"
      },
      "outputs": [
        {
          "output_type": "stream",
          "name": "stdout",
          "text": [
            "Bases únicas de DNA: {'T', 'G', 'A', 'C'}\n",
            "Bases únicas de RNA: {'U', 'A', 'G', 'C'}\n",
            "União (todas as bases juntas): {'G', 'C', 'A', 'T', 'U'}\n",
            "Interseção (bases que DNA e RNA têm em comum): {'G', 'A', 'C'}\n",
            "Diferença (só o que tem no DNA e não no RNA): {'T'}\n"
          ]
        }
      ],
      "source": [
        "# Aqui é criado conjuntos com bases nitrogenadas.\n",
        "# Se tiver itens repetidos, o conjunto ignora e guarda só uma vez.\n",
        "bases_dna = {'A', 'T', 'C', 'G', 'T', 'A'} # O 'T' e 'A' repetidos são ignorados\n",
        "bases_rna = {'A', 'U', 'G', 'C', 'U', 'G'} # Mesma coisa pro 'U' e 'G'\n",
        "\n",
        "# A ordem que os itens aparecem pode variar, porque conjuntos não são ordenados.\n",
        "print(\"Bases únicas de DNA:\", bases_dna) # Vai mostrar {'A', 'C', 'T', 'G'} (a ordem pode mudar)\n",
        "print(\"Bases únicas de RNA:\", bases_rna) # Vai mostrar {'A', 'U', 'C', 'G'} (a ordem pode mudar)\n",
        "\n",
        "# Usando operações de conjunto\n",
        "\n",
        "# União (| ou .union()): junta tudo que tem nos dois conjuntos, sem repetir.\n",
        "uniao = bases_dna | bases_rna\n",
        "print(\"União (todas as bases juntas):\", uniao)\n",
        "\n",
        "# Interseção (& ou .intersection()): pega só o que tem ambos os conjuntos.\n",
        "intersecao = bases_dna & bases_rna\n",
        "print(\"Interseção (bases que DNA e RNA têm em comum):\", intersecao)\n",
        "\n",
        "# Diferença (- ou .difference()): pega o que tem no primeiro conjunto mas não tem no segundo.\n",
        "diferenca_dna_rna = bases_dna - bases_rna\n",
        "print(\"Diferença (só o que tem no DNA e não no RNA):\", diferenca_dna_rna)"
      ],
      "id": "DqY4angx_azI"
    },
    {
      "cell_type": "markdown",
      "metadata": {
        "id": "MeR4_dYN_azI"
      },
      "source": [
        "---"
      ],
      "id": "MeR4_dYN_azI"
    },
    {
      "cell_type": "markdown",
      "metadata": {
        "id": "awfGIDkk_azJ"
      },
      "source": [
        "## **Aula 7: Listas (Sequências Mutáveis)** (OK)\n",
        "\n",
        "### **Visão Geral**\n",
        "\n",
        "Listas são o \"canivete suíço\" das estruturas de dados em Python. Sua **mutabilidade** significa que podemos alterar seu conteúdo dinamicamente, adicionando, removendo e modificando itens após sua criação.\n",
        "\n",
        "### **Manipulação Dinâmica de Listas**"
      ],
      "id": "awfGIDkk_azJ"
    },
    {
      "cell_type": "code",
      "execution_count": null,
      "metadata": {
        "id": "21QHZ1lN_azJ",
        "colab": {
          "base_uri": "https://localhost:8080/"
        },
        "outputId": "f6872277-3ca0-4005-b694-b7ee3013d73a"
      },
      "outputs": [
        {
          "output_type": "stream",
          "name": "stdout",
          "text": [
            "Lista original de genes: ['BRCA1', 'TP53', 'MYC']\n",
            "Depois de adicionar 'EGFR' no final: ['BRCA1', 'TP53', 'MYC', 'EGFR']\n",
            "Depois de inserir 'APC' na segunda posição: ['BRCA1', 'APC', 'TP53', 'MYC', 'EGFR']\n",
            "O gene 'EGFR' foi tirado do final.\n",
            "Lista depois do .pop(): ['BRCA1', 'APC', 'TP53', 'MYC']\n",
            "Depois de remover 'BRCA1': ['APC', 'TP53', 'MYC']\n",
            "Lista ordenada com .sort(): ['APC', 'MYC', 'TP53']\n",
            "Lista original de 'outra_lista_genes': ['KRAS', 'AKT1', 'BRAF']\n",
            "Cópia ordenada criada com sorted(): ['AKT1', 'BRAF', 'KRAS']\n"
          ]
        }
      ],
      "source": [
        "# Nossa lista de genes...\n",
        "genes_importantes = [\"BRCA1\", \"TP53\", \"MYC\"]\n",
        "print(\"Lista original de genes:\", genes_importantes)\n",
        "\n",
        "# Adicionando mais genes\n",
        "\n",
        "# .append(item) coloca um novo item no final da lista\n",
        "genes_importantes.append(\"EGFR\")\n",
        "print(\"Depois de adicionar 'EGFR' no final:\", genes_importantes)\n",
        "\n",
        "# .insert(posicao, item) coloca um item onde a gente quiser.\n",
        "# Os outros itens são \"empurrados\" pra frente.\n",
        "# Pode ser um pouco mais lento se a lista for grande...\n",
        "genes_importantes.insert(1, \"APC\") # Coloca 'APC' na segunda posição (índice 1)\n",
        "print(\"Depois de inserir 'APC' na segunda posição:\", genes_importantes)\n",
        "\n",
        "\n",
        "# Removendo genes da lista\n",
        "\n",
        "# .pop() tira o último item da lista e mostra qual foi.\n",
        "gene_que_saiu = genes_importantes.pop()\n",
        "print(f\"O gene '{gene_que_saiu}' foi tirado do final.\")\n",
        "print(\"Lista depois do .pop():\", genes_importantes)\n",
        "\n",
        "# .remove(valor) procura um item específico e tira a primeira vez que ele aparece.\n",
        "genes_importantes.remove(\"BRCA1\") # Removendo o BRCA1\n",
        "print(\"Depois de remover 'BRCA1':\", genes_importantes)\n",
        "\n",
        "\n",
        "# Colocando em ordem alfabética\n",
        "\n",
        "# O método .sort() arruma a lista em ordem (alfabética pra texto, numérica pra números).\n",
        "# Ele muda a lista original\n",
        "genes_importantes.sort()\n",
        "print(\"Lista ordenada com .sort():\", genes_importantes)\n",
        "\n",
        "# Se quiser uma cópia ordenada sem mexer na original, é possível utilizar a função sorted().\n",
        "outra_lista_genes = [\"KRAS\", \"AKT1\", \"BRAF\"]\n",
        "copia_ordenada = sorted(outra_lista_genes)\n",
        "print(\"Lista original de 'outra_lista_genes':\", outra_lista_genes) # Não mudou\n",
        "print(\"Cópia ordenada criada com sorted():\", copia_ordenada)"
      ],
      "id": "21QHZ1lN_azJ"
    },
    {
      "cell_type": "markdown",
      "metadata": {
        "id": "yktYPRLF_azJ"
      },
      "source": [
        "---"
      ],
      "id": "yktYPRLF_azJ"
    },
    {
      "cell_type": "markdown",
      "metadata": {
        "id": "ZaS1oqeX_azJ"
      },
      "source": [
        "## **Aula 8: Dicionários (Chave-Valor)** (OK)\n",
        "\n",
        "### **Visão Geral**\n",
        "\n",
        "Dicionários são estruturas de dados incrivelmente eficientes que mapeiam **chaves** únicas a **valores**. Assim como os conjuntos, eles usam *hash tables* internamente, permitindo acesso, inserção e remoção de itens em tempo médio constante ($O(1)$). Eles são ideais para modelar objetos do mundo real e suas propriedades.\n",
        "\n",
        "### **Trabalhando com Dicionários**"
      ],
      "id": "ZaS1oqeX_azJ"
    },
    {
      "cell_type": "code",
      "execution_count": null,
      "metadata": {
        "id": "UMPF-0iG_azJ",
        "colab": {
          "base_uri": "https://localhost:8080/"
        },
        "outputId": "38b5a0df-dee8-4aad-8b07-826505c867ac"
      },
      "outputs": [
        {
          "output_type": "stream",
          "name": "stdout",
          "text": [
            "O gene TP53 fica no cromossomo 17.\n",
            "Dicionário depois de adicionar o organismo: {'nome_gene': 'TP53', 'cromossomo': 17, 'funcao_principal': 'Supressor de tumor', 'tamanho_pb': 20000, 'organismo': 'Homo sapiens'}\n",
            "Tamanho em pares de base atualizado: 20253\n",
            "\n",
            "--- Detalhes do Gene TP53 ---\n",
            "-> Nome gene: TP53\n",
            "-> Cromossomo: 17\n",
            "-> Funcao principal: Supressor de tumor\n",
            "-> Tamanho pb: 20253\n",
            "-> Organismo: Homo sapiens\n"
          ]
        }
      ],
      "source": [
        "# Criando um dicionário com informações sobre um gene...\n",
        "# É como ter várias \"gavetas\" (chaves) com \"coisas\" (valores) dentro...\n",
        "info_gene_tp53 = {\n",
        "    \"nome_gene\": \"TP53\",\n",
        "    \"cromossomo\": 17,\n",
        "    \"funcao_principal\": \"Supressor de tumor\",\n",
        "    \"tamanho_pb\": 20000\n",
        "}\n",
        "\n",
        "# Acessando e mudando informações\n",
        "\n",
        "# Para pegar um valor, se usa a chave entre colchetes []\n",
        "print(f\"O gene {info_gene_tp53['nome_gene']} fica no cromossomo {info_gene_tp53['cromossomo']}.\")\n",
        "\n",
        "# Adicionar uma nova informação (chave-valor)\n",
        "info_gene_tp53[\"organismo\"] = \"Homo sapiens\"\n",
        "print(\"Dicionário depois de adicionar o organismo:\", info_gene_tp53)\n",
        "\n",
        "# Mudar um valor que já existe\n",
        "info_gene_tp53[\"tamanho_pb\"] = 20253 # Corrigindo o tamanho\n",
        "print(\"Tamanho em pares de base atualizado:\", info_gene_tp53[\"tamanho_pb\"])\n",
        "\n",
        "\n",
        "# Verificando todas as informações do dicionário\n",
        "\n",
        "# O método .items() é prático e é utilizado pra passar por cada chave e valor de uma vez\n",
        "print(\"\\n--- Detalhes do Gene TP53 ---\")\n",
        "for chave, valor in info_gene_tp53.items():\n",
        "    # .capitalize() deixa a primeira letra da chave maiúscula\n",
        "    print(f\"-> {chave.replace('_', ' ').capitalize()}: {valor}\")"
      ],
      "id": "UMPF-0iG_azJ"
    },
    {
      "cell_type": "markdown",
      "metadata": {
        "id": "PjThJS5E_azJ"
      },
      "source": [
        "---"
      ],
      "id": "PjThJS5E_azJ"
    },
    {
      "cell_type": "markdown",
      "metadata": {
        "id": "yP2rC1Nd_azJ"
      },
      "source": [
        "## **Aulas 9-11: Operadores + Estruturas Condicionais e de Repetição** (OK)\n",
        "\n",
        "### **Visão Geral**\n",
        "\n",
        "Até agora, nosso código executou de forma linear, de cima para baixo. Com operadores, condicionais e laços, podemos criar programas dinâmicos que tomam decisões e executam tarefas repetitivas.\n",
        "\n",
        "### **Aula 9: Operadores**"
      ],
      "id": "yP2rC1Nd_azJ"
    },
    {
      "cell_type": "code",
      "execution_count": null,
      "metadata": {
        "id": "GrbZN_7M_azJ",
        "colab": {
          "base_uri": "https://localhost:8080/"
        },
        "outputId": "35915769-9f78-4519-aaa5-cef0138d74d0"
      },
      "outputs": [
        {
          "output_type": "stream",
          "name": "stdout",
          "text": [
            "10 dividido por 3 é: 3.3333333333333335\n",
            "10 dividido por 3 (só a parte inteira) é: 3\n",
            "O resto de 10 dividido por 3 é: 1\n",
            "2 elevado a 4 é: 16\n",
            "A célula está em condições ideais? True\n",
            "Há alerta crítico de temperatura? False\n",
            "O contrário de 'alerta_critico_temperatura' é: True\n"
          ]
        }
      ],
      "source": [
        "# Operadores são ferramentas importantes para cálculos matemáticos\n",
        "# // (divisão inteira) joga fora a parte decimal do resultado\n",
        "# % (módulo) resulta no que sobre da divisão\n",
        "print(f\"10 dividido por 3 é: {10 / 3}\") # Divisão normal, com vírgula\n",
        "print(f\"10 dividido por 3 (só a parte inteira) é: {10 // 3}\") # Só o 3\n",
        "print(f\"O resto de 10 dividido por 3 é: {10 % 3}\") # O resto é 1\n",
        "print(f\"2 elevado a 4 é: {2 ** 4}\") # Potência, 2*2*2*2 = 16\n",
        "\n",
        "# Operadores para comparar e tomar decisões (Lógicos e de Comparação)\n",
        "# Eles sempre respondem com True (verdadeiro) ou False (falso).\n",
        "temperatura_celula = 37.0\n",
        "ph_ideal = 7.4\n",
        "\n",
        "# O 'and' só é True se ambos os itens comparados forem verdadeiros\n",
        "# Ex: A célula está saudável se a temperatura é 37 e o pH está entre 7.0 e 7.5\n",
        "celula_saudavel = (temperatura_celula == 37.0) and (7.0 < ph_ideal < 7.5)\n",
        "print(f\"A célula está em condições ideais? {celula_saudavel}\")\n",
        "\n",
        "# O 'or' é True se pelo menos um dos itens for verdadeiro\n",
        "# Ex: Alerta se a temperatura for muito baixa ou muito alta\n",
        "alerta_critico_temperatura = (temperatura_celula < 35.0) or (temperatura_celula > 40.0)\n",
        "print(f\"Há alerta crítico de temperatura? {alerta_critico_temperatura}\")\n",
        "\n",
        "# O 'not' inverte o resultado. Se era True, vira False, e vice-versa...\n",
        "print(f\"O contrário de 'alerta_critico_temperatura' é: {not alerta_critico_temperatura}\")"
      ],
      "id": "GrbZN_7M_azJ"
    },
    {
      "cell_type": "markdown",
      "metadata": {
        "id": "YK-QOzs8_azJ"
      },
      "source": [
        "### **Aula 10: Estruturas Condicionais (`if`/`elif`/`else`)**\n",
        "\n",
        "Permitem que o programa siga caminhos diferentes com base nos resultados das condições lógicas."
      ],
      "id": "YK-QOzs8_azJ"
    },
    {
      "cell_type": "code",
      "execution_count": null,
      "metadata": {
        "id": "PwZqJYDn_azJ",
        "colab": {
          "base_uri": "https://localhost:8080/"
        },
        "outputId": "3f184e48-1282-4b03-c54f-aaddba956248"
      },
      "outputs": [
        {
          "output_type": "stream",
          "name": "stdout",
          "text": [
            "Analisando a taxa de expressão de 85:\n",
            "Nível de Expressão: MÉDIO.\n"
          ]
        }
      ],
      "source": [
        "# Vamos classificar um gene pela sua taxa de expressão\n",
        "taxa_expressao_gene = 85\n",
        "\n",
        "print(f\"Analisando a taxa de expressão de {taxa_expressao_gene}:\")\n",
        "\n",
        "# O Python vai testando as condições uma por uma, de cima pra baixo\n",
        "if taxa_expressao_gene > 100:\n",
        "    # Esse bloco só roda se a condição for True\n",
        "    print(\"Nível de Expressão: ALTO.\")\n",
        "elif taxa_expressao_gene >= 50: # 'elif' é tipo um \"senão, se...\"\n",
        "    # Se o 'if' de cima foi False, ele testa essa condição aqui\n",
        "    # Como 85 é >= 50, esse bloco vai rodar\n",
        "    print(\"Nível de Expressão: MÉDIO.\")\n",
        "elif taxa_expressao_gene > 0:\n",
        "    # Esse nem vai ser testado, porque o 'elif' de cima já foi True\n",
        "    print(\"Nível de Expressão: BAIXO.\")\n",
        "else:\n",
        "    # O 'else' é o \"último caso\", se nada antes for True\n",
        "    print(\"Nível de Expressão: NÃO DETECTADO ou ZERO.\")"
      ],
      "id": "PwZqJYDn_azJ"
    },
    {
      "cell_type": "markdown",
      "metadata": {
        "id": "WXco0GAJ_azK"
      },
      "source": [
        "### **Aula 11: Estruturas de Repetição (Laços `for` e `while`)**\n",
        "\n",
        "**Laço `for`:** Perfeito pra passar por cada item de uma coleção (lista, string, etc.). Você usa quando sabe *quantas vezes* quer repetir algo (uma vez para cada item)."
      ],
      "id": "WXco0GAJ_azK"
    },
    {
      "cell_type": "code",
      "execution_count": null,
      "metadata": {
        "id": "RByJTTUB_azK",
        "colab": {
          "base_uri": "https://localhost:8080/"
        },
        "outputId": "7566b318-f63f-42e4-bfd7-4bb403b44ee3"
      },
      "outputs": [
        {
          "output_type": "stream",
          "name": "stdout",
          "text": [
            "Sequência de DNA: AGCTTAGC\n",
            "Contagem de cada base: {'A': 2, 'T': 2, 'C': 2, 'G': 2}\n"
          ]
        }
      ],
      "source": [
        "# Usando um laço 'for' para contar quantas vezes cada base aparece numa sequência de DNA\n",
        "sequencia_dna_curta = \"AGCTTAGC\"\n",
        "contagem_bases = {'A': 0, 'T': 0, 'C': 0, 'G': 0} # Dicionário para guardar as contagens\n",
        "\n",
        "# O laço vai pegar cada letra (base) da 'sequencia_dna_curta' uma por vez.\n",
        "for base_atual in sequencia_dna_curta:\n",
        "    if base_atual in contagem_bases: # Checa se a base é uma das que a gente quer contar\n",
        "        contagem_bases[base_atual] += 1 # Aumenta a contagem daquela base\n",
        "\n",
        "print(f\"Sequência de DNA: {sequencia_dna_curta}\")\n",
        "print(f\"Contagem de cada base: {contagem_bases}\")"
      ],
      "id": "RByJTTUB_azK"
    },
    {
      "cell_type": "markdown",
      "metadata": {
        "id": "4vsa58FA_azK"
      },
      "source": [
        "**Laço `while`:** Fica repetindo um bloco de código **enquanto** uma condição for verdadeira. Você usa quando não sabe exatamente quantas vezes vai repetir, mas sabe quando deve parar."
      ],
      "id": "4vsa58FA_azK"
    },
    {
      "cell_type": "code",
      "execution_count": null,
      "metadata": {
        "id": "Uj5IcNL1_azK",
        "colab": {
          "base_uri": "https://localhost:8080/"
        },
        "outputId": "228b54a6-bd53-435c-c0ff-3cf30069e0ab"
      },
      "outputs": [
        {
          "output_type": "stream",
          "name": "stdout",
          "text": [
            "Hora 0: 100 bactérias.\n",
            "Hora 1: 200 bactérias.\n",
            "Hora 2: 400 bactérias.\n",
            "Hora 3: 800 bactérias.\n",
            "\n",
            "Cultura atingiu (ou passou de) 1000 bactérias após 4 horas.\n",
            "Número final de bactérias: 1600\n"
          ]
        }
      ],
      "source": [
        "# Simulando o crescimento de uma cultura de bactérias até atingir um certo número\n",
        "numero_bacterias_inicial = 100\n",
        "limite_populacao = 1000\n",
        "horas_passadas = 0\n",
        "\n",
        "# O laço continua enquanto o número de bactérias for menor que o nosso limite.\n",
        "while numero_bacterias_inicial < limite_populacao:\n",
        "    print(f\"Hora {horas_passadas}: {numero_bacterias_inicial} bactérias.\")\n",
        "\n",
        "    # Vamos supor que a população dobra a cada hora\n",
        "    numero_bacterias_inicial = numero_bacterias_inicial * 2\n",
        "\n",
        "    horas_passadas += 1 # Importante: tem que mudar algo que afete a condição, senão o laço fica infinito!\n",
        "\n",
        "print(f\"\\nCultura atingiu (ou passou de) {limite_populacao} bactérias após {horas_passadas} horas.\")\n",
        "print(f\"Número final de bactérias: {numero_bacterias_inicial}\")"
      ],
      "id": "Uj5IcNL1_azK"
    },
    {
      "cell_type": "markdown",
      "metadata": {
        "id": "d8LfAmuh_azK"
      },
      "source": [
        "---"
      ],
      "id": "d8LfAmuh_azK"
    },
    {
      "cell_type": "markdown",
      "metadata": {
        "id": "0wqT7GJY_azK"
      },
      "source": [
        "## **Aula 12: Entrada e Saída (I/O) de Arquivos** (OK)\n",
        "\n",
        "### **Visão Geral**\n",
        "\n",
        "Na bioinformática, raramente digitamos dados diretamente. Em vez disso, trabalhamos com arquivos que contêm sequências, anotações ou resultados de análises. Aprender a ler e escrever nesses arquivos é uma habilidade essencial. O formato **FASTA** é um dos mais comuns para armazenar sequências. Ele consiste em uma linha de cabeçalho iniciada por `>` seguida por linhas contendo a sequência.\n",
        "\n",
        "### **Manipulação de Arquivos de Bioinformática**\n",
        "\n",
        "A maneira mais segura e recomendada de trabalhar com arquivos em Python é usando o gerenciador de contexto `with`. Ele garante que o arquivo seja devidamente fechado ao final do bloco, mesmo que ocorram erros, prevenindo corrupção de dados e vazamento de recursos."
      ],
      "id": "0wqT7GJY_azK"
    },
    {
      "cell_type": "code",
      "execution_count": null,
      "metadata": {
        "id": "EdG_9z5H_azK",
        "colab": {
          "base_uri": "https://localhost:8080/"
        },
        "outputId": "7ec10b9c-b98c-4642-8c60-06f6a7940919"
      },
      "outputs": [
        {
          "output_type": "stream",
          "name": "stdout",
          "text": [
            "Arquivo 'proteina_exemplo.fasta' foi criado!\n",
            "\n",
            "--- O que a gente leu do arquivo ---\n",
            "Cabeçalho: >P0DP23|TRFE_HUMAN Serotransferrin OS=Homo sapiens OX=9606 GN=TF PE=1 SV=4\n",
            "Sequência: MRPSGTAGAAGATGPLACTLVLLLSLLLLPAGSLGAMDPLNVSVLYYTASQNLWCKPVALVAFDQ\n",
            "A sequência tem 65 aminoácidos.\n"
          ]
        }
      ],
      "source": [
        "# Escrevendo um arquivo no formato FASTA\n",
        "\n",
        "# Dados de uma proteína que se quer salvar\n",
        "id_proteina_exemplo = \"P0DP23|TRFE_HUMAN\"\n",
        "descricao_proteina = \"Serotransferrin OS=Homo sapiens OX=9606 GN=TF PE=1 SV=4\"\n",
        "sequencia_proteina = \"MRPSGTAGAAGATGPLACTLVLLLSLLLLPAGSLGAMDPLNVSVLYYTASQNLWCKPVALVAFDQ\" # Só um pedacinho\n",
        "\n",
        "# O 'w' significa 'write' (escrever). Se o arquivo não existe, ele cria. Se existe, apaga e escreve por cima.\n",
        "# 'as arquivo_saida' dá um \"nickname\" pro arquivo aberto, para poder usar\n",
        "with open(\"proteina_exemplo.fasta\", \"w\") as arquivo_saida:\n",
        "    # A primeira linha do FASTA é o cabeçalho, começando com '>'.\n",
        "    # O '\\n' no final quer dizer \"pula uma linha\".\n",
        "    arquivo_saida.write(f\">{id_proteina_exemplo} {descricao_proteina}\\n\")\n",
        "\n",
        "    # Depois vem a sequência... Em arquivos FASTA, a sequência é quebrada em várias linhas...\n",
        "    # Aqui, para simplificar, vamos colocar tudo numa linha só\n",
        "    arquivo_saida.write(sequencia_proteina + \"\\n\")\n",
        "\n",
        "print(\"Arquivo 'proteina_exemplo.fasta' foi criado!\")\n",
        "\n",
        "\n",
        "# Lendo e processando o arquivo FASTA que foi criado\n",
        "\n",
        "# O 'r' significa 'read' (ler). Aqui só vai poder ler, não escreve nada novo...\n",
        "try: # É uma boa prática usar try/except pra lidar com erros, tipo \"arquivo não encontrado\"...\n",
        "    with open(\"proteina_exemplo.fasta\", \"r\") as arquivo_entrada:\n",
        "        # .readlines() lê todas as linhas do arquivo e coloca numa lista. Cada linha é um item da lista...\n",
        "        todas_as_linhas = arquivo_entrada.readlines()\n",
        "\n",
        "        # A primeira linha (índice 0) é o cabeçalho. O .strip() tira espaços e pulos de linha do começo e fim...\n",
        "        cabecalho_lido_do_arquivo = todas_as_linhas[0].strip()\n",
        "\n",
        "        # As outras linhas (do índice 1 em diante) são a sequência...\n",
        "        # O .join() junta todas elas numa string só...\n",
        "        sequencia_lida_do_arquivo = \"\".join([linha.strip() for linha in todas_as_linhas[1:]])\n",
        "\n",
        "        print(\"\\n--- O que a gente leu do arquivo ---\")\n",
        "        print(f\"Cabeçalho: {cabecalho_lido_do_arquivo}\")\n",
        "        print(f\"Sequência: {sequencia_lida_do_arquivo}\")\n",
        "        print(f\"A sequência tem {len(sequencia_lida_do_arquivo)} aminoácidos.\")\n",
        "\n",
        "except FileNotFoundError: # Se o arquivo não existir, esse bloco aqui que roda.\n",
        "    print(\"\\nOps! O arquivo 'proteina_exemplo.fasta' não foi encontrado. Você rodou a primeira parte pra criar ele?\")"
      ],
      "id": "EdG_9z5H_azK"
    },
    {
      "cell_type": "markdown",
      "metadata": {
        "id": "YapN1GiT_azK"
      },
      "source": [
        "---"
      ],
      "id": "YapN1GiT_azK"
    },
    {
      "cell_type": "markdown",
      "metadata": {
        "id": "F90wDDtH_azZ"
      },
      "source": [
        "## **Aula 13: Modularização, Funções e Expressões Regulares** (OK)\n",
        "\n",
        "### **Visão Geral**\n",
        "\n",
        "À medida que os programas crescem, a organização se torna vital. **Funções** nos permitem empacotar a lógica em blocos reutilizáveis e com nomes descritivos (abstração). **Módulos** nos permitem organizar funções relacionadas em arquivos separados. **Expressões Regulares (Regex)** são uma ferramenta poderosa para encontrar padrões complexos em texto, como sítios de restrição em DNA.\n",
        "\n",
        "### **Funções: Criando Ferramentas Reutilizáveis**\n",
        "\n",
        "Uma boa função tem uma única responsabilidade, um nome claro e documentação (docstring) explicando o que ela faz."
      ],
      "id": "F90wDDtH_azZ"
    },
    {
      "cell_type": "code",
      "execution_count": null,
      "metadata": {
        "id": "d3L4dwDV_azZ",
        "colab": {
          "base_uri": "https://localhost:8080/"
        },
        "outputId": "80c6fc78-7d46-47ba-9608-f3d9a30aa482"
      },
      "outputs": [
        {
          "output_type": "stream",
          "name": "stdout",
          "text": [
            "O peso molecular aproximado da proteína de exemplo é: 13944.80 Da\n"
          ]
        }
      ],
      "source": [
        "# Vamos criar uma função pra calcular o peso molecular de uma proteína\n",
        "# É como criar uma nova \"ferramenta\" que podemos usar várias vezes\n",
        "\n",
        "def calcular_peso_proteina(sequencia_aminoacidos: str) -> float:\n",
        "    \"\"\"\n",
        "    Calcula o peso molecular aproximado de uma proteína.\n",
        "    Usa pesos médios dos aminoácidos.\n",
        "\n",
        "    Como usar:\n",
        "        peso = calcular_peso_proteina(\"PEPTIDE\")\n",
        "    \"\"\"\n",
        "    # Um dicionário com os pesos aproximados de cada aminoácido.\n",
        "    pesos_aa = {\n",
        "        'A': 89.1, 'C': 121.2, 'D': 133.1, 'E': 147.1, 'F': 165.2,\n",
        "        'G': 75.1, 'H': 155.2, 'I': 131.2, 'K': 146.2, 'L': 131.2,\n",
        "        'M': 149.2, 'N': 132.1, 'P': 115.1, 'Q': 146.1, 'R': 174.2,\n",
        "        'S': 105.1, 'T': 119.1, 'V': 117.1, 'W': 204.2, 'Y': 181.2\n",
        "    }\n",
        "\n",
        "    peso_total_calculado = 0.0\n",
        "    # Passa por cada aminoácido na sequência que foi recebida...\n",
        "    for aminoacido_atual in sequencia_aminoacidos.upper(): # .upper() pra garantir que seja maiúscula\n",
        "        # Soma o peso do aminoácido atual ao peso total.\n",
        "        # O .get(aminoacido, 0) é interessante porque se o aminoácido não estiver no dicionário (tipo um 'X')\n",
        "        # ele usa 0 e não dá erro...\n",
        "        peso_total_calculado += pesos_aa.get(aminoacido_atual, 0)\n",
        "\n",
        "    return peso_total_calculado # A função \"devolve\" o resultado final...\n",
        "\n",
        "# Agora vamos usar nossa função!\n",
        "sequencia_exemplo = \"MALWMRLLPLLALLALWGPDPAAAFVNQHLCGSHLVEALYLVCGERGFFYTPKTRREAEDLQVGQVELGGGPGAGSLQPLALEGSLQKRGIVEQCCTSICSLYQLENYCN\" # Insulina (um pedaço maior)\n",
        "peso_calculado_insulina = calcular_peso_proteina(sequencia_exemplo)\n",
        "# O :.2f formata o número pra mostrar só duas casas decimais.\n",
        "print(f\"O peso molecular aproximado da proteína de exemplo é: {peso_calculado_insulina:.2f} Da\")"
      ],
      "id": "d3L4dwDV_azZ"
    },
    {
      "cell_type": "markdown",
      "metadata": {
        "id": "rYif1bML_azZ"
      },
      "source": [
        "### **Expressões Regulares: Encontrando Padrões em Sequências**\n",
        "\n",
        "Imagine que você precisa encontrar todos os locais onde a enzima de restrição *EcoRI* (sítio de reconhecimento `G`**AATTC**) pode cortar uma sequência de DNA. Regex é perfeito para isso."
      ],
      "id": "rYif1bML_azZ"
    },
    {
      "cell_type": "code",
      "execution_count": null,
      "metadata": {
        "id": "e1t_EXzf_azZ",
        "colab": {
          "base_uri": "https://localhost:8080/"
        },
        "outputId": "a960e2a1-356b-4874-8caa-88dea7285aca"
      },
      "outputs": [
        {
          "output_type": "stream",
          "name": "stdout",
          "text": [
            "Procurando por sítios de corte da EcoRI (GAATTC) na sequência...\n",
            "-> Sítio 1 encontrado! Começa no índice 8.\n",
            "   A enzima vai cortar entre o G (índice 8) e o A (índice 9).\n",
            "-> Sítio 2 encontrado! Começa no índice 25.\n",
            "   A enzima vai cortar entre o G (índice 25) e o A (índice 26).\n",
            "-> Sítio 3 encontrado! Começa no índice 41.\n",
            "   A enzima vai cortar entre o G (índice 41) e o A (índice 42).\n"
          ]
        }
      ],
      "source": [
        "import re # Para usar expressões regulares, é necessário importar o módulo 're'\n",
        "\n",
        "# Uma sequência de DNA para se realizar as operaçãoes...\n",
        "dna_para_analise = \"AGCTAGCTGAATTCGCTAGCTAGCTGAATTCGATTACGCTAGAATTCCC\"\n",
        "\n",
        "# O padrão que a gente quer achar (EcoRI) é \"GAATTC\".\n",
        "# O 'r' antes da string é uma boa prática pra expressões regulares, evita problemas com barras invertidas...\n",
        "padrao_enzima_ecori = r\"GAATTC\"\n",
        "\n",
        "# re.finditer() acha TODAS as vezes que o padrão aparece e devolve um \"iterador\"...\n",
        "# Interessante pra quando tem muitas ocorrências, porque não guarda tudo na memória de uma vez...\n",
        "locais_encontrados = re.finditer(padrao_enzima_ecori, dna_para_analise)\n",
        "\n",
        "print(f\"Procurando por sítios de corte da EcoRI ({padrao_enzima_ecori}) na sequência...\")\n",
        "contador_sitios = 0\n",
        "for achado in locais_encontrados:\n",
        "    contador_sitios += 1\n",
        "    # .start() diz onde o padrão começou a ser encontrado (o índice do 'G')...\n",
        "    # A enzima EcoRI corta depois do primeiro 'G'\n",
        "    indice_inicio_sitio = achado.start()\n",
        "    ponto_exato_do_corte = indice_inicio_sitio + 1 # O corte é entre G e A\n",
        "    print(f\"-> Sítio {contador_sitios} encontrado! Começa no índice {indice_inicio_sitio}.\")\n",
        "    print(f\"   A enzima vai cortar entre o G (índice {indice_inicio_sitio}) e o A (índice {ponto_exato_do_corte}).\")\n",
        "\n",
        "if contador_sitios == 0:\n",
        "    print(\"Nenhum sítio de corte para EcoRI foi encontrado nesta sequência.\")"
      ],
      "id": "e1t_EXzf_azZ"
    },
    {
      "cell_type": "markdown",
      "metadata": {
        "id": "qknSmPtx_azZ"
      },
      "source": [
        "---"
      ],
      "id": "qknSmPtx_azZ"
    },
    {
      "cell_type": "markdown",
      "metadata": {
        "id": "gzEL8ayJ_azZ"
      },
      "source": [
        "## **Aula 14: Programação Orientada a Objetos (POO)** (OK)\n",
        "\n",
        "### **Visão Geral**\n",
        "\n",
        "POO é um paradigma que nos permite modelar o mundo em termos de **objetos**. Um objeto agrupa **dados (atributos)** e **comportamentos (métodos)**. A **classe** é a planta ou o molde para criar esses objetos. Em bioinformática, podemos modelar uma sequência de DNA, uma proteína ou um cromossomo como um objeto.\n",
        "\n",
        "### **Modelando uma Sequência de DNA como uma Classe**\n",
        "\n",
        "Vamos criar uma classe `DNASequence` que não apenas armazena a sequência, mas também \"sabe\" como realizar operações biológicas relevantes sobre si mesma."
      ],
      "id": "gzEL8ayJ_azZ"
    },
    {
      "cell_type": "code",
      "execution_count": null,
      "metadata": {
        "id": "rgYDdD2H_aza",
        "colab": {
          "base_uri": "https://localhost:8080/"
        },
        "outputId": "4c00119a-efbe-485f-e519-53d03c93a775"
      },
      "outputs": [
        {
          "output_type": "stream",
          "name": "stdout",
          "text": [
            "Objeto DNA criado: DNA(ID='BRCA1_HUMAN_promotor_regiaoX', Tamanho=23pb)\n",
            "O conteúdo GC de 'BRCA1_HUMAN_promotor_regiaoX' é: 73.91%\n",
            "A sequência de RNA correspondente é: GGCGCAGCGCUCCAGGGUCUCAG\n"
          ]
        }
      ],
      "source": [
        "# Criando um \"molde\" (classe) para representar sequências de DNA...\n",
        "class DNASequence:\n",
        "    \"\"\"\n",
        "    Essa classe representa uma sequência de DNA.\n",
        "    Ela guarda a sequência e sabe fazer algumas coisas com ela.\n",
        "    \"\"\"\n",
        "    # O __init__ é tipo o \"construtor\". Ele roda toda vez que a gente cria um novo objeto DNASequence...\n",
        "    # 'self' é uma referência pro próprio objeto que está sendo criado...\n",
        "    def __init__(self, id_da_sequencia: str, sequencia_bruta: str):\n",
        "        # Atributos (as características do objeto)\n",
        "        self.id = id_da_sequencia # Um nome ou identificador pra sequência\n",
        "        self.seq = sequencia_bruta.upper() # A sequência de DNA em si, sempre guardada em maiúsculas\n",
        "\n",
        "    # Métodos (as \"ações\" que o objeto sabe fazer)\n",
        "\n",
        "    def calcular_gc_content(self) -> float:\n",
        "        \"\"\"Calcula a porcentagem de Gs e Cs na sequência.\"\"\"\n",
        "        contagem_g = self.seq.count('G')\n",
        "        contagem_c = self.seq.count('C')\n",
        "\n",
        "        tamanho_total = len(self.seq)\n",
        "        if tamanho_total == 0: # Importante para não dar erro de divisão por zero se a sequência for vazia\n",
        "            return 0.0\n",
        "\n",
        "        return ((contagem_g + contagem_c) / tamanho_total) * 100\n",
        "\n",
        "    def transcrever_para_rna(self) -> str:\n",
        "        \"\"\"Converte a sequência de DNA para RNA (troca T por U).\"\"\"\n",
        "        # O método .replace() das strings é indicado para essa situacoes\n",
        "        return self.seq.replace('T', 'U')\n",
        "\n",
        "    # O __repr__ diz como o objeto deve ser \"mostrado\" se um print for executa nele. Ajuda a debugar a localizar erros...\n",
        "    def __repr__(self) -> str:\n",
        "        return f\"DNA(ID='{self.id}', Tamanho={len(self.seq)}pb)\"\n",
        "\n",
        "# Usando nossa classe pra criar objetos\n",
        "\n",
        "# Criando um objeto do tipo DNASequence para um pedacinho do gene BRCA1.\n",
        "# Isso chama o __init__ lá de cima...\n",
        "dna_brca1_promotor = DNASequence(\n",
        "    id_da_sequencia=\"BRCA1_HUMAN_promotor_regiaoX\",\n",
        "    sequencia_bruta=\"ggcgcagcgctccagggtctcag\" # Sequência de exemplo\n",
        ")\n",
        "\n",
        "# Agora podemos usar os métodos que definimos no início\n",
        "print(f\"Objeto DNA criado: {dna_brca1_promotor}\") # Vai usar o __repr__\n",
        "print(f\"O conteúdo GC de '{dna_brca1_promotor.id}' é: {dna_brca1_promotor.calcular_gc_content():.2f}%\")\n",
        "print(f\"A sequência de RNA correspondente é: {dna_brca1_promotor.transcrever_para_rna()}\")"
      ],
      "id": "rgYDdD2H_aza"
    },
    {
      "cell_type": "markdown",
      "metadata": {
        "id": "_O1DE4S1_aza"
      },
      "source": [
        "---"
      ],
      "id": "_O1DE4S1_aza"
    },
    {
      "cell_type": "markdown",
      "metadata": {
        "id": "fPSi-HZ1_aza"
      },
      "source": [
        "## **Aula 15: Tratamento de Exceções** (OK)\n",
        "\n",
        "### **Visão Geral**\n",
        "\n",
        "\"Lixo entra, lixo sai.\" Programas robustos devem prever e lidar com entradas inválidas. Por exemplo, o que acontece se tentarmos criar nosso objeto `DNASequence` com caracteres inválidos como 'X' ou 'Z'? O tratamento de exceções nos permite capturar esses erros e responder adequadamente, em vez de deixar o programa quebrar.\n",
        "\n",
        "### **Tornando nossa Classe mais Robusta**"
      ],
      "id": "fPSi-HZ1_aza"
    },
    {
      "cell_type": "code",
      "execution_count": null,
      "metadata": {
        "id": "WBsrYbt-_aza",
        "colab": {
          "base_uri": "https://localhost:8080/"
        },
        "outputId": "55b0e921-4674-4b3c-92eb-9107f5d50536"
      },
      "outputs": [
        {
          "output_type": "stream",
          "name": "stdout",
          "text": [
            "Deu certo! Objeto criado: DNA_Validado(ID='Gene_Correto', Tamanho=13pb)\n",
            "Conteúdo GC: 53.85%\n",
            "------------------------------\n",
            "Deu erro como esperado! Mensagem: 'Sequência 'Gene_Com_Erro' tem uma base inválida: 'X'. Só ATCG são permitidas.'\n"
          ]
        }
      ],
      "source": [
        "# Melhorando nossa classe DNASequence pra ela ser mais espertinha com erros.\n",
        "class DNASequenceMelhorada:\n",
        "    \"\"\"\n",
        "    Uma versão da DNASequence que checa se a sequência é válida.\n",
        "    \"\"\"\n",
        "    def __init__(self, id_da_sequencia: str, sequencia_bruta: str):\n",
        "        self.id = id_da_sequencia\n",
        "\n",
        "        # Quais letras são permitidas numa sequência de DNA?\n",
        "        alfabeto_dna_valido = \"ATCG\"\n",
        "        sequencia_maiuscula = sequencia_bruta.upper() # Converte pra maiúscula pra facilitar a checagem\n",
        "\n",
        "        # Vamos checar cada letra da sequência\n",
        "        for letra_base in sequencia_maiuscula:\n",
        "            if letra_base not in alfabeto_dna_valido:\n",
        "                # Se achar uma letra que não é A, T, C, ou G, a gente \"levanta um erro\".\n",
        "                # ValueError é um tipo de erro que diz que o valor do argumento não é bom.\n",
        "                raise ValueError(f\"Sequência '{id_da_sequencia}' tem uma base inválida: '{letra_base}'. Só ATCG são permitidas.\")\n",
        "\n",
        "        # Se passou por todas as letras e não deu erro... Ok\n",
        "        self.seq = sequencia_maiuscula\n",
        "\n",
        "    def calcular_gc_content(self) -> float: # Copiando os métodos da classe anterior\n",
        "        contagem_g = self.seq.count('G')\n",
        "        contagem_c = self.seq.count('C')\n",
        "        tamanho_total = len(self.seq)\n",
        "        if tamanho_total == 0: return 0.0\n",
        "        return ((contagem_g + contagem_c) / tamanho_total) * 100\n",
        "\n",
        "    def transcrever_para_rna(self) -> str:\n",
        "        return self.seq.replace('T', 'U')\n",
        "\n",
        "    def __repr__(self) -> str:\n",
        "        return f\"DNA_Validado(ID='{self.id}', Tamanho={len(self.seq)}pb)\"\n",
        "\n",
        "# Testando o tratamento de erros com try...except\n",
        "\n",
        "# 1. Tentando criar uma sequência válida\n",
        "try:\n",
        "    dna_ok = DNASequenceMelhorada(\"Gene_Correto\", \"ATGCGATCGATCG\")\n",
        "    print(f\"Deu certo! Objeto criado: {dna_ok}\")\n",
        "    print(f\"Conteúdo GC: {dna_ok.calcular_gc_content():.2f}%\")\n",
        "except ValueError as erro_capturado:\n",
        "    # Esse bloco só roda se o 'try' der um ValueError.\n",
        "    print(f\"Xiii, deu ruim aqui (não deveria): {erro_capturado}\")\n",
        "\n",
        "print(\"-\" * 30) # Apenas para separar visualmente...\n",
        "\n",
        "# 2. Tentando criar uma sequência com letras inválidas\n",
        "try:\n",
        "    # A sequência \"ATGCXGATZ\" tem 'X' e 'Z', que não são DNA\n",
        "    dna_ruim = DNASequenceMelhorada(\"Gene_Com_Erro\", \"ATGCXGATZCGAT\")\n",
        "    print(f\"Eita, se chegou aqui, algo deu errado no nosso teste de erro!\") # Não deve chegar aqui\n",
        "except ValueError as erro_capturado:\n",
        "    # Como o __init__ da DNASequenceMelhorada vai levantar um ValueError\n",
        "    # A variável 'erro_capturado' guarda a mensagem de erro que definimos na classe\n",
        "    print(f\"Deu erro como esperado! Mensagem: '{erro_capturado}'\")"
      ],
      "id": "WBsrYbt-_aza"
    },
    {
      "cell_type": "markdown",
      "metadata": {
        "id": "tOgFxZYj_aza"
      },
      "source": [
        "---"
      ],
      "id": "tOgFxZYj_aza"
    },
    {
      "cell_type": "markdown",
      "metadata": {
        "id": "MR5ENUbM_aza"
      },
      "source": [
        "## **Aulas 16-25: Complexidade + Algoritmos de Alinhamento** (OK)\n",
        "\n",
        "### **Visão Geral**\n",
        "\n",
        "Esta é a seção central do curso, onde aplicamos nosso conhecimento de programação para resolver problemas fundamentais da bioinformática. Começamos entendendo *como medir* a eficiência de um algoritmo (Análise de Complexidade) e depois mergulhamos nos algoritmos clássicos de alinhamento de sequências, que são a base para comparar genes e proteínas.\n",
        "\n",
        "### **Aulas 16-21: Análise de Complexidade (Notação Big-O)**\n",
        "\n",
        "Não basta um algoritmo funcionar; ele precisa ser **eficiente**. A notação Big-O nos dá uma linguagem para descrever como o tempo de execução (ou uso de memória) de um algoritmo cresce à medida que o tamanho da entrada (`n`) aumenta. Em genômica, `n` pode ser o comprimento de uma sequência, que pode ter bilhões de bases.\n",
        "\n",
        "* $O(n)$ **- Tempo Linear:** A melhor forma de contar os códons em uma sequência de RNA é percorrê-la uma vez do início ao fim. Se a sequência dobrar de tamanho, o tempo também dobrará.\n",
        "\n",
        "* $O(n^2)$ **- Tempo Quadrático:** Uma forma ingênua de encontrar repetições em uma sequência seria comparar cada base com todas as outras bases. Se a sequência dobrar de tamanho, o tempo quadruplicará. Isso se torna inviável muito rapidamente.\n",
        "\n",
        "* **Programação Dinâmica:** Uma técnica poderosa, usada nos algoritmos abaixo, que frequentemente nos permite transformar problemas que parecem exponenciais em soluções polinomiais (como $O(n^2)$), tornando-os tratáveis.\n",
        "\n",
        "*SEMINÁRIOS (DISCUTIMOS ISSO BEM MAIS A FUNDO!) ;)*\n",
        "\n",
        "### **Aula 23 & 24: Alinhamento Global (Needleman-Wunsch)**\n",
        "\n",
        "**Objetivo:** Encontrar o melhor alinhamento possível entre **duas sequências inteiras**.\n",
        "\n",
        "**Aplicação Biológica:** Comparar dois genes ou proteínas de tamanho semelhante para avaliar sua relação evolutiva global.\n",
        "\n",
        "\n",
        "**Como Funciona:** Usa programação dinâmica para construir uma matriz. Cada célula $(i, j)$ da matriz armazena a pontuação do melhor alinhamento possível entre o início da sequência 1 até a posição $i$ e o início da sequência 2 até a posição $j$. A pontuação final na última célula da matriz nos dá a pontuação do melhor alinhamento global."
      ],
      "id": "MR5ENUbM_aza"
    },
    {
      "cell_type": "code",
      "execution_count": null,
      "metadata": {
        "id": "1fxU8M70_aza",
        "colab": {
          "base_uri": "https://localhost:8080/"
        },
        "outputId": "54531e19-4461-4208-9051-28676b088033"
      },
      "outputs": [
        {
          "output_type": "stream",
          "name": "stdout",
          "text": [
            "Exemplo de como o Alinhamento Global (Needleman-Wunsch) poderia parecer:\n",
            "Sequência 1: GATTACA\n",
            "Sequência 2: GCATGC\n",
            "Um alinhamento possível (entre muitos):\n",
            "G-ATTACA\n",
            "GCA-TGC-\n",
            "O algoritmo acha o 'melhor' alinhamento baseado em um sistema de pontuação.\n"
          ]
        }
      ],
      "source": [
        "# De forma básica o Needleman-Wunsch funciona assim...\n",
        "# Uma forma bem simplificada\n",
        "\n",
        "seq_dna1 = \"GATTACA\"\n",
        "seq_dna2 = \"GCATGC\" # Uma sequência um pouco diferente e menor\n",
        "\n",
        "# O Needleman-Wunsch tentaria alinhar assim, usando gaps ('-') pra maximizar a semelhança:\n",
        "# Alinhamento possível 1:\n",
        "# G-ATTACA\n",
        "# GCA-TGC-\n",
        "#\n",
        "# Alinhamento possível 2:\n",
        "# GATTACA\n",
        "# GCATGC-\n",
        "#\n",
        "# O algoritmo escolhe o que dá a maior \"pontuação\" (baseado em matches, mismatches e gaps).\n",
        "print(\"Exemplo de como o Alinhamento Global (Needleman-Wunsch) poderia parecer:\")\n",
        "print(f\"Sequência 1: {seq_dna1}\")\n",
        "print(f\"Sequência 2: {seq_dna2}\")\n",
        "print(\"Um alinhamento possível (entre muitos):\")\n",
        "print(\"G-ATTACA\")\n",
        "print(\"GCA-TGC-\")\n",
        "print(\"O algoritmo acha o 'melhor' alinhamento baseado em um sistema de pontuação.\")"
      ],
      "id": "1fxU8M70_aza"
    },
    {
      "cell_type": "markdown",
      "metadata": {
        "id": "fHThJ6Pm_aza"
      },
      "source": [
        "### **Aula 25: Alinhamento Local (Smith-Waterman)**\n",
        "\n",
        "**Objetivo:** Encontrar a região de maior similaridade entre duas sequências.\n",
        "\n",
        "\n",
        "**Aplicação Biológica:** É muito mais comum e útil. Serve para encontrar um domínio funcional conservado (ex: um sítio de ligação) dentro de duas proteínas longas e, no geral, diferentes.\n",
        "\n",
        "\n",
        "**Como Funciona:** Uma modificação inteligente do Needleman-Wunsch. As principais diferenças são:\n",
        "\n",
        "1. **Pontuações não podem ser negativas:** Se a pontuação de uma célula se tornaria negativa, ela é zerada. Isso permite que um novo alinhamento \"comece\" em qualquer lugar da matriz.\n",
        "\n",
        "2. **Rastreamento (ou Traceback) diferente:** O rastreamento não começa do canto inferior direito, mas sim da célula com a **maior pontuação em toda a matriz**, e termina quando atinge uma célula com pontuação zero."
      ],
      "id": "fHThJ6Pm_aza"
    },
    {
      "cell_type": "code",
      "execution_count": null,
      "metadata": {
        "id": "0WUo_u3Y_aza",
        "colab": {
          "base_uri": "https://localhost:8080/"
        },
        "outputId": "92243513-bb0d-42e3-a9a3-56a4eabe5aa0"
      },
      "outputs": [
        {
          "output_type": "stream",
          "name": "stdout",
          "text": [
            "\n",
            "Exemplo de como o Alinhamento Local (Smith-Waterman) encontraria a melhor parte:\n",
            "Sequência Longa 1 (pedaço): ...TCGATCATAGCTAGC...\n",
            "Sequência Longa 2 (pedaço): ...ZZZAGCTAGCTAGCT...\n",
            "Ele acharia algo como:\n",
            "  AGCTAGCTAGC\n",
            "  |||||||||||\n",
            "  AGCTAGCTAGC\n",
            "Focando só na região de maior similaridade.\n"
          ]
        }
      ],
      "source": [
        "# Uma simplificação do Smith-Waterman\n",
        "\n",
        "seq_proteina_longa1 = \"AGCTAGCTACGTAGCTACGATCGATCATAGCTAGCTAGCTAGCATCGA\" # DNA como exemplo\n",
        "seq_proteina_longa2 = \"XXXXXXYYYYYYZZZZZZAGCTAGCTAGCTAAAAABBBBBCCCCC\"   # DNA como exemplo\n",
        "\n",
        "# O Smith-Waterman iria focar só na porção que é igual ou muito parecido:\n",
        "#  AGCTAGCTAGC\n",
        "#  |||||||||||  (as barras mostram onde deu match entre os pb)\n",
        "#  AGCTAGCTAGC\n",
        "# E ignoraria o resto que é diferente (\"XXXXXX...\", \"AAAAA...\").\n",
        "print(\"\\nExemplo de como o Alinhamento Local (Smith-Waterman) encontraria a melhor parte:\")\n",
        "print(f\"Sequência Longa 1 (pedaço): ...{seq_proteina_longa1[20:35]}...\")\n",
        "print(f\"Sequência Longa 2 (pedaço): ...{seq_proteina_longa2[15:30]}...\")\n",
        "print(\"Ele acharia algo como:\")\n",
        "print(\"  AGCTAGCTAGC\")\n",
        "print(\"  |||||||||||\")\n",
        "print(\"  AGCTAGCTAGC\")\n",
        "print(\"Focando só na região de maior similaridade.\")"
      ],
      "id": "0WUo_u3Y_aza"
    },
    {
      "cell_type": "markdown",
      "metadata": {
        "id": "Mn2ExEQA_aza"
      },
      "source": [
        "### **Aula 26: Heurísticas (BLAST) e Alinhamento Múltiplo**\n",
        "\n",
        "**O Problema:** Alinhar dezenas ou centenas de sequências (Alinhamento Múltiplo de Sequências - MSA) ou pesquisar um genoma inteiro em um banco de dados de bilhões de bases (como o GenBank) com os algoritmos de programação dinâmica seria computacionalmente impossível (levaria anos ou séculos).\n",
        "\n",
        "**A Solução: Heurísticas.**\n",
        "Uma heurística é um \"atalho inteligente\". Ela troca a **garantia** de encontrar a melhor resposta possível por uma **velocidade drástica**.\n",
        "\n",
        "**BLAST (Basic Local Alignment Search Tool):** É a heurística mais famosa da bioinformática. Em vez de preencher uma matriz inteira, ele funciona de forma mais inteligente:\n",
        "\n",
        "1. **Quebra** a sua sequência de busca em pequenas \"palavras\".\n",
        "\n",
        "2. **Busca** por correspondências exatas dessas palavras no banco de dados (isso é muito rápido).\n",
        "\n",
        "3. **Estende** essas correspondências iniciais em ambas as direções para ver se elas estão dentro de uma região maior de alta similaridade.\n",
        "\n",
        "4. **Avalia** os alinhamentos encontrados e os classifica por significância estatística.\n",
        "\n",
        "O BLAST pode não encontrar o alinhamento matematicamente perfeito, mas ele encontra os alinhamentos biologicamente significativos em questão de segundos, não séculos."
      ],
      "id": "Mn2ExEQA_aza"
    }
  ],
  "metadata": {
    "kernelspec": {
      "display_name": "Python 3",
      "language": "python",
      "name": "python3"
    },
    "language_info": {
      "codemirror_mode": {
        "name": "ipython",
        "version": 3
      },
      "file_extension": ".py",
      "mimetype": "text/x-python",
      "name": "python",
      "nbconvert_exporter": "python",
      "pygments_lexer": "ipython3",
      "version": "3.x.x"
    },
    "colab": {
      "provenance": []
    }
  },
  "nbformat": 4,
  "nbformat_minor": 5
}