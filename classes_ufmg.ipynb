{
  "nbformat": 4,
  "nbformat_minor": 0,
  "metadata": {
    "colab": {
      "provenance": [],
      "toc_visible": true
    },
    "kernelspec": {
      "name": "python3",
      "display_name": "Python 3"
    },
    "language_info": {
      "name": "python"
    }
  },
  "cells": [
    {
      "cell_type": "markdown",
      "source": [
        "# Fundamentos de Python"
      ],
      "metadata": {
        "id": "-NLeJ1lR9BTF"
      }
    },
    {
      "cell_type": "markdown",
      "source": [
        "*Em* Python, assim como em outras linguagens de programação, os termos **sintaxe** e **semântica (ou lógica)** se referem a aspectos distintos de como o código é escrito e como ele é interpretado e executado. Vamos definir cada um deles:\n",
        "\n",
        "**Sintaxe em Python:**\n",
        "\n",
        "* **Definição:** A sintaxe de Python se refere ao conjunto de regras que governam a estrutura e a forma como os símbolos, palavras-chave e outros elementos são combinados para formar um programa válido. É como a gramática de uma linguagem natural. Se a sintaxe estiver incorreta, o interpretador Python não conseguirá entender o código e reportará um erro de sintaxe.\n",
        "\n",
        "* **Analogia:** Pense na sintaxe como as regras gramaticais da língua portuguesa. Uma frase precisa ter sujeito, verbo e complementos (dependendo do verbo) dispostos de uma maneira específica para ser considerada gramaticalmente correta. Se você escrever algo como \"gato come rato o\", a frase está sintaticamente incorreta.\n",
        "\n",
        "* **Exemplos de Regras de Sintaxe em Python:**\n",
        "    * **Indentação:** Blocos de código (como dentro de loops `for`, `while`, condicionais `if`, e definições de funções) são definidos por indentação (geralmente 4 espaços). A indentação inconsistente causa erros de sintaxe.\n",
        "\n",
        "    * **Dois pontos (`:`):** Muitas estruturas de controle (como `if`, `for`, `while`, `def`, `class`) terminam com dois pontos, indicando o início de um bloco de código indentado.\n",
        "\n",
        "    * **Uso correto de palavras-chave:** Palavras reservadas como `if`, `else`, `for`, `while`, `def`, `class`, `return`, etc., devem ser usadas em seus contextos apropriados.\n",
        "    * **Estrutura de expressões e comandos:** A forma como operadores, variáveis e valores são combinados em expressões e como os comandos são estruturados (atribuições, chamadas de função, etc.).\n",
        "    \n",
        "    * **Delimitação de strings:** Strings devem ser delimitadas por aspas simples (`'`) ou duplas (`\"`).\n",
        "\n",
        "**Semântica (ou Lógica) em Python:**\n",
        "\n",
        "* **Definição:** A semântica (ou lógica) de um programa Python se refere ao significado e ao comportamento do código quando ele é executado. Envolve a interpretação do que cada parte do código faz e como essas partes interagem para produzir um resultado. Um código pode estar sintaticamente correto, mas sua semântica (lógica) pode estar errada, fazendo com que ele não funcione da maneira esperada ou produza resultados incorretos.\n",
        "\n",
        "* **Analogia:** Voltando à língua portuguesa, a semântica seria o significado da frase. Uma frase pode estar gramaticalmente correta (\"O rato comeu o queijo\"), mas pode não corresponder à realidade (se não houver queijo). Da mesma forma, um código Python pode estar sintaticamente perfeito, mas sua lógica pode estar falha.\n",
        "\n",
        "* **Exemplos de Erros Semânticos (Lógicos) em Python:**\n",
        "    * **Usar a variável errada:**\n",
        "\n",
        "    * **Erro na lógica de um algoritmo:** Um código pode seguir todas as regras de sintaxe, mas o algoritmo implementado pode estar incorreto para resolver o problema desejado. Por exemplo, uma função para calcular a média pode somar os números corretamente, mas dividir pela quantidade errada.\n",
        "\n",
        "**Em resumo:**\n",
        "\n",
        "* **Sintaxe:** Diz respeito a *como* o código é escrito (a forma correta). Erros de sintaxe impedem que o programa seja executado.\n",
        "* **Semântica (Lógica):** Diz respeito a *o que* o código faz (o significado e o comportamento). Erros semânticos fazem com que o programa execute de forma inesperada ou produza resultados incorretos, mesmo que não haja erros de sintaxe.\n",
        "\n",
        "É crucial entender ambos os aspectos ao programar em Python (ou qualquer outra linguagem). Um bom programador escreve código que é tanto sintaticamente correto quanto logicamente válido para resolver o problema em questão. O interpretador Python primeiro verifica a sintaxe e, se estiver correta, então executa o código de acordo com sua semântica.    "
      ],
      "metadata": {
        "id": "oTT4ngBRssDL"
      }
    },
    {
      "cell_type": "markdown",
      "source": [
        "**Primeiro programa em Python:**"
      ],
      "metadata": {
        "id": "UObQAOIBZ2CX"
      }
    },
    {
      "cell_type": "code",
      "source": [
        "print(\"Olá\")"
      ],
      "metadata": {
        "colab": {
          "base_uri": "https://localhost:8080/"
        },
        "id": "jejD_ZDrZ4lK",
        "outputId": "c5781ddc-123a-47a6-e951-51108cd8b044"
      },
      "execution_count": null,
      "outputs": [
        {
          "output_type": "stream",
          "name": "stdout",
          "text": [
            "Olá\n"
          ]
        }
      ]
    },
    {
      "cell_type": "markdown",
      "source": [
        "O programa consiste em uma chamada a uma função (ainda estudaremos funções ao longo do curso). A função print é uma função nativa do Python que imprime o valor recebido como entrada, no caso, a cadeia de caracteres \"Olá\"."
      ],
      "metadata": {
        "id": "-QIb_b4gZ7fR"
      }
    },
    {
      "cell_type": "markdown",
      "source": [
        "**Variáveis - Definições e Tipos:**"
      ],
      "metadata": {
        "id": "LLKV2TbosKRX"
      }
    },
    {
      "cell_type": "markdown",
      "source": [
        "***Variáveis*** são **blocos de memória** em que **valores** de determinados **tipos** podem ser armazenados e que recebem nomes.\n",
        "\n",
        "Os nomes de variáveis em Python seguem as seguintes regras básicas:\n",
        "Regras básicas:\n",
        "\n",
        "- Nomes de variáveis podem conter letras (a-z, A-Z), números (0-9) e sublinhados (_).\n",
        "- Não são permitidos outros caracteres especiais, como !, @, #, $, %, etc.\n",
        "- O nome de uma variável deve começar com uma letra ou um sublinhado (_).\n",
        "- Não pode começar com um número.\n",
        "\n",
        "Não é adequado usar palavras reservadas da linguagem Python como nomes de variáveis. Palavras reservadas são palavras que têm um significado especial em Python, como \"if\", \"else\", \"for\", \"while\", \"def\", \"class\", etc.\n",
        "\n",
        "Python diferencia maiúsculas e minúsculas. Portanto, \"variavel\", \"Variavel\" e \"VARIAVEL\" são consideradas variáveis diferentes.\n",
        "\n",
        "Em relação aos **tipos de variáveis** **simples** em Python, temos:\n",
        "- Numéricas: como int, float e complex\n",
        "- Cadeias de carateres: str\n",
        "- Valores lógicos: bool\n",
        "\n",
        "Há também as variáveis **compostas** que estudaremos em breve. Estas podem ser homogêneas ou heterogêneas. Em Python, não há como garantir que uma variável composto seja homogênea.\n",
        "\n",
        "Seguem alguns exemplos de variáveis simples de diversos tipos em Python:"
      ],
      "metadata": {
        "id": "8-wSzBEfW4Ju"
      }
    },
    {
      "cell_type": "code",
      "source": [
        "numero_aminoacidos = 250\n",
        "print(type(numero_aminoacidos))\n",
        "\n",
        "taxa_mutacao = 0.1\n",
        "print(type(taxa_mutacao))\n",
        "\n",
        "eProteina = False\n",
        "print(type(eProteina))\n",
        "\n",
        "sequencia_dna = \"ATGCGACTAGCTAGCTAGCATG\"\n",
        "print(type(sequencia_dna))"
      ],
      "metadata": {
        "colab": {
          "base_uri": "https://localhost:8080/"
        },
        "id": "5abU-EEM8YNU",
        "outputId": "d0f2908b-59d1-4440-f303-ad0e6a761fc8"
      },
      "execution_count": null,
      "outputs": [
        {
          "output_type": "stream",
          "name": "stdout",
          "text": [
            "<class 'int'>\n",
            "<class 'float'>\n",
            "<class 'bool'>\n",
            "<class 'str'>\n"
          ]
        }
      ]
    },
    {
      "cell_type": "code",
      "source": [
        "# Cuidado com a declaração de variáveis com nomes de palavras reservadas.\n",
        "# Isto certamente trará efeitos indesejados de difícil correção, especialmente\n",
        "# no Colab\n",
        "\n",
        "print = 1\n",
        "#print(\"teste\")\n",
        "del print\n",
        "print(\"teste\")"
      ],
      "metadata": {
        "colab": {
          "base_uri": "https://localhost:8080/"
        },
        "id": "ZtwRokplgYyd",
        "outputId": "e88752ab-e8af-4bd9-de53-1e0caa1af88b"
      },
      "execution_count": null,
      "outputs": [
        {
          "output_type": "stream",
          "name": "stdout",
          "text": [
            "teste\n"
          ]
        }
      ]
    },
    {
      "cell_type": "markdown",
      "source": [
        "# Sequências"
      ],
      "metadata": {
        "id": "lV7Hr1sotqqQ"
      }
    },
    {
      "cell_type": "markdown",
      "source": [
        "Em Python, uma **sequência imutável** é um tipo de dado que representa uma coleção ordenada de itens, com a característica fundamental de que **não pode ser modificada após sua criação**. Isso significa que você não pode alterar os elementos existentes, adicionar novos elementos ou remover elementos de uma sequência imutável depois que ela é definida.\n",
        "\n",
        "**Características principais de sequências imutáveis em Python:**\n",
        "\n",
        "* **Ordenadas:** Os elementos dentro da sequência mantêm uma ordem específica, e essa ordem é preservada. Você pode acessar os elementos por meio de seus índices (posição).\n",
        "* **Não Modificáveis:** Uma vez criada, a estrutura e o conteúdo da sequência não podem ser alterados. Qualquer tentativa de modificar uma sequência imutável resultará em um erro.\n",
        "* **Acessíveis por índice:** Você pode acessar elementos individuais da sequência usando sua posição (índice), começando do índice 0 para o primeiro elemento.\n",
        "* **Suportam operações de sequência:** Assim como outras sequências (mutáveis), sequências imutáveis suportam operações como indexação, fatiamento (`slicing`), concatenação (`+`), repetição (`*`), e podem ser usadas com funções como `len()`, `count()`, e `index()`.\n",
        "\n",
        "**Tipos de sequências imutáveis em Python:**\n",
        "\n",
        "Os dois principais tipos de sequências imutáveis em Python são Strings e Tuplas.\n",
        "\n",
        "**Por que usar sequências imutáveis?**\n",
        "\n",
        "* **Segurança e Integridade de Dados:** A imutabilidade garante que os dados permaneçam inalterados ao longo do programa, evitando modificações acidentais.\n",
        "* **Eficiência:** Em alguns casos, sequências imutáveis podem ser mais eficientes em termos de uso de memória e desempenho em comparação com sequências mutáveis.\n",
        "* **Uso como Chaves em Dicionários:** Tuplas podem ser usadas como chaves em dicionários Python, pois as chaves de dicionários precisam ser imutáveis (hashable). Listas não podem ser usadas como chaves.\n",
        "* **Retorno Seguro de Funções:** Se uma função retorna uma sequência imutável, você tem a garantia de que essa sequência não será alterada por outras partes do código.\n",
        "\n",
        "Em resumo, são uma forma de armazenar coleções ordenadas de dados que não podem ser alterados após a criação, proporcionando segurança, integridade e, em certos cenários, benefícios de desempenho. Os principais exemplos são strings (`str`) e tuplas (`tuple`)."
      ],
      "metadata": {
        "id": "dyXlH6xRywUM"
      }
    },
    {
      "cell_type": "markdown",
      "source": [
        "**String (str):**\n",
        "  * **Definição:** Uma sequência imutável de caracteres.\n",
        "  * **Criação de Strings:**"
      ],
      "metadata": {
        "id": "G9e4XVWDuDoY"
      }
    },
    {
      "cell_type": "code",
      "source": [
        "# Usando aspas simples\n",
        "sequencia_dna = 'ATGCAGTAGC'\n",
        "sequencia_rna = 'AUGCAGUAGC'\n",
        "\n",
        "# Usando aspas duplas\n",
        "nome_gene = \"BRCA1\"\n",
        "proteina = \"MIOGLOBINA\"\n",
        "\n",
        "# Usando aspas triplas (para strings multi-linha)\n",
        "descricao = \"\"\"Esta é uma sequência\n",
        "de DNA importante para\n",
        "estudos de câncer.\"\"\"\n",
        "\n",
        "print(sequencia_dna)\n",
        "print(nome_gene)\n",
        "print(descricao)"
      ],
      "metadata": {
        "colab": {
          "base_uri": "https://localhost:8080/"
        },
        "id": "GnnAbBe6uIje",
        "outputId": "d0761291-59dd-420d-a8d9-962c86b8fc29"
      },
      "execution_count": null,
      "outputs": [
        {
          "output_type": "stream",
          "name": "stdout",
          "text": [
            "ATGCAGTAGC\n",
            "BRCA1\n",
            "Esta é uma sequência\n",
            "de DNA importante para\n",
            "estudos de câncer.\n"
          ]
        }
      ]
    },
    {
      "cell_type": "markdown",
      "source": [
        "* Funcionalmente, aspas simples e duplas são quase idênticas para definir strings em Python.\n",
        "* A principal diferença prática reside na facilidade de incluir um tipo de aspa dentro de uma string delimitada pelo outro tipo, sem a necessidade de usar o caractere de escape (`\\`).\n",
        "* A escolha entre elas é geralmente uma questão de preferência pessoal ou convenção de estilo do projeto."
      ],
      "metadata": {
        "id": "qsaeZ83kzrgn"
      }
    },
    {
      "cell_type": "code",
      "source": [
        "citacao = 'Ele disse: \"Olá!\"'\n",
        "print(citacao)\n",
        "\n",
        "citacao = \"Ele disse: \\\"Olá!\\\"\"\n",
        "print(citacao)\n",
        "\n",
        "citacao = \"Ele disse: 'Olá!'\"\n",
        "print(citacao)"
      ],
      "metadata": {
        "colab": {
          "base_uri": "https://localhost:8080/"
        },
        "id": "dh2yGJ3Rz806",
        "outputId": "eca561dd-e4db-41aa-db0c-77d74b5bcb48"
      },
      "execution_count": null,
      "outputs": [
        {
          "output_type": "stream",
          "name": "stdout",
          "text": [
            "Ele disse: \"Olá!\"\n",
            "Ele disse: \"Olá!\"\n",
            "Ele disse: 'Olá!'\n"
          ]
        }
      ]
    },
    {
      "cell_type": "markdown",
      "source": [
        "**Operações Básicas com Strings:**\n",
        "        \n",
        "- **Indexação:** Acessando caracteres individuais (lembrar que a indexação começa em 0)."
      ],
      "metadata": {
        "id": "HqdNwadEuXrl"
      }
    },
    {
      "cell_type": "code",
      "source": [
        "dna = 'ACGT'\n",
        "print(dna[0])  # Saída: A\n",
        "print(dna[2])  # Saída: G\n",
        "\n",
        "# Tentar acessar um índice fora do alcance gera um erro!"
      ],
      "metadata": {
        "colab": {
          "base_uri": "https://localhost:8080/"
        },
        "id": "r-9OvvZbuhrh",
        "outputId": "3b598d2c-03a7-428b-a55a-f876af3517f5"
      },
      "execution_count": null,
      "outputs": [
        {
          "output_type": "stream",
          "name": "stdout",
          "text": [
            "A\n",
            "G\n"
          ]
        }
      ]
    },
    {
      "cell_type": "markdown",
      "source": [
        "- **Fatiamento:** Obtendo substrings."
      ],
      "metadata": {
        "id": "J_Al7YAiun08"
      }
    },
    {
      "cell_type": "code",
      "source": [
        "dna = 'ATGCAGTAGC'\n",
        "print(dna[0:3])   # Saída: ATG (do índice 0 até o 2)\n",
        "print(dna[3:])    # Saída: CAGTAGC (do índice 3 até o final)\n",
        "print(dna[:5])    # Saída: ATGCA (do início até o índice 4)\n",
        "print(dna[::2])   # Saída: AGATG (pegando de 2 em 2)\n",
        "print(dna[::-1])  # Saída: CGATGACGTA (reverte a string)"
      ],
      "metadata": {
        "colab": {
          "base_uri": "https://localhost:8080/"
        },
        "id": "diq2S77supjt",
        "outputId": "193c7a25-0adc-40c1-a56e-940d98e76163"
      },
      "execution_count": null,
      "outputs": [
        {
          "output_type": "stream",
          "name": "stdout",
          "text": [
            "ATG\n",
            "CAGTAGC\n",
            "ATGCA\n",
            "AGATG\n",
            "CGATGACGTA\n"
          ]
        }
      ]
    },
    {
      "cell_type": "markdown",
      "source": [
        "- **Concatenação:** Combinando strings."
      ],
      "metadata": {
        "id": "Llb9tiwQuy4M"
      }
    },
    {
      "cell_type": "code",
      "source": [
        "parte1 = 'ATG'\n",
        "parte2 = 'CGC'\n",
        "sequencia_completa = parte1 + parte2\n",
        "print(sequencia_completa) # Saída: ATGCGC"
      ],
      "metadata": {
        "colab": {
          "base_uri": "https://localhost:8080/"
        },
        "id": "2n2nEbwdu0fO",
        "outputId": "935d5c44-3239-4761-a12e-346df20f8675"
      },
      "execution_count": null,
      "outputs": [
        {
          "output_type": "stream",
          "name": "stdout",
          "text": [
            "ATGCGC\n"
          ]
        }
      ]
    },
    {
      "cell_type": "markdown",
      "source": [
        "- **Repetição:** Multiplicando strings."
      ],
      "metadata": {
        "id": "hOioiA_ru6Ro"
      }
    },
    {
      "cell_type": "code",
      "source": [
        "alanina = 'A'\n",
        "poli_A = alanina * 10\n",
        "print(poli_A) # Saída: AAAAAAAAAA\n",
        "\n",
        "print(len(poli_A))\n",
        "\n",
        "seq = \"ABCD\"\n",
        "seq = seq.replace('A', 'X')\n",
        "print(id(seq))\n",
        "\n",
        "print(seq)\n"
      ],
      "metadata": {
        "colab": {
          "base_uri": "https://localhost:8080/"
        },
        "id": "BZjMIs2yu7U1",
        "outputId": "659541e8-6a25-48df-be36-59610cff4699"
      },
      "execution_count": null,
      "outputs": [
        {
          "output_type": "stream",
          "name": "stdout",
          "text": [
            "AAAAAAAAAA\n",
            "10\n",
            "134613412216176\n",
            "134613412213616\n",
            "XBCD\n"
          ]
        }
      ]
    },
    {
      "cell_type": "markdown",
      "source": [
        "- **Funções e Métodos Úteis:**\n",
        "  * `len()`: Obtém o comprimento da string.\n",
        "  * `.count(substring)`: Conta ocorrências de uma substring.\n",
        "  * `.find(substring)`: Encontra a primeira ocorrência de uma substring (retorna o índice).\n",
        "  * `.replace(old, new)`: Substitui uma substring por outra.\n",
        "  * `.upper()`: Converte para maiúsculas.\n",
        "  * `.lower()`: Converte para minúsculas.\n",
        "\n",
        "- **Aplicação em Bioinformática:**\n",
        "  * Representação de sequências de DNA, RNA e Proteínas.\n",
        "  * Contagem de bases nitrogenadas ou aminoácidos.\n",
        "  * Localização de padrões (motivos) em sequências.\n",
        "  * Substituição de bases / aminoácidos (simulação de mutações simples)."
      ],
      "metadata": {
        "id": "RvQZsSrovVpv"
      }
    },
    {
      "cell_type": "markdown",
      "source": [
        "**Lista (list) - Sequências Mutáveis:**\n",
        "  * **Definição:** Uma sequência ordenada e *mutável* de itens (que podem ser de diferentes tipos).\n",
        "  * **Criação de Listas:**"
      ],
      "metadata": {
        "id": "2vszeeIhv2ZB"
      }
    },
    {
      "cell_type": "code",
      "source": [
        "nucleotideos = ['A', 'T', 'G', 'C']\n",
        "aminoacidos = ['Ala', 'Gly', 'Ser']\n",
        "misturada = [1, 'DNA', 3.14, True]\n",
        "lista_vazia = []\n",
        "\n",
        "print(nucleotideos)\n",
        "print(aminoacidos)\n",
        "print(misturada)\n",
        "print(lista_vazia)\n",
        "\n",
        "print(id(misturada[2]))\n",
        "misturada[2] = 3.14\n",
        "print(id(misturada[2]))\n",
        "print(misturada)\n"
      ],
      "metadata": {
        "colab": {
          "base_uri": "https://localhost:8080/"
        },
        "id": "LnMfY4g4v1wA",
        "outputId": "671d8335-782a-46d6-d4e1-e0b7b5fa711e"
      },
      "execution_count": null,
      "outputs": [
        {
          "output_type": "stream",
          "name": "stdout",
          "text": [
            "['A', 'T', 'G', 'C']\n",
            "['Ala', 'Gly', 'Ser']\n",
            "[1, 'DNA', 3.14, True]\n",
            "[]\n",
            "134613151559664\n",
            "134613151554832\n",
            "[1, 'DNA', 3.14, True]\n"
          ]
        }
      ]
    },
    {
      "cell_type": "markdown",
      "source": [
        "* **Operações Básicas com Listas:**\n",
        "  * **Indexação e Fatiamento:** Similar às strings."
      ],
      "metadata": {
        "id": "BefW2fYYwPuH"
      }
    },
    {
      "cell_type": "code",
      "source": [
        "nucleotideos = ['A', 'T', 'G', 'C']\n",
        "\n",
        "print(nucleotideos[1])   # Saída: T\n",
        "print(nucleotideos[1:3]) # Saída: ['T', 'G']"
      ],
      "metadata": {
        "colab": {
          "base_uri": "https://localhost:8080/"
        },
        "id": "IA8DrjKqwTvT",
        "outputId": "821e3edc-21dd-4318-d3f3-870b2a731c79"
      },
      "execution_count": null,
      "outputs": [
        {
          "output_type": "stream",
          "name": "stdout",
          "text": [
            "T\n",
            "['T', 'G']\n"
          ]
        }
      ]
    },
    {
      "cell_type": "markdown",
      "source": [
        "* **Mutabilidade:** Alterando elementos da lista."
      ],
      "metadata": {
        "id": "WfSwkMKAwbVa"
      }
    },
    {
      "cell_type": "code",
      "source": [
        "nucleotideos = ['A', 'T', 'G', 'C']\n",
        "nucleotideos[1] = 'U'  # Mudando T para U (RNA)\n",
        "\n",
        "print(nucleotideos)    # Saída: ['A', 'U', 'G', 'C']"
      ],
      "metadata": {
        "colab": {
          "base_uri": "https://localhost:8080/"
        },
        "id": "gVmk9F1OwcTH",
        "outputId": "6a4063fc-ae9e-4dae-b50d-f47cdfed66ab"
      },
      "execution_count": null,
      "outputs": [
        {
          "output_type": "stream",
          "name": "stdout",
          "text": [
            "['A', 'U', 'G', 'C']\n"
          ]
        }
      ]
    },
    {
      "cell_type": "markdown",
      "source": [
        "* **Adicionando Elementos:**\n",
        "  * `.append(item)`: Adiciona ao final da lista.\n",
        "  * `.insert(index, item)`: Insere em um índice específico.\n",
        "  * `.extend(outra_lista)`: Adiciona os elementos de outra lista ao final."
      ],
      "metadata": {
        "id": "YuQj-k9Iwj-Q"
      }
    },
    {
      "cell_type": "code",
      "source": [
        "aminoacidos = ['Ala', 'Gly', 'Ser']\n",
        "aminoacidos.append('Pro')\n",
        "\n",
        "print(aminoacidos) # Saída: ['Ala', 'Gly', 'Ser', 'Pro']\n",
        "\n",
        "aminoacidos.insert(0, 'Met')\n",
        "\n",
        "print(aminoacidos) # Saída: ['Met', 'Ala', 'Gly', 'Ser', 'Pro']\n",
        "\n",
        "mais_aminoacidos = ['Val', 'Leu']\n",
        "\n",
        "aminoacidos.extend(mais_aminoacidos)\n",
        "\n",
        "print(aminoacidos) # Saída: ['Met', 'Ala', 'Gly', 'Ser', 'Pro', 'Val', 'Leu']"
      ],
      "metadata": {
        "colab": {
          "base_uri": "https://localhost:8080/"
        },
        "id": "3aKCCRYQwota",
        "outputId": "3b613945-d644-4c85-e4d8-830960d9a43e"
      },
      "execution_count": null,
      "outputs": [
        {
          "output_type": "stream",
          "name": "stdout",
          "text": [
            "['Ala', 'Gly', 'Ser', 'Pro']\n",
            "['Met', 'Ala', 'Gly', 'Ser', 'Pro']\n",
            "['Met', 'Ala', 'Gly', 'Ser', 'Pro', 'Val', 'Leu']\n"
          ]
        }
      ]
    },
    {
      "cell_type": "markdown",
      "source": [
        "* **Removendo Elementos:**\n",
        "\n",
        "  * `.remove(item)`: Remove a primeira ocorrência de um valor.\n",
        "  * `.pop(index)`: Remove e retorna o elemento em um índice (o último se nenhum índice for especificado).\n",
        "  * `del lista[index]`: Remove o elemento em um índice (não retorna valor)."
      ],
      "metadata": {
        "id": "Xv2aXCH4wzFD"
      }
    },
    {
      "cell_type": "code",
      "source": [
        "nucleotideos = ['A', 'U', 'G', 'C', 'U']\n",
        "nucleotideos.remove('U') # Remove a primeira 'U'\n",
        "\n",
        "print(nucleotideos)      # Saída: ['A', 'G', 'C', 'U']\n",
        "\n",
        "nucleotideos_removido = nucleotideos.pop(2)\n",
        "\n",
        "print(nucleotideos)      # Saída: ['A', 'G', 'U']\n",
        "print(nucleotideos_removido) # Saída: C\n",
        "\n",
        "del nucleotideos[0]\n",
        "print(nucleotideos)      # Saída: ['G', 'U']\n",
        "\n",
        "print((id(nucletideos))))"
      ],
      "metadata": {
        "colab": {
          "base_uri": "https://localhost:8080/"
        },
        "id": "R4bbKp3Ow5Oj",
        "outputId": "c745687e-d4f0-44ec-d670-63aa5d9d6f40"
      },
      "execution_count": null,
      "outputs": [
        {
          "output_type": "stream",
          "name": "stdout",
          "text": [
            "['A', 'G', 'C', 'U']\n",
            "['A', 'G', 'U']\n",
            "C\n",
            "['G', 'U']\n"
          ]
        }
      ]
    },
    {
      "cell_type": "markdown",
      "source": [
        "* **Outras Funções Úteis:**\n",
        "  * `len()`: Comprimento da lista.\n",
        "  * `.count(item)`: Conta ocorrências de um item.\n",
        "  * `.index(item)`: Retorna o índice da primeira ocorrência de um item.\n",
        "  * `.sort()`: Ordena a lista (in-place).\n",
        "  * `sorted(lista)`: Retorna uma nova lista ordenada (sem modificar a original).\n",
        "\n",
        "* **Aplicação em Biologia Computacional:**\n",
        "  * Armazenamento de múltiplos resultados de análises.\n",
        "  * Manipulação de listas de genes ou proteínas.\n",
        "  * Implementação de algoritmos que envolvem ordenação (ex: alinhamento de sequências).\n",
        "  * Representação de caminhos metabólicos como listas de enzimas ou metabólitos.\n",
        "\n",
        "**Tupla (tuple) - Sequências Imutáveis:**\n",
        "  * **Definição:** Uma sequência ordenada e *imutável* de itens (similar à lista, mas não pode ser modificada após a criação).\n",
        "  * **Criação de Tuplas:**"
      ],
      "metadata": {
        "id": "mISXws1TxKWt"
      }
    },
    {
      "cell_type": "code",
      "source": [
        "coordenadas = (3, 4, 5)\n",
        "purinas = ('A', 'G')\n",
        "tupla_vazia = ()\n",
        "tupla_um_elemento = ('A',) # A vírgula é importante!\n",
        "print(type(tupla_um_elemento))\n",
        "\n",
        "print(coordenadas)\n",
        "print(purinas)\n",
        "print(tupla_vazia)\n",
        "print(tupla_um_elemento)"
      ],
      "metadata": {
        "colab": {
          "base_uri": "https://localhost:8080/"
        },
        "id": "rIC7t6d6xYHY",
        "outputId": "0fb23e5b-4123-4cb0-d28f-eba6cc919865"
      },
      "execution_count": null,
      "outputs": [
        {
          "output_type": "stream",
          "name": "stdout",
          "text": [
            "<class 'tuple'>\n",
            "(3, 4, 5)\n",
            "('A', 'G')\n",
            "()\n",
            "('A',)\n"
          ]
        }
      ]
    },
    {
      "cell_type": "markdown",
      "source": [
        "* **Operações Básicas com Tuplas:**\n",
        "  * **Indexação e Fatiamento:** Funcionam da mesma forma que em strings e listas."
      ],
      "metadata": {
        "id": "X04mrUJ9xgum"
      }
    },
    {
      "cell_type": "code",
      "source": [
        "coordenadas = (3, 4, 5)\n",
        "print(coordenadas[0]) # Saída: 10\n",
        "print(coordenadas[1:]) # Saída: (20,)"
      ],
      "metadata": {
        "colab": {
          "base_uri": "https://localhost:8080/"
        },
        "id": "GF0eP9KQxpvX",
        "outputId": "48aa60de-c927-43a5-a3e8-0832373ebb88"
      },
      "execution_count": null,
      "outputs": [
        {
          "output_type": "stream",
          "name": "stdout",
          "text": [
            "3\n",
            "(4, 5)\n"
          ]
        }
      ]
    },
    {
      "cell_type": "markdown",
      "source": [
        "* **Imutabilidade:** Tentar modificar um elemento de uma tupla gera um erro."
      ],
      "metadata": {
        "id": "NLhjL23Lxzrd"
      }
    },
    {
      "cell_type": "code",
      "source": [
        "#coordenadas[0] = 15 # Isso causará um TypeError!"
      ],
      "metadata": {
        "id": "JDjw6qfPx0fn",
        "colab": {
          "base_uri": "https://localhost:8080/",
          "height": 141
        },
        "outputId": "571bf1c1-072a-49ae-82c7-e56d2a7f8798"
      },
      "execution_count": null,
      "outputs": [
        {
          "output_type": "error",
          "ename": "TypeError",
          "evalue": "'tuple' object does not support item assignment",
          "traceback": [
            "\u001b[0;31m---------------------------------------------------------------------------\u001b[0m",
            "\u001b[0;31mTypeError\u001b[0m                                 Traceback (most recent call last)",
            "\u001b[0;32m<ipython-input-16-e33ffcfe9610>\u001b[0m in \u001b[0;36m<cell line: 0>\u001b[0;34m()\u001b[0m\n\u001b[0;32m----> 1\u001b[0;31m \u001b[0mcoordenadas\u001b[0m\u001b[0;34m[\u001b[0m\u001b[0;36m0\u001b[0m\u001b[0;34m]\u001b[0m \u001b[0;34m=\u001b[0m \u001b[0;36m15\u001b[0m \u001b[0;31m# Isso causará um TypeError!\u001b[0m\u001b[0;34m\u001b[0m\u001b[0;34m\u001b[0m\u001b[0m\n\u001b[0m",
            "\u001b[0;31mTypeError\u001b[0m: 'tuple' object does not support item assignment"
          ]
        }
      ]
    },
    {
      "cell_type": "markdown",
      "source": [
        "* **Concatenação e Repetição:** Funcionam como em strings."
      ],
      "metadata": {
        "id": "WM0icDsxx-ZA"
      }
    },
    {
      "cell_type": "code",
      "source": [
        "tupla1 = ('A', 'T')\n",
        "tupla2 = ('G', 'C')\n",
        "tupla_completa = tupla1 + tupla2\n",
        "print(tupla_completa) # Saída: ('A', 'T', 'G', 'C')\n",
        "repeticao = ('X',) * 3\n",
        "print(repeticao)      # Saída: ('X', 'X', 'X')"
      ],
      "metadata": {
        "colab": {
          "base_uri": "https://localhost:8080/"
        },
        "id": "x_6QGBJnyAH3",
        "outputId": "e14c7252-1ea7-4d5e-a5bd-6b29e984816d"
      },
      "execution_count": null,
      "outputs": [
        {
          "output_type": "stream",
          "name": "stdout",
          "text": [
            "('A', 'T', 'G', 'C')\n",
            "('X', 'X', 'X')\n"
          ]
        }
      ]
    },
    {
      "cell_type": "markdown",
      "source": [
        "* **Funções Úteis:**\n",
        "  * `len()`: Comprimento da tupla.\n",
        "  * `.count(item)`: Conta ocorrências de um item.\n",
        "  * `.index(item)`: Retorna o índice da primeira ocorrência de um item.\n",
        "\n",
        "* **Aplicações em Biologia Computacional:**\n",
        "  * Representação de dados que não devem ser alterados (ex: códons genéticos).\n",
        "  * Chaves em dicionários (que veremos em aulas futuras).\n",
        "  * Retorno de múltiplos valores de funções."
      ],
      "metadata": {
        "id": "Uyh0jfy1yF3o"
      }
    },
    {
      "cell_type": "markdown",
      "source": [
        "**Cenário:**\n",
        "\n",
        "Imagine que você está analisando um pequeno genoma representado como uma longa string. Você quer identificar todas as ocorrências de um conjunto de motivos de DNA (sequências curtas de DNA que podem ter significado biológico, como sítios de ligação de proteínas).\n",
        "\n",
        "**Que tipo de sequências você usaria para representar?**\n",
        "  * A sequência de DNA?\n",
        "  * Os motivos a serem procurados?\n",
        "  * As ocorrências encontradas?"
      ],
      "metadata": {
        "id": "M0lNEIyH2b0d"
      }
    },
    {
      "cell_type": "code",
      "source": [
        "# Representando um pequeno genoma como uma string\n",
        "genoma = \"ATTAGGCAGTAGCGGTAGAAAACGTGCAGGTATATG\"\n",
        "\n",
        "# Definindo uma tupla de motivos de DNA que estamos procurando\n",
        "motivos = ('AGCG', 'AAAA', 'GGTA')\n",
        "\n",
        "# Ainda não aprendemos as estruturas de controle abaixo\n",
        "# Não se preocupem com seus detalhes\n",
        "def encontrar_motivos_tuplas(dna, motivos):\n",
        "  ocorrencias = [] # Definindo uma lista de ocorrências de motivos\n",
        "  for i in range(len(dna)):  # Itera até o ponto onde ainda há espaço para um motivo de 4 bases\n",
        "    sequencia = dna[i:i+4] # Extrai uma subsequência de 4 bases\n",
        "    if sequencia in motivos:\n",
        "      ocorrencias.append((sequencia, i)) # Armazena o motivo (como tupla) e sua posição\n",
        "  return ocorrencias\n",
        "\n",
        "ocorrencias = encontrar_motivos_tuplas(genoma, motivos)\n",
        "print(f\"Ocorrências dos motivos: {ocorrencias}\")"
      ],
      "metadata": {
        "colab": {
          "base_uri": "https://localhost:8080/"
        },
        "id": "JmqzIWbq28Eg",
        "outputId": "ef942fd0-61bc-4452-aa65-bcc3d9d4a2a7"
      },
      "execution_count": null,
      "outputs": [
        {
          "output_type": "stream",
          "name": "stdout",
          "text": [
            "Ocorrências dos motivos: [('AGCG', 10), ('GGTA', 13), ('AAAA', 18), ('GGTA', 28)]\n"
          ]
        }
      ]
    },
    {
      "cell_type": "markdown",
      "source": [
        "**Usando Tuplas para Representar Motivos de DNA:**\n",
        "\n",
        "* **Natureza Fixa dos Motivos:** Um motivo de DNA específico (por exemplo, \"ATCG\") é uma sequência constante. Uma vez definido, sua composição não muda. Representá-los como tuplas reflete essa natureza **imutável**.\n",
        "\n",
        "* **Busca Eficiente:** Podemos armazenar os motivos que estamos procurando em uma tupla. A iteração sobre uma tupla para comparar com substrings do genoma é eficiente e clara.\n",
        "\n",
        "**Usando Listas para Representar Ocorrências Mutáveis:**\n",
        "\n",
        "* **Flexibilidade para Anotações:** Se, em etapas posteriores da análise, você precisar anotar as ocorrências dos motivos no genoma (por exemplo, marcando suas posições ou adicionando informações contextuais), representar essas anotações como uma lista de informações mutáveis (como a posição inicial e final) pode ser útil.\n",
        "\n",
        "* **Construção Dinâmica de Resultados:** A lista `ocorrencias` no exemplo abaixo é construída dinamicamente à medida que os motivos são encontrados.\n",
        "\n",
        "**A Diferença:**\n",
        "\n",
        "1.  **Modelagem Natural:** Os motivos de DNA, sendo sequências fixas para a busca, são naturalmente representados como tuplas imutáveis. O genoma, embora grande, é uma sequência de caracteres (string). As ocorrências, que podem precisar ser anotadas ou modificadas em etapas futuras, são representadas como listas mutáveis.\n",
        "\n",
        "2.  **Clareza de Intenção:** O uso de tuplas para os motivos comunica que essas sequências são tratadas como constantes durante a busca. O uso de listas para as ocorrências sugere que essas informações podem ser estendidas ou modificadas.\n",
        "\n",
        "3.  **Eficiência e Segurança:** A comparação de tuplas dentro de um loop pode ser ligeiramente mais eficiente em alguns casos. A imutabilidade das tuplas para os motivos evita alterações acidentais.\n",
        "\n",
        "4.  **Flexibilidade para Evolução da Análise:** Se, posteriormente, você precisar armazenar mais informações sobre cada ocorrência (por exemplo, a fita do DNA, a probabilidade de ser um sítio real), a lista de ocorrências pode ser facilmente estendida para acomodar esses novos dados (mantendo a estrutura como uma lista de listas).\n",
        "\n",
        "Este exemplo demonstra como a escolha entre strings (para a sequência principal), tuplas (para representar elementos fixos a serem buscados) e listas (para armazenar e potencialmente modificar os resultados da busca) deve ser feita. Ele destaca a semântica da imutabilidade e da mutabilidade em relação à natureza dos dados que estão sendo representados e manipulados."
      ],
      "metadata": {
        "id": "XxspNnMZ207A"
      }
    },
    {
      "cell_type": "markdown",
      "source": [
        "**Prática e Exercícios:**\n",
        "  * **Exercício 1 (Strings):** Dada a sequência de DNA `\"ATGCGTAGCTAG\"`, escreva um código para:\n",
        "    * Imprimir o primeiro e o último nucleotídeo.\n",
        "    * Imprimir a subsequência do 3º ao 7º nucleotídeo (inclusive).\n",
        "    * Contar quantas vezes a base 'G' aparece.\n",
        "    * Substituir todas as ocorrências de 'T' por 'U'.\n",
        "  * **Exercício 2 (Listas):** Dada uma lista de nomes de proteínas `[\"Hemoglobina\", \"Insulina\", \"Colágeno\"]`, escreva um código para:\n",
        "    * Adicionar a proteína \"Miosina\" ao final da lista.\n",
        "    * Inserir a proteína \"Albumina\" no início da lista.\n",
        "    * Remover a proteína \"Insulina\".\n",
        "    * Imprimir o número total de proteínas na lista final.\n",
        "  * **Exercício 3 (Tuplas):** Crie uma tupla representando os códons de início comuns `(\"AUG\", \"GUG\")`. Verifique se o códon \"UAG\" está presente nesta tupla."
      ],
      "metadata": {
        "id": "hHGmi-77yPSx"
      }
    },
    {
      "cell_type": "code",
      "source": [
        "# Solução do Exercício 1\n",
        "\n",
        "# Solução do Exercício 2\n",
        "\n",
        "# Solução do Exercício 3"
      ],
      "metadata": {
        "id": "ido531Y6Phwb"
      },
      "execution_count": null,
      "outputs": []
    },
    {
      "cell_type": "markdown",
      "source": [
        "**Conjuntos (sets)**.\n",
        "\n",
        "Imagine que você está analisando um conjunto de genes que foram identificados em diferentes experimentos de sequenciamento de RNA. Às vezes, você vai querer saber quais genes apareceram em todos os experimentos, quais são exclusivos de um experimento ou a combinação de genes encontrados em diferentes condições. Conjuntos de Python são úteis neste contexto.\n",
        "\n",
        "**Definição e Propriedades:**\n",
        "\n",
        "Em Python, um **conjunto** é uma coleção não ordenada de itens **únicos**. Isso significa que:\n",
        "\n",
        "* **Não ordenado:** A ordem dos elementos em um conjunto não é garantida e pode mudar. Você não pode acessar os elementos de um conjunto por um índice como faria em uma lista.\n",
        "* **Único:** Um conjunto não pode conter elementos duplicados. Se você tentar adicionar um elemento que já existe, ele será ignorado.\n",
        "\n",
        "Pense em um conjunto como uma sacola onde você coloca itens, e a ordem em que eles estão dentro da sacola não importa, e se você tentar colocar o mesmo item duas vezes, só um deles ficará lá dentro.\n",
        "\n",
        "**Exemplo de código em Python:**"
      ],
      "metadata": {
        "id": "w4_zzCfRPnUx"
      }
    },
    {
      "cell_type": "code",
      "source": [
        "# Genes identificados em dois experimentos\n",
        "experimento1_genes = {\"TP53\", \"BRCA1\", \"EGFR\", \"ALK\"}\n",
        "experimento2_genes = {\"BRCA1\", \"EGFR\", \"PIK3CA\", \"MET\"}\n",
        "\n",
        "print(f\"Genes no experimento 1: {experimento1_genes}\")\n",
        "print(f\"Genes no experimento 2: {experimento2_genes}\")\n",
        "\n",
        "lista = [1, 2, 3, 4, 5, 2, 4, 6]\n",
        "conjunto = set(lista)\n",
        "print(lista)\n",
        "print(conjunto)"
      ],
      "metadata": {
        "colab": {
          "base_uri": "https://localhost:8080/"
        },
        "id": "qfEti8OnRDRg",
        "outputId": "19455c89-3e0b-4a56-b0be-246b25fc4cba"
      },
      "execution_count": null,
      "outputs": [
        {
          "output_type": "stream",
          "name": "stdout",
          "text": [
            "Genes no experimento 1: {'ALK', 'BRCA1', 'TP53', 'EGFR'}\n",
            "Genes no experimento 2: {'PIK3CA', 'BRCA1', 'MET', 'EGFR'}\n",
            "[1, 2, 3, 4, 5, 2, 4, 6]\n",
            "{1, 2, 3, 4, 5, 6}\n"
          ]
        }
      ]
    },
    {
      "cell_type": "markdown",
      "source": [
        "Neste exemplo, `experimento1_genes` e `experimento2_genes` são conjuntos contendo os nomes dos genes identificados em cada experimento. Note que as chaves `{}` são usadas para definir conjuntos, assim como nos dicionários, mas sem a estrutura de chave-valor.\n",
        "\n",
        "**Operações Básicas com Conjuntos:**\n",
        "\n",
        "Assim como podemos realizar operações matemáticas com números, também podemos realizar operações lógicas com conjuntos. As principais são:\n",
        "\n",
        "* **União (`union()` ou `|`)**: Retorna um novo conjunto contendo todos os elementos de ambos os conjuntos. Pense em juntar o conteúdo de duas sacolas em uma nova, sem duplicar os itens. Pode ser útil para encontrar o conjunto total de genes que foram relevantes em diferentes estudos sobre uma doença, por exemplo.\n"
      ],
      "metadata": {
        "id": "Y-ljPNBQRFZt"
      }
    },
    {
      "cell_type": "code",
      "source": [
        "# Genes encontrados em ambos os experimentos\n",
        "todos_os_genes = experimento1_genes.union(experimento2_genes)\n",
        "# Ou, de forma mais concisa:\n",
        "# todos_os_genes = experimento1_genes | experimento2_genes\n",
        "print(f\"Todos os genes identificados: {todos_os_genes}\")"
      ],
      "metadata": {
        "colab": {
          "base_uri": "https://localhost:8080/"
        },
        "id": "TmoEL2puRcVU",
        "outputId": "b7a296d6-32aa-47e4-81bf-d422268aa23c"
      },
      "execution_count": null,
      "outputs": [
        {
          "output_type": "stream",
          "name": "stdout",
          "text": [
            "Todos os genes identificados: {'ALK', 'MET', 'TP53', 'PIK3CA', 'EGFR', 'BRCA1'}\n"
          ]
        }
      ]
    },
    {
      "cell_type": "markdown",
      "source": [
        "* **Interseção (`intersection()` ou `&`)**: Retorna um novo conjunto contendo apenas os elementos que estão presentes em ambos os conjuntos. Imagine encontrar os itens que estão presentes em ambas as sacolas ao mesmo tempo. Pode ser útil para identificar genes que são específicos de uma determinada condição ou tratamento."
      ],
      "metadata": {
        "id": "psXPcY5bRo0j"
      }
    },
    {
      "cell_type": "code",
      "source": [
        "# Genes encontrados em ambos os experimentos\n",
        "todos_os_genes = experimento1_genes.intersection(experimento2_genes)\n",
        "# Ou, de forma mais concisa:\n",
        "# todos_os_genes = experimento1_genes & experimento2_genes\n",
        "print(f\"Todos os genes identificados: {todos_os_genes}\")"
      ],
      "metadata": {
        "colab": {
          "base_uri": "https://localhost:8080/"
        },
        "outputId": "0a0b0fa1-e006-405e-8c2c-e916ceff276c",
        "id": "cuzSb6TnCZBN"
      },
      "execution_count": null,
      "outputs": [
        {
          "output_type": "stream",
          "name": "stdout",
          "text": [
            "Todos os genes identificados: {'BRCA1', 'EGFR'}\n"
          ]
        }
      ]
    },
    {
      "cell_type": "code",
      "source": [
        "# Genes exclusivos do experimento 1\n",
        "genes_exclusivos_experimento1 = experimento1_genes.difference(experimento2_genes)\n",
        "# Ou:\n",
        "genes_exclusivos_experimento1 = experimento1_genes - experimento2_genes\n",
        "print(f\"Genes exclusivos do experimento 1: {genes_exclusivos_experimento1}\")\n",
        "\n",
        "# Genes exclusivos do experimento 2\n",
        "genes_exclusivos_experimento2 = experimento2_genes.difference(experimento1_genes)\n",
        "# Ou:\n",
        "genes_exclusivos_experimento2 = experimento2_genes - experimento1_genes\n",
        "print(f\"Genes exclusivos do experimento 2: {genes_exclusivos_experimento2}\")"
      ],
      "metadata": {
        "colab": {
          "base_uri": "https://localhost:8080/"
        },
        "id": "N1hCvUlXRrfG",
        "outputId": "16fa1982-5ae6-4f61-f09a-1bada36b560d"
      },
      "execution_count": null,
      "outputs": [
        {
          "output_type": "stream",
          "name": "stdout",
          "text": [
            "Genes exclusivos do experimento 1: {'ALK', 'TP53'}\n",
            "Genes exclusivos do experimento 2: {'PIK3CA', 'MET'}\n"
          ]
        }
      ]
    },
    {
      "cell_type": "markdown",
      "source": [
        "* **Verificação de subconjunto e superconjunto (`issubset()`, `issuperset()`):** Permitem verificar se um conjunto está contido dentro de outro ou se contém todos os elementos de outro. Pode ser usado para verificar se um conjunto de **marcadores** genéticos está presente em um painel genético maior.\n",
        "\n"
      ],
      "metadata": {
        "id": "nC5DOi70R7UL"
      }
    },
    {
      "cell_type": "code",
      "source": [
        "# Definindo um conjunto menor de genes\n",
        "subset_genes = {\"BRCA1\", \"EGFR\"}\n",
        "if \"BRCA1\" in subset_genes:\n",
        "  subset_genes.remove(\"BRCA1\")\n",
        "\n",
        "# Verificando se subset_genes é um subconjunto de experimento1_genes\n",
        "eSubconjunto = subset_genes.issubset(experimento1_genes)\n",
        "print(f\"'{subset_genes}' é um subconjunto de '{experimento1_genes}'.\")\n",
        "\n",
        "# Verificando se experimento1_genes é um superconjunto de subset_genes\n",
        "eSuperconjunto = experimento1_genes.issuperset(subset_genes)\n",
        "print(f\"'{experimento1_genes}' é um superconjunto de '{subset_genes}'.\")"
      ],
      "metadata": {
        "colab": {
          "base_uri": "https://localhost:8080/"
        },
        "id": "tUzOMsE-R_NM",
        "outputId": "4b8cd920-37a8-4a95-f113-1afea7bb24d9"
      },
      "execution_count": null,
      "outputs": [
        {
          "output_type": "stream",
          "name": "stdout",
          "text": [
            "'{'EGFR'}' é um subconjunto de '{'ALK', 'BRCA1', 'TP53', 'EGFR'}'.\n",
            "'{'ALK', 'BRCA1', 'TP53', 'EGFR'}' é um superconjunto de '{'EGFR'}'.\n"
          ]
        }
      ]
    },
    {
      "cell_type": "markdown",
      "source": [
        "**Outros Métodos Úteis:**\n",
        "\n",
        "* `add(elemento)`: Adiciona um elemento ao conjunto.\n",
        "* `remove(elemento)`: Remove um elemento do conjunto. Se o elemento não existir, causa um erro.\n",
        "* `discard(elemento)`: Remove um elemento do conjunto se ele estiver presente. Não causa erro se o elemento não existir.\n",
        "* `pop()`: Remove e retorna um elemento arbitrário do conjunto. Como os conjuntos não são ordenados, não há garantia de qual elemento será removido.\n",
        "* `clear()`: Remove todos os elementos do conjunto, tornando-o vazio.\n",
        "\n",
        "**Exemplo com `add()` e `remove()`:**"
      ],
      "metadata": {
        "id": "YFd81KxJScyM"
      }
    },
    {
      "cell_type": "code",
      "source": [
        "# Criando um conjunto de proteínas de interesse\n",
        "proteinas_interesse = {\"TP53\", \"VEGF\"}\n",
        "print(f\"Conjunto inicial de proteínas: {proteinas_interesse}\")\n",
        "\n",
        "# Adicionando uma nova proteína\n",
        "proteinas_interesse.add(\"AKT1\")\n",
        "print(f\"Conjunto após adicionar AKT1: {proteinas_interesse}\")\n",
        "\n",
        "# Removendo uma proteína\n",
        "proteinas_interesse.remove(\"TP53\")\n",
        "print(f\"Conjunto após remover TP53: {proteinas_interesse}\")\n",
        "\n",
        "# Tentando remover uma proteína que não existe (causará um erro)\n",
        "# proteinas_interesse.remove(\"ERBB2\")\n",
        "\n",
        "# Usando discard para remover (sem erro se não existir)\n",
        "proteinas_interesse.discard(\"ERBB2\")\n",
        "print(f\"Conjunto após tentar remover ERBB2 com discard: {proteinas_interesse}\")"
      ],
      "metadata": {
        "colab": {
          "base_uri": "https://localhost:8080/"
        },
        "id": "h362ZBwOSfyO",
        "outputId": "7a49f6d8-7724-4629-e91a-a18e82b2dd8d"
      },
      "execution_count": null,
      "outputs": [
        {
          "output_type": "stream",
          "name": "stdout",
          "text": [
            "Conjunto inicial de proteínas: {'VEGF', 'TP53'}\n",
            "Conjunto após adicionar AKT1: {'AKT1', 'VEGF', 'TP53'}\n",
            "Conjunto após remover TP53: {'AKT1', 'VEGF'}\n",
            "Conjunto após tentar remover ERBB2 com discard: {'AKT1', 'VEGF'}\n"
          ]
        }
      ]
    },
    {
      "cell_type": "markdown",
      "source": [
        "**Dicionários (dict)**\n",
        "\n",
        "Imagine que você tem informações detalhadas sobre diferentes proteínas, como seus nomes, sequências de aminoácidos, funções e os genes que as codificam. Uma forma eficiente de organizar e acessar essas informações é usando um dicionário.\n",
        "\n",
        "**Definição e Estrutura:**\n",
        "\n",
        "Em Python, um **dicionário** é uma coleção de pares **chave-valor**. Cada chave em um dicionário é única e é usada para acessar o valor associado a ela. Pense em um dicionário como um catálogo onde você procura uma palavra (a chave) para encontrar sua definição (o valor).\n",
        "\n",
        "* **Chave (Key):** A chave é um **identificador único** para um valor. Geralmente, as chaves são strings (texto), números ou tuplas (uma sequência imutável de itens).\n",
        "* **Valor (Value):** O valor é a informação associada à chave. Os valores podem ser de qualquer tipo em Python: strings, números, listas, outros dicionários, etc.\n",
        "\n",
        "A estrutura de um dicionário em Python é definida por chaves `{}` contendo pares chave-valor separados por dois pontos `:` e os pares são separados por vírgulas `,`.\n",
        "\n",
        "**Exemplo de código em Python:**"
      ],
      "metadata": {
        "id": "kTiwP_jnT--z"
      }
    },
    {
      "cell_type": "code",
      "source": [
        "# Informações sobre uma proteína\n",
        "proteina_info = {\n",
        "  \"nome\": \"Insulina\",\n",
        "  \"sequencia\": \"MALWMRLLPLLALLALWGPDPAAAFVNQHLCGSHLVEALYLVCGERGFFYTPKTRREAEDLQVGQVELGGGPGAGSLQPLALEGSLQKRGIVEQCCTSICSLYQLENYCN\",\n",
        "  \"funcao\": \"Regulação do metabolismo da glicose\",\n",
        "  \"gene\": \"INS\"\n",
        "}\n",
        "\n",
        "print(proteina_info['localização'])\n",
        "\n",
        "print(f\"Informações da proteína: {proteina_info}\")\n",
        "print(f\"Nome da proteína: {proteina_info['nome']}\")\n",
        "print(f\"Sequência da proteína: {proteina_info['sequencia'][:20]}...\") # Imprimindo apenas os 20 primeiros aminoácidos"
      ],
      "metadata": {
        "colab": {
          "base_uri": "https://localhost:8080/",
          "height": 211
        },
        "id": "3hNnMfrOURDb",
        "outputId": "93cdb38f-9a25-4f49-d430-b59280de9efc"
      },
      "execution_count": null,
      "outputs": [
        {
          "output_type": "error",
          "ename": "KeyError",
          "evalue": "'localização'",
          "traceback": [
            "\u001b[0;31m---------------------------------------------------------------------------\u001b[0m",
            "\u001b[0;31mKeyError\u001b[0m                                  Traceback (most recent call last)",
            "\u001b[0;32m<ipython-input-30-200055b06d50>\u001b[0m in \u001b[0;36m<cell line: 0>\u001b[0;34m()\u001b[0m\n\u001b[1;32m      7\u001b[0m }\n\u001b[1;32m      8\u001b[0m \u001b[0;34m\u001b[0m\u001b[0m\n\u001b[0;32m----> 9\u001b[0;31m \u001b[0mprint\u001b[0m\u001b[0;34m(\u001b[0m\u001b[0mproteina_info\u001b[0m\u001b[0;34m[\u001b[0m\u001b[0;34m'localização'\u001b[0m\u001b[0;34m]\u001b[0m\u001b[0;34m)\u001b[0m\u001b[0;34m\u001b[0m\u001b[0;34m\u001b[0m\u001b[0m\n\u001b[0m\u001b[1;32m     10\u001b[0m \u001b[0;34m\u001b[0m\u001b[0m\n\u001b[1;32m     11\u001b[0m \u001b[0mprint\u001b[0m\u001b[0;34m(\u001b[0m\u001b[0;34mf\"Informações da proteína: {proteina_info}\"\u001b[0m\u001b[0;34m)\u001b[0m\u001b[0;34m\u001b[0m\u001b[0;34m\u001b[0m\u001b[0m\n",
            "\u001b[0;31mKeyError\u001b[0m: 'localização'"
          ]
        }
      ]
    },
    {
      "cell_type": "markdown",
      "source": [
        "Neste exemplo, `proteina_info` é um dicionário onde as chaves são \"nome\", \"sequencia\", \"funcao\" e \"gene\", e os valores correspondentes são as informações da proteína Insulina. Usamos colchetes `[]` com a chave para acessar o valor associado.\n",
        "\n",
        "Você consegue imaginar outras informações sobre uma proteína que poderíamos armazenar em um dicionário?\n",
        "\n",
        "***\n",
        "\n",
        "A seguir, vamos explorar os **principais métodos de dicionários** em Python e como eles podem ser aplicados em bioinformática.\n",
        "\n",
        "**Métodos Principais de Dicionários:**\n",
        "\n",
        "* **`keys()`**: Retorna uma visão (view object) que exibe uma lista de todas as chaves do dicionário. Podemos usar isso para obter rapidamente a lista de diferentes tipos de informações que temos sobre um conjunto de genes ou proteínas."
      ],
      "metadata": {
        "id": "JRdb85fXUkyP"
      }
    },
    {
      "cell_type": "code",
      "source": [
        "chaves = proteina_info.keys()\n",
        "print(f\"Chaves do dicionário: {chaves}\")\n",
        "# Podemos converter a visão para uma lista se precisarmos de uma lista\n",
        "# explícita:\n",
        "lista_de_chaves = list(chaves)\n",
        "print(f\"Lista de chaves: {lista_de_chaves}\")"
      ],
      "metadata": {
        "colab": {
          "base_uri": "https://localhost:8080/",
          "height": 211
        },
        "id": "zRpKNQkTUs_Q",
        "outputId": "fa4eff6a-2477-414d-ed8b-32e7c7d59bde"
      },
      "execution_count": null,
      "outputs": [
        {
          "output_type": "error",
          "ename": "NameError",
          "evalue": "name 'proteina_info' is not defined",
          "traceback": [
            "\u001b[0;31m---------------------------------------------------------------------------\u001b[0m",
            "\u001b[0;31mNameError\u001b[0m                                 Traceback (most recent call last)",
            "\u001b[0;32m<ipython-input-28-6b315aa9fb1f>\u001b[0m in \u001b[0;36m<cell line: 0>\u001b[0;34m()\u001b[0m\n\u001b[0;32m----> 1\u001b[0;31m \u001b[0mchaves\u001b[0m \u001b[0;34m=\u001b[0m \u001b[0mproteina_info\u001b[0m\u001b[0;34m.\u001b[0m\u001b[0mkeys\u001b[0m\u001b[0;34m(\u001b[0m\u001b[0;34m)\u001b[0m\u001b[0;34m\u001b[0m\u001b[0;34m\u001b[0m\u001b[0m\n\u001b[0m\u001b[1;32m      2\u001b[0m \u001b[0mprint\u001b[0m\u001b[0;34m(\u001b[0m\u001b[0;34mf\"Chaves do dicionário: {chaves}\"\u001b[0m\u001b[0;34m)\u001b[0m\u001b[0;34m\u001b[0m\u001b[0;34m\u001b[0m\u001b[0m\n\u001b[1;32m      3\u001b[0m \u001b[0;31m# Podemos converter a visão para uma lista se precisarmos de uma lista\u001b[0m\u001b[0;34m\u001b[0m\u001b[0;34m\u001b[0m\u001b[0m\n\u001b[1;32m      4\u001b[0m \u001b[0;31m# explícita:\u001b[0m\u001b[0;34m\u001b[0m\u001b[0;34m\u001b[0m\u001b[0m\n\u001b[1;32m      5\u001b[0m \u001b[0mlista_de_chaves\u001b[0m \u001b[0;34m=\u001b[0m \u001b[0mlist\u001b[0m\u001b[0;34m(\u001b[0m\u001b[0mchaves\u001b[0m\u001b[0;34m)\u001b[0m\u001b[0;34m\u001b[0m\u001b[0;34m\u001b[0m\u001b[0m\n",
            "\u001b[0;31mNameError\u001b[0m: name 'proteina_info' is not defined"
          ]
        }
      ]
    },
    {
      "cell_type": "markdown",
      "source": [
        "* **`values()`**: Retorna uma visão que exibe uma lista de todos os valores do dicionário. Pode ser útil para coletar todas as sequências de aminoácidos de um conjunto de proteínas armazenadas em um dicionário."
      ],
      "metadata": {
        "id": "tmZcLoTiVDsA"
      }
    },
    {
      "cell_type": "code",
      "source": [
        "valores = proteina_info.values()\n",
        "print(f\"Valores do dicionário: {valores}\")\n",
        "\n",
        "# Podemos converter a visão para uma lista:\n",
        "lista_de_valores = list(valores)\n",
        "print(f\"Lista de valores: {lista_de_valores}\")"
      ],
      "metadata": {
        "colab": {
          "base_uri": "https://localhost:8080/",
          "height": 211
        },
        "id": "-ETKKAt8VNYS",
        "outputId": "e05b213d-b645-4383-a017-b7ece6805e10"
      },
      "execution_count": null,
      "outputs": [
        {
          "output_type": "error",
          "ename": "NameError",
          "evalue": "name 'proteina_info' is not defined",
          "traceback": [
            "\u001b[0;31m---------------------------------------------------------------------------\u001b[0m",
            "\u001b[0;31mNameError\u001b[0m                                 Traceback (most recent call last)",
            "\u001b[0;32m<ipython-input-27-3dec7d1e21f5>\u001b[0m in \u001b[0;36m<cell line: 0>\u001b[0;34m()\u001b[0m\n\u001b[0;32m----> 1\u001b[0;31m \u001b[0mvalores\u001b[0m \u001b[0;34m=\u001b[0m \u001b[0mproteina_info\u001b[0m\u001b[0;34m.\u001b[0m\u001b[0mvalues\u001b[0m\u001b[0;34m(\u001b[0m\u001b[0;34m)\u001b[0m\u001b[0;34m\u001b[0m\u001b[0;34m\u001b[0m\u001b[0m\n\u001b[0m\u001b[1;32m      2\u001b[0m \u001b[0mprint\u001b[0m\u001b[0;34m(\u001b[0m\u001b[0;34mf\"Valores do dicionário: {valores}\"\u001b[0m\u001b[0;34m)\u001b[0m\u001b[0;34m\u001b[0m\u001b[0;34m\u001b[0m\u001b[0m\n\u001b[1;32m      3\u001b[0m \u001b[0;34m\u001b[0m\u001b[0m\n\u001b[1;32m      4\u001b[0m \u001b[0;31m# Podemos converter a visão para uma lista:\u001b[0m\u001b[0;34m\u001b[0m\u001b[0;34m\u001b[0m\u001b[0m\n\u001b[1;32m      5\u001b[0m \u001b[0mlista_de_valores\u001b[0m \u001b[0;34m=\u001b[0m \u001b[0mlist\u001b[0m\u001b[0;34m(\u001b[0m\u001b[0mvalores\u001b[0m\u001b[0;34m)\u001b[0m\u001b[0;34m\u001b[0m\u001b[0;34m\u001b[0m\u001b[0m\n",
            "\u001b[0;31mNameError\u001b[0m: name 'proteina_info' is not defined"
          ]
        }
      ]
    },
    {
      "cell_type": "markdown",
      "source": [
        "* **bold text** **`items()`**: Retorna uma visão que exibe uma lista de todos os pares chave-valor do dicionário (como tuplas). É muito útil para processar todos os dados associados a cada gene ou proteína de uma vez."
      ],
      "metadata": {
        "id": "tYz9ukjaVTms"
      }
    },
    {
      "cell_type": "code",
      "source": [
        "itens = proteina_info.items()\n",
        "\n",
        "print(itens)\n",
        "\n",
        "print(f\"Pares chave-valor do dicionário: {itens}\")\n",
        "\n",
        "# Podemos iterar sobre os itens: Ainda não estudamos estruturas de repetição,\n",
        "# então, voltaremos nisto a seguir.\n",
        "for chave, valor in proteina_info.items():\n",
        "  print(f\"{chave}: {valor[:20]}...\") # Imprimindo os primeiros 20 caracteres do valor"
      ],
      "metadata": {
        "colab": {
          "base_uri": "https://localhost:8080/",
          "height": 211
        },
        "id": "55xzvevCVfsT",
        "outputId": "61efebd5-bc63-4b06-8a14-b08dfad63067"
      },
      "execution_count": null,
      "outputs": [
        {
          "output_type": "error",
          "ename": "NameError",
          "evalue": "name 'proteina_info' is not defined",
          "traceback": [
            "\u001b[0;31m---------------------------------------------------------------------------\u001b[0m",
            "\u001b[0;31mNameError\u001b[0m                                 Traceback (most recent call last)",
            "\u001b[0;32m<ipython-input-26-9185815ed728>\u001b[0m in \u001b[0;36m<cell line: 0>\u001b[0;34m()\u001b[0m\n\u001b[0;32m----> 1\u001b[0;31m \u001b[0mitens\u001b[0m \u001b[0;34m=\u001b[0m \u001b[0mproteina_info\u001b[0m\u001b[0;34m.\u001b[0m\u001b[0mitems\u001b[0m\u001b[0;34m(\u001b[0m\u001b[0;34m)\u001b[0m\u001b[0;34m\u001b[0m\u001b[0;34m\u001b[0m\u001b[0m\n\u001b[0m\u001b[1;32m      2\u001b[0m \u001b[0;34m\u001b[0m\u001b[0m\n\u001b[1;32m      3\u001b[0m \u001b[0mprint\u001b[0m\u001b[0;34m(\u001b[0m\u001b[0mitens\u001b[0m\u001b[0;34m)\u001b[0m\u001b[0;34m\u001b[0m\u001b[0;34m\u001b[0m\u001b[0m\n\u001b[1;32m      4\u001b[0m \u001b[0;34m\u001b[0m\u001b[0m\n\u001b[1;32m      5\u001b[0m \u001b[0mprint\u001b[0m\u001b[0;34m(\u001b[0m\u001b[0;34mf\"Pares chave-valor do dicionário: {itens}\"\u001b[0m\u001b[0;34m)\u001b[0m\u001b[0;34m\u001b[0m\u001b[0;34m\u001b[0m\u001b[0m\n",
            "\u001b[0;31mNameError\u001b[0m: name 'proteina_info' is not defined"
          ]
        }
      ]
    },
    {
      "cell_type": "markdown",
      "source": [
        "* **`get(chave, valor_padrao)`**: Retorna o valor associado à chave. Se a chave não existir, retorna o `valor_padrao` especificado (se fornecido) ou `None`. Isso é mais seguro do que acessar diretamente com `[]`, pois não causa um erro se a chave não for encontrada. Útil para acessar informações que podem ou não estar presentes em diferentes entradas de um banco de dados biológicos."
      ],
      "metadata": {
        "id": "f_bBkMn6V3PS"
      }
    },
    {
      "cell_type": "code",
      "source": [
        "print(proteina_info)\n",
        "\n",
        "nome = proteina_info.get(\"nome\")\n",
        "print(f\"Nome da proteína: {nome}\")\n",
        "\n",
        "funcao = proteina_info.get(\"funcao\", \"Função desconhecida\")\n",
        "print(f\"Função da proteína: {funcao}\")\n",
        "\n",
        "# Tentando acessar uma chave que não existe com get\n",
        "localizacao = proteina_info.get(\"localizacao\")\n",
        "print(f\"Localização da proteína: {localizacao}\") # Retorna None\n",
        "\n",
        "localizacao_com_padrao = proteina_info.get(\"localizacao\", \"Não especificada\")\n",
        "print(f\"Localização da proteína: {localizacao_com_padrao}\")"
      ],
      "metadata": {
        "colab": {
          "base_uri": "https://localhost:8080/"
        },
        "id": "K-MkV8F4V_-f",
        "outputId": "6ae9fabf-0e4b-4230-bb7b-755f556279dc"
      },
      "execution_count": null,
      "outputs": [
        {
          "output_type": "stream",
          "name": "stdout",
          "text": [
            "{'nome': 'Insulina', 'sequencia': 'MALWMRLLPLLALLALWGPDPAAAFVNQHLCGSHLVEALYLVCGERGFFYTPKTRREAEDLQVGQVELGGGPGAGSLQPLALEGSLQKRGIVEQCCTSICSLYQLENYCN', 'funcao': 'Regulação do metabolismo da glicose', 'gene': 'INS'}\n",
            "Nome da proteína: Insulina\n",
            "Função da proteína: Regulação do metabolismo da glicose\n",
            "Localização da proteína: None\n",
            "Localização da proteína: Não especificada\n"
          ]
        }
      ]
    },
    {
      "cell_type": "markdown",
      "source": [
        "* **`update(outro_dicionario)`**: Atualiza o dicionário com os pares chave-valor de outro dicionário. Se uma chave já existir, seu valor é atualizado; caso contrário, um novo par chave-valor é adicionado. Podemos usar isso para combinar informações de diferentes fontes de dados sobre a mesma entidade biológica."
      ],
      "metadata": {
        "id": "9D39NkgmXGrg"
      }
    },
    {
      "cell_type": "code",
      "source": [
        "outras_info = {\"tamanho\": \"30 kDa\", \"organismo\": \"Homo sapiens\"}\n",
        "proteina_info.update(outras_info)\n",
        "print(f\"Dicionário atualizado: {proteina_info}\")"
      ],
      "metadata": {
        "colab": {
          "base_uri": "https://localhost:8080/"
        },
        "id": "q2GTWGcQXY-E",
        "outputId": "6ef2ac88-f196-47a1-8494-ee1f61e9241d"
      },
      "execution_count": null,
      "outputs": [
        {
          "output_type": "stream",
          "name": "stdout",
          "text": [
            "Dicionário atualizado: {'nome': 'Insulina', 'sequencia': 'MALWMRLLPLLALLALWGPDPAAAFVNQHLCGSHLVEALYLVCGERGFFYTPKTRREAEDLQVGQVELGGGPGAGSLQPLALEGSLQKRGIVEQCCTSICSLYQLENYCN', 'funcao': 'Regulação do metabolismo da glicose', 'gene': 'INS', 'tamanho': '30 kDa', 'organismo': 'Homo sapiens'}\n"
          ]
        }
      ]
    },
    {
      "cell_type": "markdown",
      "source": [
        "* **`pop(chave, valor_padrao)`**: Remove e retorna o valor associado à chave. Se a chave não for encontrada, retorna o `valor_padrao` especificado (se fornecido) ou levanta um erro `KeyError`. Útil para processar informações e remover aquelas que já foram utilizadas ou que não são mais necessárias."
      ],
      "metadata": {
        "id": "jvnIaY2VXmKZ"
      }
    },
    {
      "cell_type": "code",
      "source": [
        "gene_removido = proteina_info.pop(\"gene\")\n",
        "print(f\"Gene removido: {gene_removido}\")\n",
        "print(f\"Dicionário após pop: {proteina_info}\")\n",
        "\n",
        "# Tentando usar pop com uma chave que não existe sem valor padrão (causará erro)\n",
        "# proteina_info.pop(\"localizacao\")\n",
        "\n",
        "localizacao_removida = proteina_info.pop(\"localizacao\", \"Não encontrado\")\n",
        "print(f\"Localização removida (com padrão): {localizacao_removida}\")\n",
        "print(f\"Dicionário após pop com padrão: {proteina_info}\")"
      ],
      "metadata": {
        "colab": {
          "base_uri": "https://localhost:8080/"
        },
        "id": "pl4EW2sjXozX",
        "outputId": "f464767f-1a78-470a-d3d1-8896546444e5"
      },
      "execution_count": null,
      "outputs": [
        {
          "output_type": "stream",
          "name": "stdout",
          "text": [
            "Gene removido: INS\n",
            "Dicionário após pop: {'nome': 'Insulina', 'sequencia': 'MALWMRLLPLLALLALWGPDPAAAFVNQHLCGSHLVEALYLVCGERGFFYTPKTRREAEDLQVGQVELGGGPGAGSLQPLALEGSLQKRGIVEQCCTSICSLYQLENYCN', 'funcao': 'Regulação do metabolismo da glicose', 'tamanho': '30 kDa', 'organismo': 'Homo sapiens'}\n",
            "Localização removida (com padrão): Não encontrado\n",
            "Dicionário após pop com padrão: {'nome': 'Insulina', 'sequencia': 'MALWMRLLPLLALLALWGPDPAAAFVNQHLCGSHLVEALYLVCGERGFFYTPKTRREAEDLQVGQVELGGGPGAGSLQPLALEGSLQKRGIVEQCCTSICSLYQLENYCN', 'funcao': 'Regulação do metabolismo da glicose', 'tamanho': '30 kDa', 'organismo': 'Homo sapiens'}\n"
          ]
        }
      ]
    },
    {
      "cell_type": "markdown",
      "source": [
        "* **`popitem()`**: Remove e retorna um par (chave, valor) arbitrário do dicionário. É útil para remover itens um por um quando a ordem não importa. Em versões recentes do Python (3.7+), os itens são retornados na ordem em que foram inseridos (semelhante a um LIFO - Last In, First Out). Pode ser usado em cenários onde você precisa processar itens de um dicionário sequencialmente sem se preocupar com uma ordem específica."
      ],
      "metadata": {
        "id": "wOb1RpYVYC8-"
      }
    },
    {
      "cell_type": "code",
      "source": [
        "item_removido = proteina_info.popitem()\n",
        "print(f\"Item removido: {item_removido}\")\n",
        "print(f\"Dicionário após popitem: {proteina_info}\")"
      ],
      "metadata": {
        "colab": {
          "base_uri": "https://localhost:8080/"
        },
        "id": "dK0c6rwbYF05",
        "outputId": "d80e8256-b1a6-4327-d1a8-61b523ce3daa"
      },
      "execution_count": null,
      "outputs": [
        {
          "output_type": "stream",
          "name": "stdout",
          "text": [
            "Item removido: ('organismo', 'Homo sapiens')\n",
            "Dicionário após popitem: {'nome': 'Insulina', 'sequencia': 'MALWMRLLPLLALLALWGPDPAAAFVNQHLCGSHLVEALYLVCGERGFFYTPKTRREAEDLQVGQVELGGGPGAGSLQPLALEGSLQKRGIVEQCCTSICSLYQLENYCN', 'funcao': 'Regulação do metabolismo da glicose', 'tamanho': '30 kDa'}\n"
          ]
        }
      ]
    },
    {
      "cell_type": "markdown",
      "source": [
        "* **`clear()`**: Remove todos os itens do dicionário, tornando-o vazio. Útil para limpar estruturas de dados após o uso, liberando memória."
      ],
      "metadata": {
        "id": "7GG9eDLbYWSa"
      }
    },
    {
      "cell_type": "code",
      "source": [
        "proteina_info.clear()\n",
        "print(f\"Dicionário após clear: {proteina_info}\")"
      ],
      "metadata": {
        "colab": {
          "base_uri": "https://localhost:8080/"
        },
        "id": "KLWJkvECYZzm",
        "outputId": "f76ad7a9-c30f-46c7-f482-20fe57644897"
      },
      "execution_count": null,
      "outputs": [
        {
          "output_type": "stream",
          "name": "stdout",
          "text": [
            "Dicionário após clear: {}\n"
          ]
        }
      ]
    },
    {
      "cell_type": "markdown",
      "source": [
        "# Estruturas condicionais"
      ],
      "metadata": {
        "id": "8bDcQvJtPHjn"
      }
    },
    {
      "cell_type": "markdown",
      "source": [
        "1. Introdução às Estruturas Condicionais: Explicar o conceito de tomada de decisão em programação e a importância das estruturas condicionais.\n",
        "\n",
        "2. `if`, `else` e `elif` em Python: Detalhar a sintaxe e o funcionamento de cada uma dessas palavras-chave com exemplos simples.\n",
        "\n",
        "3. Aplicações em Bioinformática: Mostrar como as estruturas condicionais podem ser usadas para resolver problemas práticos em biologia computacional.\n"
      ],
      "metadata": {
        "id": "4E8x8QSJPaCk"
      }
    },
    {
      "cell_type": "markdown",
      "source": [
        "Imagine que você está analisando sequências de DNA. Muitas vezes, você precisa **verificar se** uma determinada sequência começa com um códon específico (como 'ATG', que geralmente indica o início de um gene). Se a sequência começar com 'ATG', você pode querer realizar uma ação (como iniciar a tradução para proteína). Caso contrário, você pode ignorar essa sequência.\n",
        "\n",
        "Em programação, as **estruturas condicionais** nos permitem fazer exatamente isso: executar diferentes blocos de código dependendo se uma determinada condição é verdadeira ou falsa. É como se o programa pudesse tomar decisões!\n",
        "\n",
        "Pense nisso como um \"`se`... `então`... `senão`...\" da vida real. Por exemplo:\n",
        "\n",
        "- Se estiver chovendo, então leve um guarda-chuva. Senão, não precisa.\n",
        "- Se a temperatura estiver alta, então beba mais água. Senão, continue se hidratando normalmente.\n",
        "\n",
        "Na programação, usamos estruturas condicionais para **controlar o fluxo do nosso programa**, permitindo que ele se adapte a diferentes situações e dados. Isso é crucial em bioinformática, onde lidamos com uma grande variedade de dados biológicos que precisam ser analisados de maneiras diferentes dependendo de suas características."
      ],
      "metadata": {
        "id": "5oBIXnBbPsOb"
      }
    },
    {
      "cell_type": "markdown",
      "source": [
        "**Exemplo: Decisões em Sequências Genéticas**\n",
        "\n",
        "Imagine que você está desenvolvendo um pequeno programa para analisar sequências genéticas. Para simplificar, vamos trabalhar com sequências de três letras (trincas de nucleotídeos). Algumas dessas trincas podem ser códons de parada, que sinalizam o fim de um gene. Vamos considerar que as trincas 'UAA', 'UAG' e 'UGA' são códons de parada.\n",
        "\n",
        "Eu vou te dar algumas trincas de nucleotídeos. Para cada uma, você deve me dizer qual ação o seu programa tomaria, usando a lógica condicional. A lógica seria:\n",
        "\n",
        "- Se a trinca for um códon de parada ('UAA', 'UAG' ou 'UGA'), então o programa deve imprimir \"Fim da tradução!\".\n",
        "- Senão, o programa deve imprimir \"A sequência continua...\".\n",
        "Pronto para começar?"
      ],
      "metadata": {
        "id": "hHC3qKlhQhR0"
      }
    },
    {
      "cell_type": "code",
      "source": [
        "stop_codons = {'UAA', 'UAG', 'UGA'}\n",
        "\n",
        "codon = 'UGA'\n",
        "\n",
        "if codon in stop_codons:\n",
        "    print(\"Fim da tradução!\")\n",
        "else:\n",
        "    print(\"A sequência continua...\")"
      ],
      "metadata": {
        "colab": {
          "base_uri": "https://localhost:8080/"
        },
        "id": "I4VZZCcvQ7I-",
        "outputId": "57f696ab-08f8-4eb8-c67e-f237e807376f"
      },
      "execution_count": null,
      "outputs": [
        {
          "output_type": "stream",
          "name": "stdout",
          "text": [
            "Fim da tradução!\n"
          ]
        }
      ]
    },
    {
      "cell_type": "markdown",
      "source": [
        "**Exercício 1: Verificação de Sítio de Restrição**\n",
        "\n",
        "Dada uma sequência de DNA, determine se ela contém o sítio de restrição 'GAATTC'.\n",
        "\n",
        "- Se contiver, imprima \"Sítio de restrição encontrado!\". - Caso contrário, imprima \"Sítio de restrição não encontrado.\"."
      ],
      "metadata": {
        "id": "bEnhaBB1RjQS"
      }
    },
    {
      "cell_type": "code",
      "source": [
        "sequencia_dna = \"AATTAGAGCCCGATGGGCACCGGTGC\"\n",
        "sito_restricao = \"TTGAC\"\n",
        "\n",
        "if sito_restricao in sequencia_dna:\n",
        "  print(\"Sítio de restrição encontrado!\")\n",
        "else:\n",
        "  print(\"Sítio de restrição não encontrado.\")"
      ],
      "metadata": {
        "colab": {
          "base_uri": "https://localhost:8080/"
        },
        "id": "pnbsDbYARwdu",
        "outputId": "e579d3cb-c747-4353-9491-bfe13192aee8"
      },
      "execution_count": null,
      "outputs": [
        {
          "output_type": "stream",
          "name": "stdout",
          "text": [
            "Sítio de restrição não encontrado.\n"
          ]
        }
      ]
    },
    {
      "cell_type": "markdown",
      "source": [
        "**Exercício 2: Verificação de Qualidade de Leitura de Sequenciamento**\n",
        "\n",
        "Dada uma pontuação de qualidade de uma leitura de sequenciamento (um valor numérico), determine se a leitura é de alta qualidade (pontuação >= 30), qualidade média (20 <= pontuação < 30) ou baixa qualidade (pontuação < 20)."
      ],
      "metadata": {
        "id": "Nkadss5JR0NY"
      }
    },
    {
      "cell_type": "code",
      "source": [
        "pontuacao_qualidade = 35\n",
        "\n",
        "if pontuacao_qualidade >= 30:\n",
        "  qualidade = \"alta\"\n",
        "#elif pontuacao_qualidade >=20 and pontuacao_qualidade < 30:\n",
        "#elif 20 <= pontuacao_qualidade < 30:\n",
        "elif pontuacao_qualidade >=20:\n",
        "  qualidade = \"média\"\n",
        "else:\n",
        "  qualidade = \"baixa\"\n",
        "\n",
        "print(f\"A qualidade da leitura é: {qualidade}\")"
      ],
      "metadata": {
        "colab": {
          "base_uri": "https://localhost:8080/"
        },
        "id": "I_F-oYqnR7Gi",
        "outputId": "23f6bde2-da41-4b93-8c66-4cbe525995eb"
      },
      "execution_count": null,
      "outputs": [
        {
          "output_type": "stream",
          "name": "stdout",
          "text": [
            "A qualidade da leitura é: alta\n"
          ]
        }
      ]
    },
    {
      "cell_type": "markdown",
      "source": [
        "**Exercício 3: Identificação de Domínios Proteicos com Sobreposição**\n",
        "\n",
        "Você tem informações sobre as posições de dois domínios proteicos em uma sequência de aminoácidos. Cada domínio é definido por um intervalo inicial e final (inclusive). Determine se esses dois domínios se sobrepõem.\n",
        "\n",
        "- Se houver sobreposição, imprima \"Os domínios se sobrepõem.\";\n",
        "- Caso contrário, imprima \"Os domínios não se sobrepõem.\"."
      ],
      "metadata": {
        "id": "WVH0XTKhSweU"
      }
    },
    {
      "cell_type": "code",
      "source": [
        "inicio1 = 10\n",
        "fim1 = 25\n",
        "inicio2 = 20\n",
        "fim2 = 30\n",
        "\n",
        "if inicio1 <= fim2 and inicio2 <= fim1:\n",
        "  print(\"Os domínios se sobrepõem.\")\n",
        "else:\n",
        "  print(\"Os domínios não se sobrepõem.\")"
      ],
      "metadata": {
        "colab": {
          "base_uri": "https://localhost:8080/"
        },
        "id": "qhtYST39S2IN",
        "outputId": "478a3c90-5df4-4ae4-d805-a4f83e11cb2b"
      },
      "execution_count": null,
      "outputs": [
        {
          "output_type": "stream",
          "name": "stdout",
          "text": [
            "Os domínios se sobrepõem.\n"
          ]
        }
      ]
    },
    {
      "cell_type": "markdown",
      "source": [
        "**Exercício 4: Análise de Variações Genéticas (SNPs)**\n",
        "\n",
        "Você tem um banco de dados simples de SNPs (*Single Nucleotide Polymorphisms*) em um determinado gene.\n",
        "\n",
        "Para cada SNP, você tem a posição e os alelos (a base original e a base variante).\n",
        "\n",
        "Dada uma posição e uma base de referência, determine se existe um SNP nessa posição e, se existir, qual é a base variante."
      ],
      "metadata": {
        "id": "hXuJsgwVS8JE"
      }
    },
    {
      "cell_type": "code",
      "source": [
        "snps = {\n",
        "  100: {'ref': 'G', 'alt': 'A'},\n",
        "  150: {'ref': 'C', 'alt': 'T'},\n",
        "  200: {'ref': 'A', 'alt': 'G'}\n",
        "}\n",
        "\n",
        "posicao_alvo = 150\n",
        "base_referencia = 'C'"
      ],
      "metadata": {
        "id": "C1ccwsvZTD-I"
      },
      "execution_count": null,
      "outputs": []
    },
    {
      "cell_type": "code",
      "source": [
        "if posicao_alvo in snps:\n",
        "  if snps[posicao_alvo]['ref'] == base_referencia:\n",
        "    base_variante = snps[posicao_alvo]['alt']\n",
        "    print(f\"Na posição {posicao_alvo}, existe um SNP com base variante '{base_variante}'.\")\n",
        "  else:\n",
        "    print(f\"Na posição {posicao_alvo}, existe um SNP, mas a base de referência esperada ('{base_referencia}') não corresponde à encontrada ('{snps[posicao_alvo]['ref']}').\")\n",
        "else:\n",
        "  print(f\"Não foi encontrado nenhum SNP na posição {posicao_alvo}.\")"
      ],
      "metadata": {
        "colab": {
          "base_uri": "https://localhost:8080/"
        },
        "id": "drxusIHTTJS6",
        "outputId": "7a29fae8-3aa5-48c8-d3e2-64aea5446ae5"
      },
      "execution_count": null,
      "outputs": [
        {
          "output_type": "stream",
          "name": "stdout",
          "text": [
            "Na posição 150, existe um SNP com base variante 'T'.\n"
          ]
        }
      ]
    },
    {
      "cell_type": "markdown",
      "source": [
        "**Exercício 5: Filtragem de Sequências com Base no Conteúdo de GC**\n",
        "\n",
        "Dada uma sequência de DNA, determine se o seu conteúdo de GC (a porcentagem de guanina 'G' e citosina 'C') está dentro de uma faixa aceitável (por exemplo, entre 40% e 60%, inclusive)."
      ],
      "metadata": {
        "id": "23ttzjHMT3sq"
      }
    },
    {
      "cell_type": "code",
      "source": [
        "sequencia_dna = \"AGGGATTAGGCACCACCGATTGTATTGAACAGTGAC\"\n",
        "\n",
        "gc = sequencia_dna.count('G') + sequencia_dna.count('C')\n",
        "conteudo_gc = (gc / len(sequencia_dna)) * 100\n",
        "\n",
        "limite_inferior = 40\n",
        "limite_superior = 60\n",
        "\n",
        "if limite_inferior <= conteudo_gc <= limite_superior:\n",
        "  print(f\"O conteúdo de GC ({conteudo_gc:.2f}%) está dentro da faixa aceitável.\")\n",
        "else:\n",
        "  print(f\"O conteúdo de GC ({conteudo_gc:.2f}%) está fora da faixa aceitável.\")"
      ],
      "metadata": {
        "colab": {
          "base_uri": "https://localhost:8080/"
        },
        "id": "ucoXOIx-T8ur",
        "outputId": "d59d6bf0-2e64-4a6a-d116-1f99d1040198"
      },
      "execution_count": null,
      "outputs": [
        {
          "output_type": "stream",
          "name": "stdout",
          "text": [
            "O conteúdo de GC (47.22%) está dentro da faixa aceitável.\n"
          ]
        }
      ]
    },
    {
      "cell_type": "markdown",
      "source": [
        "**Exercício 6: Identificação de Genes com Múltiplos Critérios**\n",
        "\n",
        "Você está analisando anotações de genes. Para ser considerado um \"gene candidato de alta prioridade\", ele deve satisfazer todas as seguintes condições:\n",
        "\n",
        "1. Seu comprimento deve ser maior que 1000 bases.\n",
        "2. Deve conter o motivo 'TATA' na região promotora (vamos simplificar e dizer que os primeiros 200 bases da sequência representam a região promotora).\n",
        "3. Não deve ter nenhuma anotação indicando \"pseudogene\".\n",
        "Dada a sequência do gene, seu comprimento e suas anotações, determine se ele é um \"gene candidato de alta prioridade\"."
      ],
      "metadata": {
        "id": "hW5Pw7aJU9S0"
      }
    },
    {
      "cell_type": "code",
      "source": [
        "sequencia_gene = \"ATGCGTAGCTAGCATCG\"\n",
        "comprimento_gene = len(sequencia_gene)\n",
        "regiao_promotora = sequencia_gene[:200]\n",
        "anotacoes = [\"proteina_estrutural\", \"fator_de_transcricao\"]\n",
        "#anotacoes = [\"proteina_estrutural\", \"fator_de_transcricao\", \"pseudogene\"]\n",
        "\n",
        "if comprimento_gene > 1000 and 'TATA' in regiao_promotora \\\n",
        "and 'pseudogene' not in anotacoes:\n",
        "  print(\"Este gene é um candidato de alta prioridade.\")\n",
        "else:\n",
        "  print(\"Este gene não atende a todos os critérios de alta prioridade.\")"
      ],
      "metadata": {
        "colab": {
          "base_uri": "https://localhost:8080/"
        },
        "id": "SPE4SUlnVF2M",
        "outputId": "c05fde16-fcc2-4b2b-81f6-6c2e66ae67cc"
      },
      "execution_count": null,
      "outputs": [
        {
          "output_type": "stream",
          "name": "stdout",
          "text": [
            "Este gene não atende a todos os critérios de alta prioridade.\n"
          ]
        }
      ]
    },
    {
      "cell_type": "markdown",
      "source": [
        "**Exercício 7: Filtragem de Proteínas por Tamanho e Presença de Domínio Específico**\n",
        "\n",
        "Você tem uma lista de proteínas e cada proteína é representada por:\n",
        "- seu nome,\n",
        "- comprimento (em aminoácidos)\n",
        "- uma lista de domínios funcionais identificados.\n",
        "\n",
        "Você quer filtrar as proteínas que atendam a um dos seguintes critérios:\n",
        "\n",
        "1. Seu comprimento é maior que 500 aminoácidos e contém o domínio 'Kinase'.\n",
        "2. Seu comprimento é menor que 200 aminoácidos ou contém o domínio 'Ligase'."
      ],
      "metadata": {
        "id": "FVKC6zRGVbwj"
      }
    },
    {
      "cell_type": "code",
      "source": [
        "proteina = {'nome': 'ProteinaA', 'comprimento': 600, 'dominios': ['Kinase', 'ATPase']}"
      ],
      "metadata": {
        "id": "8Yg37y-pVpVJ"
      },
      "execution_count": null,
      "outputs": []
    },
    {
      "cell_type": "code",
      "source": [
        "if (proteina['comprimento'] > 500 and 'Kinase' in proteina['dominios']) \\\n",
        "or (proteina['comprimento'] < 200 or 'Ligase' in proteina['dominios']):\n",
        "  print(f\"A proteína '{proteina['nome']}' passou no filtro.\")\n",
        "else:\n",
        "  print(f\"A proteína '{proteina['nome']}' não passou no filtro.\")"
      ],
      "metadata": {
        "colab": {
          "base_uri": "https://localhost:8080/"
        },
        "id": "WJ-h-lVJV9vk",
        "outputId": "90359735-31ff-4cd7-aa90-3377f6c12d3d"
      },
      "execution_count": null,
      "outputs": [
        {
          "output_type": "stream",
          "name": "stdout",
          "text": [
            "A proteína 'ProteinaA' passou no filtro.\n"
          ]
        }
      ]
    },
    {
      "cell_type": "code",
      "source": [
        "import math\n",
        "\n",
        "p1 = (1, 2, 3)\n",
        "p2 = (1, 2, 3)\n",
        "\n",
        "deltaX = p2[0] - p1[0]\n",
        "deltaY = p2[1] - p1[1]\n",
        "deltaZ = p2[2] - p1[2]\n",
        "\n",
        "distancia = math.sqrt(deltaX**2 + deltaY**2 + deltaZ**2)\n",
        "print(distancia)"
      ],
      "metadata": {
        "colab": {
          "base_uri": "https://localhost:8080/"
        },
        "id": "NK6mEmjjKx_8",
        "outputId": "eff03634-e73a-483d-867f-92813658588a"
      },
      "execution_count": null,
      "outputs": [
        {
          "output_type": "stream",
          "name": "stdout",
          "text": [
            "0.0\n"
          ]
        }
      ]
    },
    {
      "cell_type": "code",
      "source": [
        "#Gere um código python para cálculo da distância euclideana entre dois pontos p1 e p1\n"
      ],
      "metadata": {
        "id": "i97gPHZNLaMo"
      },
      "execution_count": null,
      "outputs": []
    },
    {
      "cell_type": "markdown",
      "source": [
        "**Exercício 9: Análise de Sequências de DNA em Busca de Padrões Aninhados**\n",
        "\n",
        "Dada uma sequência de DNA, você quer verificar se ela contém um padrão específico e outro nas proximidades.\n",
        "\n",
        "Especificamente, você quer saber se a sequência contém 'GATC' e, se contiver, verificar se existe a subsequência 'AT' até 3 nucletídeos para a esquerda ou direita."
      ],
      "metadata": {
        "id": "ZVj0sOlFWGBK"
      }
    },
    {
      "cell_type": "code",
      "source": [
        "#sequencia_dna = \"AGCTAGATCGATTCCGATC\"\n",
        "sequencia_dna = \"AGCTAGATCATTTCCGATC\"\n",
        "\n",
        "if 'GATC' in sequencia_dna:\n",
        "  indice_gatc = sequencia_dna.find('GATC')\n",
        "  print(indice_gatc)\n",
        "  # Vamos verificar uma pequena janela ao redor de 'GATC'\n",
        "  janela_analise = sequencia_dna[indice_gatc-3:indice_gatc+len('GATC')+3]\n",
        "  print(janela_analise)\n",
        "  #print(janela_analise)\n",
        "  if 'AT' in janela_analise:\n",
        "    print(\"A sequência contém 'GATC' e 'AT' está presente em sua proximidade.\")\n",
        "  else:\n",
        "    print(\"A sequência contém 'GATC', mas 'AT' não foi encontrado em sua proximidade.\")\n",
        "else:\n",
        "  print(\"A sequência não contém 'GATC'.\")"
      ],
      "metadata": {
        "colab": {
          "base_uri": "https://localhost:8080/"
        },
        "id": "D42SU3p-WKDs",
        "outputId": "24e1963b-02ab-45bd-c8a6-76848e58b5a3"
      },
      "execution_count": null,
      "outputs": [
        {
          "output_type": "stream",
          "name": "stdout",
          "text": [
            "5\n",
            "CTAGATCATT\n",
            "A sequência contém 'GATC' e 'AT' está presente em sua proximidade.\n"
          ]
        }
      ]
    },
    {
      "cell_type": "markdown",
      "source": [
        "**Exercício 10: Classificação de Vírus com Base em Tipo de Genoma e Envoltório**\n",
        "\n",
        "Você tem informações sobre diferentes tipos de vírus, incluindo o tipo de material genético ('DNA' ou 'RNA') e se eles possuem um envoltório lipídico ('sim' ou 'não'). Classifique os vírus nas seguintes categorias:\n",
        "\n",
        "1. Vírus de DNA envelopados.\n",
        "2. Vírus de RNA não envelopados.\n",
        "3. Outros vírus."
      ],
      "metadata": {
        "id": "7013XJt0Xitn"
      }
    },
    {
      "cell_type": "code",
      "source": [
        "tipo_genoma = 'DNA'\n",
        "envelopado = 'sim'\n",
        "\n",
        "#tipo_genoma = 'RNA'\n",
        "#envelopado = 'não'\n",
        "\n",
        "if tipo_genoma == 'DNA':\n",
        "  if envelopado == 'sim':\n",
        "    categoria = \"Vírus de DNA envelopados\"\n",
        "  else:\n",
        "    categoria = \"Outros vírus\" # Poderia ser uma categoria mais específica\n",
        "elif tipo_genoma == 'RNA':\n",
        "  if envelopado == 'não':\n",
        "    categoria = \"Vírus de RNA não envelopados\"\n",
        "  else:\n",
        "    categoria = \"Outros vírus\" # Poderia ser uma categoria mais específica\n",
        "else:\n",
        "  categoria = \"Tipo de genoma desconhecido\"\n",
        "\n",
        "print(f\"A categoria do vírus é: {categoria}\")"
      ],
      "metadata": {
        "colab": {
          "base_uri": "https://localhost:8080/"
        },
        "id": "4ukjqiUhXpZv",
        "outputId": "9111f430-ffab-4e8b-d92f-67b8abfc527d"
      },
      "execution_count": null,
      "outputs": [
        {
          "output_type": "stream",
          "name": "stdout",
          "text": [
            "A categoria do vírus é: Vírus de DNA envelopados\n"
          ]
        }
      ]
    },
    {
      "cell_type": "markdown",
      "source": [
        "**Exercício 11: Tomada de Decisão em um Pipeline de Análise de Sequenciamento de Nova Geração (NGS)**\n",
        "\n",
        "Em um pipeline de análise de NGS, após o alinhamento das leituras ao genoma de referência, você precisa decidir qual ferramenta de chamada de variantes (*variant calling*) usar com base na profundidade de cobertura média.\n",
        "\n",
        "- Se a profundidade média for maior ou igual a 30x, use a ferramenta 'GATK'.\n",
        "- Se a profundidade média estiver entre 15x e 29x (inclusive), use a ferramenta 'FreeBayes'.\n",
        "- Se a profundidade média for menor que 15x, imprima uma mensagem de alerta indicando baixa cobertura."
      ],
      "metadata": {
        "id": "24r90_6AX85l"
      }
    },
    {
      "cell_type": "code",
      "source": [
        "profundidade_media = 25\n",
        "\n",
        "if profundidade_media >= 30:\n",
        "    ferramenta = 'GATK'\n",
        "    print(f\"Profundidade de cobertura: {profundidade_media}x. Usando a ferramenta: {ferramenta}\")\n",
        "elif 15 <= profundidade_media <= 29:\n",
        "    ferramenta = 'FreeBayes'\n",
        "    print(f\"Profundidade de cobertura: {profundidade_media}x. Usando a ferramenta: {ferramenta}\")\n",
        "else:\n",
        "    print(f\"Alerta: Baixa profundidade de cobertura ({profundidade_media}x). Considere revisar os dados.\")"
      ],
      "metadata": {
        "colab": {
          "base_uri": "https://localhost:8080/"
        },
        "id": "eiJ8aYNbYI2x",
        "outputId": "05892b1e-663e-4026-c103-e9592b399d83"
      },
      "execution_count": null,
      "outputs": [
        {
          "output_type": "stream",
          "name": "stdout",
          "text": [
            "Profundidade de cobertura: 25x. Usando a ferramenta: FreeBayes\n"
          ]
        }
      ]
    },
    {
      "cell_type": "markdown",
      "source": [
        "Em Python, não existe uma declaração **switch** diretamente como em algumas outras linguagens de programação (como C++, Java, etc.).\n",
        "\n",
        "No entanto, Python oferece outras maneiras de implementar a mesma lógica de um switch de forma clara e eficiente. As formas mais comuns são usando a estrutura `if-elif-else` que já estamos praticando, ou utilizando dicionários para mapear valores a ações (o que pode ser muito elegante em certos casos).\n",
        "\n",
        "- Usando `if-elif-else (a maneira mais comum)`:\n",
        "\n",
        "Como vimos nos exercícios, a cadeia `if-elif-else` permite verificar múltiplas condições em sequência. Essa é a forma mais idiomática e geralmente a mais legível para implementar lógica de \"escolha múltipla\" em Python."
      ],
      "metadata": {
        "id": "pxv-ryf9YvaB"
      }
    },
    {
      "cell_type": "code",
      "source": [
        "tipo_rna = \"mRNA\"\n",
        "\n",
        "if tipo_rna == \"mRNA\":\n",
        "  print(\"RNA mensageiro\")\n",
        "elif tipo_rna == \"tRNA\":\n",
        "  print(\"RNA transportador\")\n",
        "elif tipo_rna == \"rRNA\":\n",
        "  print(\"RNA ribossômico\")\n",
        "else:\n",
        "  print(\"Tipo de RNA desconhecido\")"
      ],
      "metadata": {
        "colab": {
          "base_uri": "https://localhost:8080/"
        },
        "id": "eeSrHCBdY8cs",
        "outputId": "56abaef4-e7dc-49c9-cf17-a8ed2a488722"
      },
      "execution_count": null,
      "outputs": [
        {
          "output_type": "stream",
          "name": "stdout",
          "text": [
            "RNA mensageiro\n"
          ]
        }
      ]
    },
    {
      "cell_type": "code",
      "source": [
        "tipo_rna = \"mRNA\"\n",
        "\n",
        "match tipo_rna:\n",
        "  case \"mRNA\":\n",
        "    print(\"RNA mensageiro\")\n",
        "  case \"tRNA\":\n",
        "    print(\"RNA transportador\")\n",
        "  case \"rRNA\":\n",
        "    print(\"RNA ribossômico\")\n",
        "  case _:\n",
        "    print(\"Tipo de RNA desconhecido\")"
      ],
      "metadata": {
        "id": "F4HAEDlgQBvA",
        "outputId": "db18dacc-7c15-41b5-8be5-2e5d626f2d21",
        "colab": {
          "base_uri": "https://localhost:8080/"
        }
      },
      "execution_count": null,
      "outputs": [
        {
          "output_type": "stream",
          "name": "stdout",
          "text": [
            "RNA mensageiro\n"
          ]
        }
      ]
    },
    {
      "cell_type": "markdown",
      "source": [
        "- Usando Dicionários (para casos mais específicos):\n",
        "\n",
        "Quando você tem um valor que precisa ser comparado com várias opções e cada opção leva a uma ação específica (como uma função a ser chamada ou um valor a ser retornado), um dicionário pode ser uma alternativa interessante e, às vezes, mais concisa."
      ],
      "metadata": {
        "id": "yd0_00ufZB1O"
      }
    },
    {
      "cell_type": "code",
      "source": [
        "def processar_mRNA():\n",
        "  print(\"Processando mRNA...\")\n",
        "\n",
        "def processar_tRNA():\n",
        "  print(\"Processando tRNA...\")\n",
        "\n",
        "def processar_rRNA():\n",
        "  print(\"Processando rRNA...\")\n",
        "\n",
        "processadores_rna = {\n",
        "  \"mRNA\": processar_mRNA,\n",
        "  \"tRNA\": processar_tRNA,\n",
        "  \"rRNA\": processar_rRNA\n",
        "}\n",
        "\n",
        "tipo_rna = \"tRNA\"\n",
        "\n",
        "processador = processadores_rna.get(tipo_rna) # O .get() evita erros se a chave não existir\n",
        "if processador:\n",
        "  #print(processador)\n",
        "  processador()\n",
        "else:\n",
        "  print(\"Tipo de RNA não reconhecido para processamento.\")"
      ],
      "metadata": {
        "colab": {
          "base_uri": "https://localhost:8080/"
        },
        "id": "a-HfftZ6ZGul",
        "outputId": "cae6e2f5-a306-4fd8-ac89-9dbee05c56a6"
      },
      "execution_count": null,
      "outputs": [
        {
          "output_type": "stream",
          "name": "stdout",
          "text": [
            "Processando tRNA...\n"
          ]
        }
      ]
    },
    {
      "cell_type": "markdown",
      "source": [
        "# Estruturas de repetição"
      ],
      "metadata": {
        "id": "QIIlWIm9eLdS"
      }
    },
    {
      "cell_type": "markdown",
      "source": [
        "Você está analisando uma longa sequência de DNA com milhares de nucleotídeos (A, T, C, G). Se você quisesse contar quantas vezes a base 'A' aparece nessa sequência, você poderia, teoricamente, verificar cada posição manualmente. Mas isso seria extremamente demorado e propenso a erros, concorda?\n",
        "\n",
        "As **estruturas de repetição** são úteis neste contexto. Elas nos permitem automatizar essa tarefa, dizendo ao computador para percorrer cada elemento da sequência e verificar se ele corresponde à base 'A'. Isso não só economiza um tempo precioso na bioinformática, ao lidarmos com quantidades massivas de dados, mas também torna a análise muito mais precisa e eficiente.\n",
        "\n",
        "**Outro exemplo:** pense em um experimento de expressão gênica onde você tem dados para milhares de genes em diferentes condições. Para encontrar os genes que são significativamente superexpressos em uma determinada condição, você precisaria comparar o nível de expressão de cada gene com um certo limiar. Uma estrutura de repetição permite que você faça essa comparação para todos os genes de forma rápida e automatizada.\n",
        "\n",
        "Em resumo, as **estruturas de repetição** são ferramentas poderosas que nos permitem realizar **tarefas repetitivas** de maneira eficiente e precisa, o que é essencial para a análise de dados complexos. Sem elas, muitas das análises que fazemos hoje seriam praticamente impossíveis de realizar em um tempo razoável."
      ],
      "metadata": {
        "id": "QqqCWA3XeREH"
      }
    },
    {
      "cell_type": "markdown",
      "source": [
        "**Definição:**\n",
        "Em programação, uma **estrutura de repetição** (ou ***loop***) é um comando que permite executar um **bloco de código** repetidamente, até que uma determinada **condição** seja satisfeita. Pense nisso como dar uma instrução ao computador para fazer algo várias vezes sem que você precise escrever o mesmo código repetidamente."
      ],
      "metadata": {
        "id": "D_I5t-13fqQy"
      }
    },
    {
      "cell_type": "markdown",
      "source": [
        "**Laços Definidos**\n",
        "\n",
        "Um **laço definido** é aquele em que o número de vezes que o bloco de código dentro do laço será executado é conhecido *antes* do laço começar. Em outras palavras, sabemos de antemão quantas iterações o laço fará.\n",
        "\n",
        "**Características dos Laços Definidos:**\n",
        "\n",
        "* O número de iterações é determinado antes do início do laço.\n",
        "* Geralmente usados para percorrer coleções de itens.\n",
        "* Em Python, o `for` (na iteração sobre sequências) é o principal exemplo.\n",
        "\n",
        "**Laços Indefinidos (Indefinite Loops)**\n",
        "\n",
        "Um **laço indefinido** é aquele em que o número de vezes que o bloco de código será executado não é conhecido *antes* do laço começar. A execução do laço continua até que uma determinada condição se torne falsa.\n",
        "\n",
        "**Características dos Laços Indefinidos:**\n",
        "\n",
        "* O número de iterações não é fixo e depende de uma condição.\n",
        "* Continuam a executar até que uma condição específica seja atendida (ou não atendida).\n",
        "* Em Python, o `while` loop é o principal exemplo.\n",
        "* É crucial garantir que a condição do laço `while` eventualmente se torne falsa para evitar **laços infinitos**.\n",
        "\n",
        "Em resumo, a principal diferença é se você sabe de antemão quantas vezes o laço vai rodar (definido) ou se a execução depende de uma condição que pode levar um número desconhecido de iterações para ser satisfeita (indefinido)."
      ],
      "metadata": {
        "id": "ijwmfYjcnMbT"
      }
    },
    {
      "cell_type": "markdown",
      "source": [
        "Em Python, existem principalmente dois tipos de estruturas de repetição:\n",
        "\n",
        "- `for`: É usado para iterar sobre uma sequência (como uma lista, uma string ou um intervalo de números) ou outros objetos iteráveis. Ele executa o bloco de código para cada item da sequência. Você tem uma lista de sequências de proteínas e quer aplicar uma função a cada uma delas. O `for` é perfeito para isso, pois ele pega cada sequência da lista, uma por vez, e executa o código que você definiu.\n",
        "\n",
        "- `while`: É usado para executar um bloco de código enquanto uma determinada condição for verdadeira. Ele continua repetindo o bloco de código até que a condição se torne falsa. Pense em um experimento de simulação onde você quer que ele continue rodando até que um certo número de passos seja alcançado ou até que uma determinada variável atinja um valor específico. O `while` loop é ideal para situações onde você não sabe de antemão quantas vezes o laço precisará ser executado."
      ],
      "metadata": {
        "id": "qruw1roSf3zT"
      }
    },
    {
      "cell_type": "markdown",
      "source": [
        "A ideia central por trás das estruturas de repetição é a **iteração**. Iterar significa percorrer os elementos de uma coleção (no caso do `for`) ou repetir um processo (no caso do `while`).\n",
        "\n",
        "No caso do `while`, é crucial ter uma **condição de parada**. Essa condição é uma expressão *booleana* (verdadeira ou falsa) que é verificada no início de cada iteração. Se a condição for falsa, o laço é encerrado e o programa continua a execução após o bloco de código do laço. Se você não definir uma condição de parada que eventualmente se torne falsa, você criará um **laço infinito**, que fará seu programa rodar para sempre (ou até ser interrompido manualmente).\n",
        "\n",
        "No caso do `for`, a repetição acontece para cada elemento da sequência que você está iterando. O laço termina automaticamente quando todos os elementos da sequência foram processados."
      ],
      "metadata": {
        "id": "6ZuTyBnYgP6R"
      }
    },
    {
      "cell_type": "markdown",
      "source": [
        "**Sintaxe**\n",
        "\n",
        "**1. `for`:**\n",
        "\n",
        "A sintaxe básica do `for` em Python é a seguinte:"
      ],
      "metadata": {
        "id": "H6Zw0vYsg4TT"
      }
    },
    {
      "cell_type": "code",
      "source": [
        "for elemento in sequencia:\n",
        "    # Bloco de código a ser executado para cada elemento\n",
        "    # Você pode usar a variável 'elemento' dentro deste bloco"
      ],
      "metadata": {
        "id": "chEDrlUXg-QW"
      },
      "execution_count": null,
      "outputs": []
    },
    {
      "cell_type": "markdown",
      "source": [
        "* **`for`:** Palavra-chave que indica o início do loop `for`.\n",
        "* **`elemento`:** Uma variável que assume o valor de cada item na `sequencia` durante cada iteração do laço. Você pode escolher qualquer nome significativo para essa variável.\n",
        "* **`in`:** Palavra-chave que indica que estamos iterando sobre os elementos da `sequencia`.\n",
        "* **`sequencia`:** Pode ser uma lista, uma string, uma tupla, um dicionário (iterando sobre as chaves por padrão), um conjunto ou qualquer outro objeto iterável.\n",
        "* **`:`:** Indica o fim da linha de cabeçalho do laço.\n",
        "* **Bloco de código indentado:** As instruções que serão executadas repetidamente para cada `elemento` na `sequencia`. A indentação (geralmente 4 espaços ou um tab) é crucial em Python para definir o bloco de código pertencente ao laço.\n",
        "\n",
        "**Exemplos de iteração com `for`:**\n",
        "\n",
        "* **Iterando sobre uma lista de sequências de DNA:**"
      ],
      "metadata": {
        "id": "bEJc62IChEGi"
      }
    },
    {
      "cell_type": "code",
      "source": [
        "sequencias = [\"ATGC\", \"CGTA\", \"TTTT\"]\n",
        "for seq in sequencias:\n",
        "    print(\"Sequência:\", seq)"
      ],
      "metadata": {
        "colab": {
          "base_uri": "https://localhost:8080/"
        },
        "id": "UZZ4t_bKhSiV",
        "outputId": "bdbcbdba-caf8-4d07-cff3-7981e08ff208"
      },
      "execution_count": null,
      "outputs": [
        {
          "output_type": "stream",
          "name": "stdout",
          "text": [
            "Sequência: ATGC\n",
            "Sequência: CGTA\n",
            "Sequência: TTTT\n"
          ]
        }
      ]
    },
    {
      "cell_type": "markdown",
      "source": [
        "* **Iterando sobre uma string (cada caractere):**"
      ],
      "metadata": {
        "id": "O1pZMJ1khbRB"
      }
    },
    {
      "cell_type": "code",
      "source": [
        "dna = \"AGCT\"\n",
        "for base in dna:\n",
        "    print(\"Base:\", base)"
      ],
      "metadata": {
        "colab": {
          "base_uri": "https://localhost:8080/"
        },
        "id": "e7mhxDsyhbwj",
        "outputId": "68a57e99-fc33-4b52-e5d5-730637ecd27b"
      },
      "execution_count": null,
      "outputs": [
        {
          "output_type": "stream",
          "name": "stdout",
          "text": [
            "Base: A\n",
            "Base: G\n",
            "Base: C\n",
            "Base: T\n"
          ]
        }
      ]
    },
    {
      "cell_type": "markdown",
      "source": [
        "* **Iterando sobre um dicionário (chaves):**"
      ],
      "metadata": {
        "id": "cmjtVb2Fhfno"
      }
    },
    {
      "cell_type": "code",
      "source": [
        "tamanhos = {\"geneA\": 1500, \"geneB\": 2200, \"geneC\": 950}\n",
        "for gene in tamanhos:\n",
        "    print(t)\n",
        "    print(\"Gene:\", gene)\n",
        "    print(\"Tamanho:\", tamanhos[gene])"
      ],
      "metadata": {
        "colab": {
          "base_uri": "https://localhost:8080/"
        },
        "id": "I9EiReNFhice",
        "outputId": "97c539d9-f02d-41a3-881b-a51648e8af43"
      },
      "execution_count": null,
      "outputs": [
        {
          "output_type": "stream",
          "name": "stdout",
          "text": [
            "950\n",
            "Gene: geneA\n",
            "Tamanho: 1500\n",
            "950\n",
            "Gene: geneB\n",
            "Tamanho: 2200\n",
            "950\n",
            "Gene: geneC\n",
            "Tamanho: 950\n"
          ]
        }
      ]
    },
    {
      "cell_type": "code",
      "source": [
        "tamanhos = {\"geneA\": 1500, \"geneB\": 2200, \"geneC\": 950}\n",
        "for c,v in tamanhos.items():\n",
        "    print(c,v)\n"
      ],
      "metadata": {
        "colab": {
          "base_uri": "https://localhost:8080/"
        },
        "id": "CkL0FACxy1A6",
        "outputId": "4c6d29f9-7ced-4caf-9d19-cc42bbebfd86"
      },
      "execution_count": null,
      "outputs": [
        {
          "output_type": "stream",
          "name": "stdout",
          "text": [
            "geneA 1500\n",
            "geneB 2200\n",
            "geneC 950\n"
          ]
        }
      ]
    },
    {
      "cell_type": "markdown",
      "source": [
        "* **Usando a função `range()` para iterar sobre um intervalo de números:**"
      ],
      "metadata": {
        "id": "0rips41BhuXn"
      }
    },
    {
      "cell_type": "code",
      "source": [
        "for i in range(5):  # Itera de 0 a 4\n",
        "    print(\"Número:\", i)\n",
        "print()\n",
        "\n",
        "for i in range(2, 7):  # Itera de 2 a 6\n",
        "    print(\"Número:\", i)\n",
        "print()\n",
        "\n",
        "for i in range(0, 10, 2):  # Itera de 0 a 9 com passo de 2 (0, 2, 4, 6, 8)\n",
        "    print(\"Número par:\", i)"
      ],
      "metadata": {
        "colab": {
          "base_uri": "https://localhost:8080/"
        },
        "id": "o0fsGDcehwiH",
        "outputId": "e161000e-2a66-48af-a909-aeba1674e1f6"
      },
      "execution_count": null,
      "outputs": [
        {
          "output_type": "stream",
          "name": "stdout",
          "text": [
            "Número: 0\n",
            "Número: 1\n",
            "Número: 2\n",
            "Número: 3\n",
            "Número: 4\n",
            "\n",
            "Número: 2\n",
            "Número: 3\n",
            "Número: 4\n",
            "Número: 5\n",
            "Número: 6\n",
            "\n",
            "Número par: 0\n",
            "Número par: 2\n",
            "Número par: 4\n",
            "Número par: 6\n",
            "Número par: 8\n"
          ]
        }
      ]
    },
    {
      "cell_type": "markdown",
      "source": [
        "**2. `while` loop:**\n",
        "\n",
        "A sintaxe básica do `while` loop em Python é:"
      ],
      "metadata": {
        "id": "m4V805rth8Vz"
      }
    },
    {
      "cell_type": "code",
      "source": [
        "while condicao:\n",
        "    # Bloco de código a ser executado enquanto a 'condicao' for True\n",
        "    # É importante que algo dentro do bloco de código eventualmente\n",
        "    # torne a 'condicao' False para evitar um loop infinito."
      ],
      "metadata": {
        "id": "CCjv3BeFh8yp"
      },
      "execution_count": null,
      "outputs": []
    },
    {
      "cell_type": "markdown",
      "source": [
        "* **`while`:** Palavra-chave que indica o início do loop `while`.\n",
        "* **`condicao`:** Uma expressão booleana que é avaliada no início de cada iteração. Se for `True`, o bloco de código é executado. Se for `False`, o loop termina.\n",
        "* **`:`:** Indica o fim da linha de cabeçalho do loop.\n",
        "* **Bloco de código indentado:** As instruções que serão executadas repetidamente enquanto a `condicao` for verdadeira. É crucial que este bloco contenha alguma lógica que eventualmente modifique as variáveis envolvidas na `condicao`, de modo que ela se torne `False` em algum ponto.\n",
        "\n",
        "**Exemplo de iteração com `while`:**"
      ],
      "metadata": {
        "id": "fm4CV9Vyh_rO"
      }
    },
    {
      "cell_type": "code",
      "source": [
        "contador = 0\n",
        "while contador < 5:\n",
        "    print(\"Contador:\", contador)\n",
        "    contador += 1  # Incrementa o contador para eventualmente tornar a condição False"
      ],
      "metadata": {
        "colab": {
          "base_uri": "https://localhost:8080/"
        },
        "id": "RNfXztWkiCUN",
        "outputId": "fd1e648e-46a9-46ce-bced-d1642ef60a3a"
      },
      "execution_count": null,
      "outputs": [
        {
          "output_type": "stream",
          "name": "stdout",
          "text": [
            "Contador: 0\n",
            "Contador: 1\n",
            "Contador: 2\n",
            "Contador: 3\n",
            "Contador: 4\n"
          ]
        }
      ]
    },
    {
      "cell_type": "code",
      "source": [
        "resposta = \"\"\n",
        "while resposta != \"sim\":\n",
        "    resposta = input(\"Você entendeu? (sim/não): \").lower()\n",
        "print(\"Ótimo!\")"
      ],
      "metadata": {
        "colab": {
          "base_uri": "https://localhost:8080/"
        },
        "id": "k0wMT9Qho0WU",
        "outputId": "596dcd23-0e7c-49d8-b485-6f47fd276f44"
      },
      "execution_count": null,
      "outputs": [
        {
          "output_type": "stream",
          "name": "stdout",
          "text": [
            "Você entendeu? (sim/não): sim\n",
            "Ótimo!\n"
          ]
        }
      ]
    },
    {
      "cell_type": "markdown",
      "source": [
        "Aqui, o `while` continua pedindo a resposta do usuário até que ele digite \"sim\". O número de vezes que o laço roda é indefinido até que a condição seja satisfeita."
      ],
      "metadata": {
        "id": "DyZeDYpPo5VE"
      }
    },
    {
      "cell_type": "markdown",
      "source": [
        "**3. `break` e `continue`:**\n",
        "\n",
        "Dentro de um laço (`for` ou `while`), podemos usar as declarações `break` e `continue` para controlar o fluxo da execução:\n",
        "\n",
        "* **`break`:** Termina imediatamente o loop e a execução continua na próxima instrução após o loop."
      ],
      "metadata": {
        "id": "1F9RUYkeiI0W"
      }
    },
    {
      "cell_type": "code",
      "source": [
        "dna = \"ATATGGACGGTAGCAGTGACXGTAGCAGTGAAATGACGCG\"\n",
        "for base in dna:\n",
        "    if base not in {\"A\", \"C\", \"T\", \"G\"}:\n",
        "        print(f\"Encontrei um {base}! Abandonando o laço...\")\n",
        "        break\n",
        "    print(\"Base:\", base)"
      ],
      "metadata": {
        "colab": {
          "base_uri": "https://localhost:8080/"
        },
        "id": "kFNIX45ziLg3",
        "outputId": "905ca447-2c8b-42b6-800d-afaefa724f27"
      },
      "execution_count": null,
      "outputs": [
        {
          "output_type": "stream",
          "name": "stdout",
          "text": [
            "Base: A\n",
            "Base: T\n",
            "Base: A\n",
            "Base: T\n",
            "Base: G\n",
            "Base: G\n",
            "Base: A\n",
            "Base: C\n",
            "Base: G\n",
            "Base: G\n",
            "Base: T\n",
            "Base: A\n",
            "Base: G\n",
            "Base: C\n",
            "Base: A\n",
            "Base: G\n",
            "Base: T\n",
            "Base: G\n",
            "Base: A\n",
            "Base: C\n",
            "Encontrei um X! Abandonando o laço...\n"
          ]
        }
      ]
    },
    {
      "cell_type": "markdown",
      "source": [
        "* **`continue`:** Interrompe a iteração atual do loop e passa para a próxima iteração. O código restante dentro do bloco do loop para a iteração atual é ignorado."
      ],
      "metadata": {
        "id": "kDpeyqKUinTB"
      }
    },
    {
      "cell_type": "code",
      "source": [
        "dna = \"ATATGGACGGTAGCAGTGACXGTAGCAGTGAAATGACGCG\"\n",
        "\n",
        "for i, base in enumerate(dna):\n",
        "    if base not in {\"A\", \"C\", \"T\", \"G\"}:\n",
        "        print(f\"Encontrei um {base}! Ignorando a base não padrão...\")\n",
        "        continue\n",
        "    print(\"Base:\", base, \"Posição:\", i+1)"
      ],
      "metadata": {
        "colab": {
          "base_uri": "https://localhost:8080/"
        },
        "id": "AeY4Szqqin6F",
        "outputId": "9bdc6c8d-c92e-41d8-9f82-d51108b7a643"
      },
      "execution_count": null,
      "outputs": [
        {
          "output_type": "stream",
          "name": "stdout",
          "text": [
            "Base: A Posição: 1\n",
            "Base: T Posição: 2\n",
            "Base: A Posição: 3\n",
            "Base: T Posição: 4\n",
            "Base: G Posição: 5\n",
            "Base: G Posição: 6\n",
            "Base: A Posição: 7\n",
            "Base: C Posição: 8\n",
            "Base: G Posição: 9\n",
            "Base: G Posição: 10\n",
            "Base: T Posição: 11\n",
            "Base: A Posição: 12\n",
            "Base: G Posição: 13\n",
            "Base: C Posição: 14\n",
            "Base: A Posição: 15\n",
            "Base: G Posição: 16\n",
            "Base: T Posição: 17\n",
            "Base: G Posição: 18\n",
            "Base: A Posição: 19\n",
            "Base: C Posição: 20\n",
            "Encontrei um X! Ignorando a base não padrão...\n",
            "Base: G Posição: 22\n",
            "Base: T Posição: 23\n",
            "Base: A Posição: 24\n",
            "Base: G Posição: 25\n",
            "Base: C Posição: 26\n",
            "Base: A Posição: 27\n",
            "Base: G Posição: 28\n",
            "Base: T Posição: 29\n",
            "Base: G Posição: 30\n",
            "Base: A Posição: 31\n",
            "Base: A Posição: 32\n",
            "Base: A Posição: 33\n",
            "Base: T Posição: 34\n",
            "Base: G Posição: 35\n",
            "Base: A Posição: 36\n",
            "Base: C Posição: 37\n",
            "Base: G Posição: 38\n",
            "Base: C Posição: 39\n",
            "Base: G Posição: 40\n"
          ]
        }
      ]
    },
    {
      "cell_type": "markdown",
      "source": [
        "Para cada uma das seguintes situações, diga se você usaria um `for` ou um `while` e explique brevemente o porquê:\n",
        "\n",
        "1. Ler cada linha de um arquivo de dados genômicos que contém um número desconhecido de linhas.\n",
        "2. Iterar sobre todos os genes em uma lista predefinida para verificar se eles pertencem a uma determinada via metabólica.\n",
        "3. Simular a evolução de uma população de vírus até que ela atinja um determinado tamanho."
      ],
      "metadata": {
        "id": "vWfZrVJyjGuo"
      }
    },
    {
      "cell_type": "markdown",
      "source": [
        "**Respostas**\n",
        "\n",
        "**1. Ler cada linha de um arquivo de dados genômicos que contém um número desconhecido de linhas.**\n",
        "\n",
        "- **Resposta**: `while`.\n",
        "- **Justificativa**: Não sabemos de antemão quantas linhas o arquivo contém. Usamos um `while` que continua a ler as linhas até que o final do arquivo seja alcançado. A condição de parada seria algo como \"enquanto ainda houver linhas para ler\".\n",
        "\n",
        "**2. Iterar sobre todos os genes em uma lista predefinida para verificar se eles pertencem a uma determinada via metabólica.**\n",
        "\n",
        "- **Resposta**: `for`.\n",
        "- **Justificativa**: Temos uma lista de genes, que é uma sequência bem definida.\n",
        "\n",
        "**3. Simular a evolução de uma população de vírus até que ela atinja um determinado tamanho.**\n",
        "\n",
        "- **Resposta**: `while`.\n",
        "- **Justificativa**: Não sabemos quantas etapas de simulação serão necessárias para que a população de vírus atinja o tamanho desejado. A condição de parada do `while` seria \"enquanto o tamanho da população for menor que o tamanho alvo\". O laço continuará a simulação até que essa condição se torne falsa."
      ],
      "metadata": {
        "id": "T08qNiwojkPX"
      }
    },
    {
      "cell_type": "markdown",
      "source": [
        "**Exercícios**\n",
        "\n",
        "**Exercício 1: Contagem de Nucleotídeos**\n",
        "\n",
        "**Problema:** Dada uma sequência de DNA, escreva um código que conte a frequência de cada nucleotídeo (A, T, C, G).\n",
        "\n",
        "**Solução:**"
      ],
      "metadata": {
        "id": "1-JkLQZQkgWV"
      }
    },
    {
      "cell_type": "code",
      "source": [
        "sequencia_dna = \"AXTGCGTAGJKKKLC\"\n",
        "#contagem = {'A': 0, 'T': 0, 'C': 0, 'G': 0}\n",
        "contagem = {}\n",
        "\n",
        "for base in sequencia_dna:\n",
        "    if base in contagem:\n",
        "        contagem[base] += 1\n",
        "    else:\n",
        "        contagem[base] = 1\n",
        "\n",
        "print(\"Contagem de nucleotídeos:\", contagem)"
      ],
      "metadata": {
        "colab": {
          "base_uri": "https://localhost:8080/"
        },
        "id": "W5WUf_C6kpOD",
        "outputId": "93322e1f-281e-4115-b922-76bbe4f79329"
      },
      "execution_count": null,
      "outputs": [
        {
          "output_type": "stream",
          "name": "stdout",
          "text": [
            "Contagem de nucleotídeos: {'A': 2, 'X': 1, 'T': 2, 'G': 3, 'C': 2, 'J': 1, 'K': 3, 'L': 1}\n"
          ]
        }
      ]
    },
    {
      "cell_type": "markdown",
      "source": [
        "**Exercício 2: Complemento Reverso de uma Sequência de DNA**\n",
        "\n",
        "**Problema:** Dada uma sequência de DNA, escreva um código que retorne o seu complemento reverso. O complemento de 'A' é 'T', 'T' é 'A', 'C' é 'G' e 'G' é 'C'. O reverso é a sequência na ordem inversa.\n",
        "\n",
        "**Solução:**"
      ],
      "metadata": {
        "id": "6dHgKFEjkt-y"
      }
    },
    {
      "cell_type": "code",
      "source": [
        "sequencia_dna = \"ATGC\"\n",
        "complemento = {'A': 'T', 'T': 'A', 'C': 'G', 'G': 'C'}\n",
        "complemento_reverso = \"\"\n",
        "\n",
        "for base in sequencia_dna[::-1]:\n",
        "    print(sequencia_dna[::-1],\"|\",complemento_reverso,\"|\",sep='')\n",
        "    complemento_reverso += complemento[base]\n",
        "\n",
        "print(\"Sequência original:\", sequencia_dna)\n",
        "print(\"Complemento reverso:\", complemento_reverso)"
      ],
      "metadata": {
        "colab": {
          "base_uri": "https://localhost:8080/"
        },
        "id": "H1nXSAZLkxO6",
        "outputId": "d72446e3-699c-4f16-b303-0aa2ed25e388"
      },
      "execution_count": null,
      "outputs": [
        {
          "output_type": "stream",
          "name": "stdout",
          "text": [
            "CGTA||\n",
            "CGTA|G|\n",
            "CGTA|GC|\n",
            "CGTA|GCA|\n",
            "Sequência original: ATGC\n",
            "Complemento reverso: GCAT\n"
          ]
        }
      ]
    },
    {
      "cell_type": "markdown",
      "source": [
        "**Exercício 3: Filtrando Sequências de Proteínas por Tamanho**\n",
        "\n",
        "**Problema:** Dada uma lista de sequências de proteínas e um tamanho mínimo, filtre a lista para incluir apenas as sequências que têm um comprimento maior ou igual ao tamanho mínimo.\n",
        "\n",
        "**Solução:**"
      ],
      "metadata": {
        "id": "AtQeU4ES9SjK"
      }
    },
    {
      "cell_type": "code",
      "source": [
        "sequencias_proteinas = [\"MVSA\", \"MKLLPV\", \"M\", \"MKKLL\"]\n",
        "tamanho_minimo = 4\n",
        "tamanho_maximo = 50\n",
        "sequencias_filtradas = []\n",
        "\n",
        "for seq in sequencias_proteinas:\n",
        "    if 5 <= len(seq) <= tamanho_maximo:\n",
        "        sequencias_filtradas.append(seq)\n",
        "\n",
        "print(\"Sequências de proteínas originais:\", sequencias_proteinas)\n",
        "print(\"Sequências filtradas (tamanho mínimo: \", tamanho_minimo, \"):\", sequencias_filtradas, sep=\"\")"
      ],
      "metadata": {
        "colab": {
          "base_uri": "https://localhost:8080/"
        },
        "id": "jG40eG95k8Pd",
        "outputId": "26db94fa-f813-4cdb-9d52-07a06d66f634"
      },
      "execution_count": null,
      "outputs": [
        {
          "output_type": "stream",
          "name": "stdout",
          "text": [
            "Sequências de proteínas originais: ['MVSA', 'MKLLPV', 'M', 'MKKLL']\n",
            "Sequências filtradas (tamanho mínimo: 4):['MKLLPV', 'MKKLL']\n"
          ]
        }
      ]
    },
    {
      "cell_type": "markdown",
      "source": [
        "**Exercício 4: Encontrando um Motivo em Sequências de DNA**\n",
        "\n",
        "**Problema:** Dada uma sequência de DNA e um motivo (uma pequena sequência), escreva um código que diga se o motivo foi encontrado na sequência e, se sim, em qual posição (índice) da primeira ocorrência.\n",
        "\n",
        "**Solução:**"
      ],
      "metadata": {
        "id": "uGyduDDflz7B"
      }
    },
    {
      "cell_type": "code",
      "source": [
        "sequencia_dna = \"ATGCGTAGC\"\n",
        "motivo = \"GC\"\n",
        "motivo_encontrado = False\n",
        "posicao = -1\n",
        "\n",
        "print(sequencia_dna)\n",
        "for i in range(len(sequencia_dna) - len(motivo) + 1):\n",
        "    subsequencia = sequencia_dna[i:i+len(motivo)]\n",
        "    print(subsequencia)\n",
        "    if subsequencia == motivo:\n",
        "        motivo_encontrado = True\n",
        "        posicao = i\n",
        "        break  # Paramos no primeiro encontro\n",
        "\n",
        "if motivo_encontrado:\n",
        "    print(f\"O motivo '{motivo}' foi encontrado na posição {posicao}.\")\n",
        "else:\n",
        "    print(f\"O motivo '{motivo}' não foi encontrado na sequência.\")"
      ],
      "metadata": {
        "colab": {
          "base_uri": "https://localhost:8080/"
        },
        "id": "0_b5IEwol41Z",
        "outputId": "22818145-034e-4221-9a0f-64bbad36c329"
      },
      "execution_count": null,
      "outputs": [
        {
          "output_type": "stream",
          "name": "stdout",
          "text": [
            "ATGCGTAGC\n",
            "AT\n",
            "TG\n",
            "GC\n",
            "O motivo 'GC' foi encontrado na posição 2.\n"
          ]
        }
      ]
    },
    {
      "cell_type": "markdown",
      "source": [
        "**Exercício 5: Comparando Duas Sequências de DNA**\n",
        "\n",
        "**Problema:** Dadas duas sequências de DNA de mesmo comprimento, compare-as e conte quantos nucleotídeos são iguais na mesma posição.\n",
        "\n",
        "**Solução:**"
      ],
      "metadata": {
        "id": "tkas74MOmkwQ"
      }
    },
    {
      "cell_type": "code",
      "source": [
        "sequencia1 = \"ATGC\"\n",
        "sequencia2 = \"AAGC\"\n",
        "matches = 0\n",
        "\n",
        "if len(sequencia1) == len(sequencia2):\n",
        "    for i in range(len(sequencia1)):\n",
        "        if sequencia1[i] == sequencia2[i]:\n",
        "            matches += 1\n",
        "    print(f\"Número de matches entre '{sequencia1}' e '{sequencia2}': {matches}\")\n",
        "else:\n",
        "    print(\"As sequências têm comprimentos diferentes e não podem ser comparadas diretamente.\")"
      ],
      "metadata": {
        "colab": {
          "base_uri": "https://localhost:8080/"
        },
        "id": "LYrbx3x-mnok",
        "outputId": "f614aa01-d48d-46e3-e949-78a518416422"
      },
      "execution_count": null,
      "outputs": [
        {
          "output_type": "stream",
          "name": "stdout",
          "text": [
            "Número de matches entre 'ATGC' e 'AAGC': 3\n"
          ]
        }
      ]
    },
    {
      "cell_type": "markdown",
      "source": [
        "**Exercício 6: Encontrando Genes com Alta Expressão**\n",
        "\n",
        "**Problema:** Dada uma lista de valores de expressão gênica para diferentes genes em uma condição, identifique os genes que têm um nível de expressão acima de um certo limiar. Assuma que a ordem na lista corresponde à ordem dos genes (por exemplo, o primeiro valor é para o gene 1, o segundo para o gene 2, etc.).\n",
        "\n",
        "**Solução:**"
      ],
      "metadata": {
        "id": "0jCt_avQmteU"
      }
    },
    {
      "cell_type": "code",
      "source": [
        "expressoes_genicas = [1.2, 3.5, 0.8, 4.1, 2.9]\n",
        "limiar = 3.0\n",
        "genes_altamente_expressos = []\n",
        "\n",
        "for i in range(len(expressoes_genicas)):\n",
        "    if expressoes_genicas[i] > limiar:\n",
        "        numero_gene = i + 1  # Adicionamos 1 porque os índices começam em 0\n",
        "        genes_altamente_expressos.append(numero_gene)\n",
        "\n",
        "if genes_altamente_expressos:\n",
        "    print(f\"Genes com expressão acima de {limiar}: {genes_altamente_expressos}\")\n",
        "else:\n",
        "    print(f\"Nenhum gene teve expressão acima de {limiar}.\")"
      ],
      "metadata": {
        "colab": {
          "base_uri": "https://localhost:8080/"
        },
        "id": "9jyUL9cXmxNf",
        "outputId": "f33faee3-5c44-4146-ff85-8b4fe7e59f69"
      },
      "execution_count": null,
      "outputs": [
        {
          "output_type": "stream",
          "name": "stdout",
          "text": [
            "Genes com expressão acima de 3.0: [2, 4]\n"
          ]
        }
      ]
    }
  ]
}